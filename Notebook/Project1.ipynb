{
 "cells": [
  {
   "cell_type": "markdown",
   "metadata": {},
   "source": [
    "## NoteBook for the first project\n",
    "- Je pensais que l'on pouvait essayer de faire ca comme ceci:\n",
    "    - Chacun de nous a un block (peut bien entendu en ajouter en dessous du sien) afin de ne pas avoir trop de conflit lorsque l'on git push\n",
    "        - A tester cette semaine pour voir si c'est ok"
   ]
  },
  {
   "cell_type": "markdown",
   "metadata": {
    "collapsed": true
   },
   "source": [
    "# Stefan's Blocks"
   ]
  },
  {
   "cell_type": "code",
<<<<<<< HEAD
   "execution_count": 10,
=======
   "execution_count": 100,
>>>>>>> 6228837b37092da05282595585b6834904274e73
   "metadata": {},
   "outputs": [
    {
     "name": "stdout",
     "output_type": "stream",
     "text": [
      "The autoreload extension is already loaded. To reload it, use:\n",
      "  %reload_ext autoreload\n"
     ]
    }
   ],
   "source": [
    "# Useful starting lines\n",
    "%matplotlib inline\n",
    "import numpy as np\n",
    "import matplotlib.pyplot as plt\n",
    "from helpers import *\n",
    "%load_ext autoreload\n",
    "%autoreload 2\n",
    "\n"
   ]
  },
  {
   "cell_type": "code",
<<<<<<< HEAD
   "execution_count": 11,
   "metadata": {
    "collapsed": true
   },
=======
   "execution_count": 101,
   "metadata": {},
>>>>>>> 6228837b37092da05282595585b6834904274e73
   "outputs": [],
   "source": [
    "# Import csv file\n",
    "\n",
    "# Import of train.csv\n",
    "id_train, labels_train, features_train = load_data(\"train.csv\")\n",
    "\n",
    "# Import of test.csv\n",
    "id_test, features_test = load_data(\"test.csv\")"
   ]
  },
  {
   "cell_type": "code",
<<<<<<< HEAD
   "execution_count": 12,
   "metadata": {},
   "outputs": [
    {
     "name": "stdout",
     "output_type": "stream",
     "text": [
      "To test the load of train.csv:\n",
      "\n",
      "(250000,)\n",
      "[ 1 -1 -1 ...,  1 -1 -1]\n",
      "(250000, 30)\n",
      "\n",
      "To test the load of test.csv:\n",
      "\n",
      "(568238,)\n",
      "(568238, 30)\n"
     ]
    }
   ],
=======
   "execution_count": null,
   "metadata": {},
   "outputs": [],
>>>>>>> 6228837b37092da05282595585b6834904274e73
   "source": [
    "# Cell to check if everything is all right for the import\n",
    "print(\"To test the load of train.csv:\\n\")\n",
    "print(id_train.shape)\n",
    "print(labels_train)\n",
    "print(features_train.shape)\n",
    "\n",
    "print(\"\\nTo test the load of test.csv:\\n\")\n",
    "print(id_test.shape)\n",
    "print(features_test.shape)"
   ]
  },
  {
   "cell_type": "code",
<<<<<<< HEAD
   "execution_count": 4,
   "metadata": {
    "collapsed": true
   },
=======
   "execution_count": null,
   "metadata": {},
>>>>>>> 6228837b37092da05282595585b6834904274e73
   "outputs": [],
   "source": [
    "colors = []\n",
    "for t in range(labels_train.shape[0]):\n",
    "    if labels_train[t] == 1:\n",
    "        colors.append('b')\n",
    "    else:\n",
    "        colors.append('r')\n",
    "print(colors)"
   ]
  },
  {
   "cell_type": "code",
<<<<<<< HEAD
   "execution_count": 5,
   "metadata": {
    "collapsed": true
   },
=======
   "execution_count": null,
   "metadata": {},
>>>>>>> 6228837b37092da05282595585b6834904274e73
   "outputs": [],
   "source": [
    "j = 0\n",
    "signal = []\n",
    "background = []\n",
    "\n",
    "for i in labels_train:\n",
    "    if i == 1:\n",
    "        signal.append(features_train[j,:])\n",
    "    else:\n",
    "        background.append(features_train[j,:])\n",
    "    j = j+1"
   ]
  },
  {
   "cell_type": "code",
<<<<<<< HEAD
   "execution_count": 6,
   "metadata": {
    "collapsed": true
   },
   "outputs": [],
   "source": [
    "# Plot one features VS another one\n",
    "def plotFeatVsFeat(f1,f2):\n",
    "    plt.figure()\n",
    "    plt.scatter(features_train[:,f1], features_train[:,f2],color = colors)\n",
    "    plt.show()"
   ]
  },
  {
   "cell_type": "code",
   "execution_count": 7,
   "metadata": {},
   "outputs": [
    {
     "name": "stdout",
     "output_type": "stream",
     "text": [
      "(250000, 19)\n"
     ]
    }
   ],
   "source": [
    "# Find the features that contains at least one times -999.0 and remove this feature\n",
    "features_to_remove = []\n",
    "for f in range(features_train.shape[1]):\n",
    "    if(np.any(features_train[:,f] == -999.0)):\n",
    "        features_to_remove.append(f)\n",
    "\n",
    "features_train_good = np.delete(features_train, features_to_remove, axis=1)\n",
    "print(features_train_good.shape) # In order to see the number of featurer we still have after the deletion (cleaning)\n",
    "\n",
    "# Separate the samples that are labeled as \"sample\" and as \"background\"\n",
    "j = 0\n",
    "signal_good_ind = []\n",
    "background_good_ind = []\n",
    "\n",
    "for i in labels_train:\n",
    "    if i == 1:\n",
    "        signal_good_ind.append(j)\n",
    "    else:\n",
    "        background_good_ind.append(j)\n",
    "    j = j+1\n",
    "\n",
    "signal_good = features_train_good[signal_good_ind,:]\n",
    "background_good = features_train_good[background_good_ind,:]\n",
    "# This was make in order to try to see if one feature give us a good way to separate signal from background\n",
    "\n",
    "    "
   ]
  },
  {
   "cell_type": "markdown",
   "metadata": {},
   "source": [
    "#### Do a cross validation, using the cleaned data set (=features_train_good)"
   ]
  },
  {
   "cell_type": "code",
   "execution_count": 14,
   "metadata": {},
   "outputs": [],
   "source": [
    "from cross_val import *\n",
    "seed = 1\n",
    "degree = 5\n",
    "k_fold = 15\n",
    "lambdas = np.logspace(-6, 1, 40)\n",
    "# split data in k fold\n",
    "k_indices = build_k_indices(labels_train, k_fold, seed)\n",
    "# define lists to store the loss of training data and test data\n",
    "rmse_tr = []\n",
    "rmse_te = []\n",
    "allValidationError = []\n",
    "\n",
    "for l in lambdas:\n",
    "    #rmse_tr_l = []\n",
    "    #rmse_te_l = []\n",
    "    validation_error = 0\n",
    "    for k in range(k_fold):\n",
    "        #rmse_tr_l.append(np.sqrt(2*cross_validation(labels_train, features_train_good, k_indices, k, l, degree)[0]))\n",
    "        #rmse_te_l.append(np.sqrt(2*cross_validation(labels_train, features_train_good, k_indices, k, l, degree)[1]))\n",
    "        validation_error = validation_error + cross_validation(labels_train, features_train_good, k_indices, k, l, degree) # DElete the degree!\n",
    "    allValidationError.append(validation_error/k_fold) # we compute the mean of the validation error\n",
    "    #rmse_tr.append(np.mean(rmse_tr_l))\n",
    "    #rmse_te.append(np.mean(rmse_te_l))\n",
    "    \n",
    "#cross_validation_visualization(lambdas, rmse_tr, rmse_te)\n"
   ]
  },
  {
   "cell_type": "code",
   "execution_count": 15,
   "metadata": {},
   "outputs": [
    {
     "data": {
      "image/png": "iVBORw0KGgoAAAANSUhEUgAAAZYAAAD8CAYAAABU4IIeAAAABHNCSVQICAgIfAhkiAAAAAlwSFlz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\nrgwWSVJX/x84LOPFX2S9WgAAAABJRU5ErkJggg==\n",
      "text/plain": [
       "<matplotlib.figure.Figure at 0x25d03c87160>"
      ]
     },
     "metadata": {},
     "output_type": "display_data"
    }
   ],
   "source": [
    "plt.close(\"all\")\n",
    "plt.plot(lambdas, allValidationError)\n",
    "plt.show()"
   ]
  },
  {
   "cell_type": "code",
   "execution_count": 42,
   "metadata": {},
   "outputs": [
    {
     "name": "stdout",
     "output_type": "stream",
     "text": [
      "0\n"
     ]
    },
    {
     "data": {
      "image/png": "iVBORw0KGgoAAAANSUhEUgAAAYcAAAD8CAYAAACcjGjIAAAABHNCSVQICAgIfAhkiAAAAAlwSFlz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\npni0pwAAAABJRU5ErkJggg==\n",
      "text/plain": [
       "<matplotlib.figure.Figure at 0x1d3990c9eb8>"
      ]
     },
     "metadata": {},
     "output_type": "display_data"
    },
    {
     "name": "stdout",
     "output_type": "stream",
     "text": [
      "2\n"
     ]
    },
    {
     "data": {
      "image/png": "iVBORw0KGgoAAAANSUhEUgAAAYcAAAD8CAYAAACcjGjIAAAABHNCSVQICAgIfAhkiAAAAAlwSFlz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\n",
      "text/plain": [
       "<matplotlib.figure.Figure at 0x1d392d17160>"
      ]
     },
     "metadata": {},
     "output_type": "display_data"
    },
    {
     "name": "stdout",
     "output_type": "stream",
     "text": [
      "5\n"
     ]
    },
    {
     "data": {
      "image/png": "iVBORw0KGgoAAAANSUhEUgAAAYcAAAD8CAYAAACcjGjIAAAABHNCSVQICAgIfAhkiAAAAAlwSFlz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\nLNJUFK27ewAAAABJRU5ErkJggg==\n",
      "text/plain": [
       "<matplotlib.figure.Figure at 0x1d39a41d048>"
      ]
     },
     "metadata": {},
     "output_type": "display_data"
    },
    {
     "name": "stdout",
     "output_type": "stream",
     "text": [
      "8\n"
     ]
    },
    {
     "data": {
      "image/png": "iVBORw0KGgoAAAANSUhEUgAAAZIAAAD8CAYAAABdCyJkAAAABHNCSVQICAgIfAhkiAAAAAlwSFlz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\nYII=\n",
      "text/plain": [
       "<matplotlib.figure.Figure at 0x1d392d179b0>"
      ]
     },
     "metadata": {},
     "output_type": "display_data"
    },
    {
     "name": "stdout",
     "output_type": "stream",
     "text": [
      "16\n"
     ]
    },
    {
     "data": {
      "image/png": "iVBORw0KGgoAAAANSUhEUgAAAYcAAAD8CAYAAACcjGjIAAAABHNCSVQICAgIfAhkiAAAAAlwSFlz\nAAALEgAACxIB0t1+/AAAFOhJREFUeJzt3X+s5XWd3/Hnawdx7aowyGDIQDujnTbiJot4A9PY3Vjd\nwkDaHexqA22WiSWZ7QYSTbeJ45qUWX8k2kZNSJUNhonDxnWgq4aJHRcnlNZsIj8uisA4snNBVkam\nMDqIbGy00Hf/OJ/rnp3Pub9/nAvzfCQn53ve5/P9nvf5nnvP635/nHNTVUiSNOxXxt2AJGntMRwk\nSR3DQZLUMRwkSR3DQZLUMRwkSR3DQZLUMRwkSR3DQZLUOW3cDSzW2WefXZs2bRp3G5L0kvLAAw/8\nqKo2zDXuJRsOmzZtYnJyctxtSNJLSpK/ns84dytJkjqGgySpYzhIkjqGgySpYzhIkjqGgySpYzhI\nkjqGgySpYzhIkjov2U9Ir7rdZ8xQf251+5CkVeCWgySpYzhIkjqGgySpYzhIkjqGgySpYzhIkjqG\ngySpM2c4JPnVJPcl+U6SQ0n+uNU3J7k3yZEktyU5vdVf2W5Ptfs3DS3rg63+aJLLhurbWm0qya7l\nf5qSpIWYz5bDz4F3VNVvABcC25JsBT4BfLqqtgDPAte28dcCz1bVPwQ+3caR5ALgKuDNwDbgs0nW\nJVkHfAa4HLgAuLqNlSSNyZzhUAN/026+ol0KeAfw562+F7iyTW9vt2n3vzNJWn1fVf28qr4PTAEX\nt8tUVT1eVb8A9rWxkqQxmdcxh/YX/oPAM8BB4DHgJ1X1QhtyFNjYpjcCTwK0+58DXjdcP2memeqS\npDGZVzhU1YtVdSFwHoO/9N80ali7zgz3LbTeSbIzyWSSyePHj8/duCRpURZ0tlJV/QT4n8BW4Mwk\n01/cdx7wVJs+CpwP0O4/AzgxXD9pnpnqox7/5qqaqKqJDRs2LKR1SdICzOdspQ1JzmzTrwJ+GzgM\n3A28uw3bAdzRpve327T7/0dVVatf1c5m2gxsAe4D7ge2tLOfTmdw0Hr/cjw5SdLizOcru88F9raz\nin4FuL2qvprku8C+JB8Fvg3c0sbfAvxpkikGWwxXAVTVoSS3A98FXgCuq6oXAZJcD9wJrAP2VNWh\nZXuGkqQFy+CP+peeiYmJmpycXL0HnOn/Ocw43v/zIGntSfJAVU3MNc5PSEuSOoaDJKljOEiSOoaD\nJKljOEiSOoaDJKljOEiSOoaDJKljOEiSOoaDJKljOEiSOoaDJKljOEiSOoaDJKljOEiSOoaDJKlj\nOEiSOoaDJKljOEiSOoaDJKljOEiSOoaDJKljOEiSOoaDJKkzZzgkOT/J3UkOJzmU5H2tvjvJD5M8\n2C5XDM3zwSRTSR5NctlQfVurTSXZNVTfnOTeJEeS3Jbk9OV+opKk+ZvPlsMLwB9W1ZuArcB1SS5o\n9326qi5slwMA7b6rgDcD24DPJlmXZB3wGeBy4ALg6qHlfKItawvwLHDtMj0/SdIizBkOVXWsqr7V\npp8HDgMbZ5llO7Cvqn5eVd8HpoCL22Wqqh6vql8A+4DtSQK8A/jzNv9e4MrFPiFJ0tIt6JhDkk3A\nW4B7W+n6JA8l2ZNkfattBJ4cmu1oq81Ufx3wk6p64aT6qMffmWQyyeTx48cX0rokaQHmHQ5JXg18\nCXh/Vf0UuAl4I3AhcAz45PTQEbPXIup9sermqpqoqokNGzbMt3VJ0gKdNp9BSV7BIBi+UFVfBqiq\np4fu/xzw1XbzKHD+0OznAU+16VH1HwFnJjmtbT0Mj5ckjcF8zlYKcAtwuKo+NVQ/d2jYu4BH2vR+\n4Kokr0yyGdgC3AfcD2xpZyadzuCg9f6qKuBu4N1t/h3AHUt7WpKkpZjPlsPbgN8DHk7yYKv9EYOz\njS5ksAvoCeD3AarqUJLbge8yONPpuqp6ESDJ9cCdwDpgT1Udasv7ALAvyUeBbzMII0nSmMwZDlX1\nl4w+LnBglnk+BnxsRP3AqPmq6nEGZzNJktYAPyEtSeoYDpKkjuEgSeoYDpKkjuEgSeoYDpKkjuEg\nSeoYDpKkjuEgSeoYDpKkjuEgSeoYDpKkjuEgSerM65/9nFJ2nzHuDiRp7NxykCR1DAdJUsdwkCR1\nPOawUmY6drH7udXtQ5IWwS0HSVLHcJAkdQwHSVLHcJAkdQwHSVJnznBIcn6Su5McTnIoyfta/awk\nB5McadfrWz1JbkwyleShJBcNLWtHG38kyY6h+luTPNzmuTFJVuLJSpLmZz5bDi8Af1hVbwK2Atcl\nuQDYBdxVVVuAu9ptgMuBLe2yE7gJBmEC3ABcAlwM3DAdKG3MzqH5ti39qUmSFmvOcKiqY1X1rTb9\nPHAY2AhsB/a2YXuBK9v0duDWGrgHODPJucBlwMGqOlFVzwIHgW3tvtdW1TerqoBbh5YlSRqDBR1z\nSLIJeAtwL/D6qjoGgwABzmnDNgJPDs12tNVmqx8dUZckjcm8wyHJq4EvAe+vqp/ONnRErRZRH9XD\nziSTSSaPHz8+V8uSpEWaVzgkeQWDYPhCVX25lZ9uu4Ro18+0+lHg/KHZzwOemqN+3oh6p6purqqJ\nqprYsGHDfFqXJC3CfM5WCnALcLiqPjV0135g+oyjHcAdQ/Vr2llLW4Hn2m6nO4FLk6xvB6IvBe5s\n9z2fZGt7rGuGliVJGoP5fPHe24DfAx5O8mCr/RHwceD2JNcCPwDe0+47AFwBTAE/A94LUFUnknwE\nuL+N+3BVnWjTfwB8HngV8LV2kSSNyZzhUFV/yejjAgDvHDG+gOtmWNYeYM+I+iTw63P1IklaHX5C\nWpLUMRwkSR3DQZLUMRwkSR3DQZLUMRwkSR3DQZLUMRwkSR3DQZLUMRwkSR3DQZLUMRwkSR3DQZLU\nMRwkSR3DQZLUMRwkSR3DQZLUMRwkSR3DQZLUMRwkSR3DQZLUMRwkSR3DQZLUMRwkSZ05wyHJniTP\nJHlkqLY7yQ+TPNguVwzd98EkU0keTXLZUH1bq00l2TVU35zk3iRHktyW5PTlfIKSpIWbz5bD54Ft\nI+qfrqoL2+UAQJILgKuAN7d5PptkXZJ1wGeAy4ELgKvbWIBPtGVtAZ4Frl3KE5IkLd1pcw2oqm8k\n2TTP5W0H9lXVz4HvJ5kCLm73TVXV4wBJ9gHbkxwG3gH8mzZmL7AbuGm+T+AlZ/cZM9SfW90+JGkW\nSznmcH2Sh9pup/WtthF4cmjM0Vabqf464CdV9cJJ9ZGS7EwymWTy+PHjS2hdkjSbxYbDTcAbgQuB\nY8AnWz0jxtYi6iNV1c1VNVFVExs2bFhYx5KkeZtzt9IoVfX09HSSzwFfbTePAucPDT0PeKpNj6r/\nCDgzyWlt62F4vCRpTBa15ZDk3KGb7wKmz2TaD1yV5JVJNgNbgPuA+4Et7cyk0xkctN5fVQXcDby7\nzb8DuGMxPUmSls+cWw5Jvgi8HTg7yVHgBuDtSS5ksAvoCeD3AarqUJLbge8CLwDXVdWLbTnXA3cC\n64A9VXWoPcQHgH1JPgp8G7hl2Z6dJGlR5nO20tUjyjO+gVfVx4CPjagfAA6MqD/O357RJElaA/yE\ntCSpYzhIkjqGgySpYzhIkjqGgySpYzhIkjqGgySpYzhIkjqGgySpYzhIkjqGgySpYzhIkjqGgySp\nYzhIkjqGgySpYzhIkjqGgySpYzhIkjqGgySpYzhIkjqGgySpc9q4G1Cz+4wZ6s+tbh+ShFsOkqQR\n5gyHJHuSPJPkkaHaWUkOJjnSrte3epLcmGQqyUNJLhqaZ0cbfyTJjqH6W5M83Oa5MUmW+0lKkhZm\nPlsOnwe2nVTbBdxVVVuAu9ptgMuBLe2yE7gJBmEC3ABcAlwM3DAdKG3MzqH5Tn4sSdIqmzMcquob\nwImTytuBvW16L3DlUP3WGrgHODPJucBlwMGqOlFVzwIHgW3tvtdW1TerqoBbh5YlSRqTxR5zeH1V\nHQNo1+e0+kbgyaFxR1tttvrREXVJ0hgt9wHpUccLahH10QtPdiaZTDJ5/PjxRbYoSZrLYsPh6bZL\niHb9TKsfBc4fGnce8NQc9fNG1EeqqpuraqKqJjZs2LDI1iVJc1lsOOwHps842gHcMVS/pp21tBV4\nru12uhO4NMn6diD6UuDOdt/zSba2s5SuGVqWJGlM5vwQXJIvAm8Hzk5ylMFZRx8Hbk9yLfAD4D1t\n+AHgCmAK+BnwXoCqOpHkI8D9bdyHq2r6IPcfMDgj6lXA19pFkjRGc4ZDVV09w13vHDG2gOtmWM4e\nYM+I+iTw63P1IUlaPX5CWpLUMRwkSR3DQZLUMRwkSR3DQZLUMRwkSR3DQZLUMRwkSR3DQZLUMRwk\nSZ05vz5DY7b7jBnqz61uH5JOKW45SJI6hoMkqWM4SJI6hoMkqWM4SJI6hoMkqXPqnso60ymikiS3\nHCRJPcNBktQxHCRJHcNBktQxHCRJHcNBktRZUjgkeSLJw0keTDLZamclOZjkSLte3+pJcmOSqSQP\nJbloaDk72vgjSXYs7SlJkpZqOT7n8M+q6kdDt3cBd1XVx5Psarc/AFwObGmXS4CbgEuSnAXcAEwA\nBTyQZH9VPbsMvb18+VXeklbQSuxW2g7sbdN7gSuH6rfWwD3AmUnOBS4DDlbViRYIB4FtK9CXJGme\nlhoOBXw9yQNJdrba66vqGEC7PqfVNwJPDs17tNVmqneS7EwymWTy+PHjS2xdkjSTpe5WeltVPZXk\nHOBgku/NMjYjajVLvS9W3QzcDDAxMTFyjCRp6Za05VBVT7XrZ4CvABcDT7fdRbTrZ9rwo8D5Q7Of\nBzw1S12SNCaLDockv5bkNdPTwKXAI8B+YPqMox3AHW16P3BNO2tpK/Bc2+10J3BpkvXtzKZLW02S\nNCZL2a30euArSaaX82dV9RdJ7gduT3It8APgPW38AeAKYAr4GfBegKo6keQjwP1t3Ier6sQS+pIk\nLdGiw6GqHgd+Y0T9x8A7R9QLuG6GZe0B9iy2F0nS8vIT0pKkjuEgSeqcuv8J7uXKT05LWgZuOUiS\nOoaDJKljOEiSOoaDJKljOEiSOoaDJKljOEiSOn7O4VTh5x8kLYBbDpKkjuEgSeoYDpKkjsccTnUz\nHYsAj0dIpzC3HCRJHcNBktRxt5Jm5umv0inLLQdJUsdwkCR1DAdJUsdjDlo4j0VIL3uGg5aPoSG9\nbKyZ3UpJtiV5NMlUkl3j7keSTmVrYsshyTrgM8A/B44C9yfZX1XfHW9nWhazfQp75Hi3NKRxWxPh\nAFwMTFXV4wBJ9gHbgRUJh027/jtP/OpKLFnLwjCRxm6thMNG4Mmh20eBS8bUi15qFhomy/a4hpJe\nvtZKOGRErbpByU5gZ7v5N0keXeDjnA38aKYHHKNf9rXGrNW+YC309scjf4rG39do9rUwa7UvWHpv\n/2A+g9ZKOBwFzh+6fR7w1MmDqupm4ObFPkiSyaqaWOz8K8W+Fm6t9mZfC2NfC7dava2Vs5XuB7Yk\n2ZzkdOAqYP+Ye5KkU9aa2HKoqheSXA/cCawD9lTVoTG3JUmnrDURDgBVdQA4sMIPs+hdUivMvhZu\nrfZmXwtjXwu3Kr2lqjvuK0k6xa2VYw6SpDXklAiHcX41R5Lzk9yd5HCSQ0ne1+q7k/wwyYPtcsXQ\nPB9svT6a5LIV7u+JJA+3HiZb7awkB5McadfrWz1Jbmy9PZTkohXq6R8PrZcHk/w0yfvHsc6S7Eny\nTJJHhmoLXj9JdrTxR5LsWKG+/kuS77XH/kqSM1t9U5L/M7Te/mRonre213+q9b7ks7xn6G3Br91y\n/97O0NdtQz09keTBVl+1dTbLe8R4f86q6mV9YXCA+zHgDcDpwHeAC1bx8c8FLmrTrwH+CrgA2A38\nxxHjL2g9vhLY3Hpft4L9PQGcfVLtPwO72vQu4BNt+grgaww+JrIVuHeVXr//zeDc7FVfZ8BvARcB\njyx2/QBnAY+36/Vtev0K9HUpcFqb/sRQX5uGx520nPuAf9J6/hpw+QqtswW9divxezuqr5Pu/yTw\nn1Z7nc3yHjHWn7NTYcvhl1/NUVW/AKa/mmNVVNWxqvpWm34eOMzgE+Ez2Q7sq6qfV9X3gSkGz2E1\nbQf2tum9wJVD9Vtr4B7gzCTnrnAv7wQeq6q/nmXMiq2zqvoGcGLE4y1k/VwGHKyqE1X1LHAQ2Lbc\nfVXV16vqhXbzHgafF5pR6+21VfXNGry73Dr0XJa1t1nM9Not++/tbH21v/7/NfDF2ZaxEutslveI\nsf6cnQrhMOqrOWZ7c14xSTYBbwHubaXr22bhnulNRla/3wK+nuSBDD6BDvD6qjoGgx9c4Jwx9QaD\nz7wM/8KuhXW20PUzjvX27xj8dTltc5JvJ/lfSX6z1Ta2Xlarr4W8dqu9zn4TeLqqjgzVVn2dnfQe\nMdafs1MhHOb11Rwr3kTyauBLwPur6qfATcAbgQuBYww2aWH1+31bVV0EXA5cl+S3Zhm7qr1l8IHI\n3wH+WyutlXU2k5n6WO319iHgBeALrXQM+PtV9RbgPwB/luS1q9zXQl+71X5Nr+bv/hGy6utsxHvE\njENn6GFZezsVwmFeX82xkpK8gsGL/oWq+jJAVT1dVS9W1f8DPsff7gZZ1X6r6ql2/QzwldbH09O7\ni9r1M+PojUFgfauqnm49rol1xsLXz6r11w5C/gvg37bdHrRdNj9u0w8w2Jf/j1pfw7ueVqyvRbx2\nq7nOTgP+FXDbUL+rus5GvUcw5p+zUyEcxvrVHG1f5i3A4ar61FB9eF/9u4DpMyj2A1cleWWSzcAW\nBgfAVqK3X0vymulpBgc0H2k9TJ/psAO4Y6i3a9rZEluB56Y3e1fI3/lrbi2ss6HHW8j6uRO4NMn6\ntjvl0lZbVkm2AR8AfqeqfjZU35DB/0whyRsYrJ/HW2/PJ9nafk6vGXouy93bQl+71fy9/W3ge1X1\ny91Fq7nOZnqPYNw/Z0s5yv5SuTA4uv9XDNL/Q6v82P+UwabdQ8CD7XIF8KfAw62+Hzh3aJ4PtV4f\nZRnOHpmltzcwOAvkO8Ch6XUDvA64CzjSrs9q9TD4p0yPtd4nVrC3vwf8GDhjqLbq64xBOB0D/i+D\nv8yuXcz6YXAMYKpd3rtCfU0x2Oc8/XP2J23s77bX9zvAt4B/ObScCQZv1I8B/5X2wdgV6G3Br91y\n/96O6qvVPw/8+5PGrto6Y+b3iLH+nPkJaUlS51TYrSRJWiDDQZLUMRwkSR3DQZLUMRwkSR3DQZLU\nMRwkSR3DQZLU+f8Yel5cKAk4SgAAAABJRU5ErkJggg==\n",
      "text/plain": [
       "<matplotlib.figure.Figure at 0x1d398644780>"
      ]
     },
     "metadata": {},
     "output_type": "display_data"
    },
    {
     "name": "stdout",
     "output_type": "stream",
     "text": [
      "18\n"
     ]
    },
    {
     "data": {
      "image/png": "iVBORw0KGgoAAAANSUhEUgAAAYcAAAD8CAYAAACcjGjIAAAABHNCSVQICAgIfAhkiAAAAAlwSFlz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\n",
      "text/plain": [
       "<matplotlib.figure.Figure at 0x1d398de3da0>"
      ]
     },
     "metadata": {},
     "output_type": "display_data"
    }
   ],
   "source": [
    "# Just to learn some stuff about the data \n",
    "mean_feat_signal = []\n",
    "mean_feat_back = []\n",
    "std_feat_signal = []\n",
    "std_feat_back = []\n",
    "diff_mean =[]\n",
    "\n",
    "for i in range(features_train_good.shape[1]):\n",
    "    mean_feat_signal.append(np.mean(signal_good[:,i]))\n",
    "    mean_feat_back.append(np.mean(background_good[:,i]))\n",
    "    \n",
    "    std_feat_signal.append(np.std(signal_good[:,i]))\n",
    "    std_feat_back.append(np.std(background_good[:,i]))\n",
    "\n",
    "for index_mean, m in enumerate(mean_feat_signal):\n",
    "    diff_mean.append(abs(m - mean_feat_back[index_mean] ))\n",
    "\n",
    "\n",
    "mean_thediff = np.mean(diff_mean)\n",
    "ind_featInterest = np.where(diff_mean >= mean_thediff)\n",
    "features_interst = features_train_good[:,np.where(diff_mean >= mean_thediff)[0]]\n",
    "\n",
    "for ind in ind_featInterest[0]:\n",
    "    print(ind)\n",
    "    plt.figure()\n",
    "    plt.hist(signal_good[:,ind],50)\n",
    "    plt.hist(background_good[:,ind],50)\n",
    "    plt.show()\n",
    "\n",
    "    \n",
    "    \n",
    "    \n",
    "    "
=======
   "execution_count": null,
   "metadata": {},
   "outputs": [],
   "source": [
    "# Plot one features VS another one\n",
    "for i in range(features_train.shape[1]):\n",
    "    if i < features_train.shape[1]-1:\n",
    "        plt.figure()\n",
    "        plt.scatter(features_train[:,i], features_train[:,i+1],color = colors)\n",
    "plt.show()"
>>>>>>> 6228837b37092da05282595585b6834904274e73
   ]
  },
  {
   "cell_type": "code",
   "execution_count": null,
   "metadata": {},
   "outputs": [],
   "source": [
    "# To compute the losse, with mse --> with solution\n",
    "def compute_mse(y, tx, w):\n",
    "    \"\"\"Calculate the loss.\n",
    "\n",
    "    You can calculate the loss using mse or mae.\n",
    "    \"\"\"\n",
    "    \"\"\"compute the loss by mse.\"\"\"\n",
    "    e = y - tx.dot(w)\n",
    "    mse = e.dot(e) / (2 * len(e))\n",
    "    return mse"
   ]
  },
  {
   "cell_type": "code",
   "execution_count": null,
   "metadata": {},
   "outputs": [],
   "source": [
    "# Gradient descent\n",
    "\n",
    "def compute_gradient(y, tx, w):\n",
    "    \"\"\"Compute the gradient.\"\"\"\n",
    "\n",
    "    # compute gradient and loss\n",
    "    e = y - np.dot(tx, w)\n",
    "    gradient = -1/len(y) * np.dot(tx.T, e)\n",
    "    \n",
    "    loss = compute_mse(y,tx,w)\n",
    "    return gradient, loss\n",
    "\n",
    "\n",
    "def gradient_descent(y, tx, initial_w, max_iters, gamma):\n",
    "    \"\"\"Gradient descent algorithm.\"\"\"\n",
    "    # Define parameters to store w and loss\n",
    "    ws = [initial_w]\n",
    "    losses = []\n",
    "    w = initial_w\n",
    "    for n_iter in range(max_iters):\n",
    "        # compute gradient and loss\n",
    "        gradient, loss = compute_gradient(y,tx,w)\n",
    "\n",
    "        # update w by gradient\n",
    "        w = ws[n_iter] - gamma*gradient\n",
    "        \n",
    "        # store w and loss\n",
    "        ws.append(w)\n",
    "        losses.append(loss)\n",
    "        \n",
    "        print(\"Gradient Descent({bi}/{ti}): loss={l}, w0={w0}, w1={w1}\".format(\n",
    "              bi=n_iter, ti=max_iters - 1, l=loss, w0=w[0], w1=w[1]))\n",
    "\n",
    "    return losses[-1], ws[-1,:]"
   ]
  },
  {
   "cell_type": "code",
   "execution_count": null,
   "metadata": {},
   "outputs": [],
   "source": [
    "# Stochastic gradient descent\n",
    "def batch_iter(y, tx, batch_size, num_batches=1, shuffle=True):\n",
    "    \"\"\"\n",
    "    Generate a minibatch iterator for a dataset.\n",
    "    Takes as input two iterables (here the output desired values 'y' and the input data 'tx')\n",
    "    Outputs an iterator which gives mini-batches of `batch_size` matching elements from `y` and `tx`.\n",
    "    Data can be randomly shuffled to avoid ordering in the original data messing with the randomness of the minibatches.\n",
    "    Example of use :\n",
    "    for minibatch_y, minibatch_tx in batch_iter(y, tx, 32):\n",
    "        <DO-SOMETHING>\n",
    "    \"\"\"\n",
    "    data_size = len(y)\n",
    "\n",
    "    if shuffle:\n",
    "        shuffle_indices = np.random.permutation(np.arange(data_size))\n",
    "        shuffled_y = y[shuffle_indices]\n",
    "        shuffled_tx = tx[shuffle_indices]\n",
    "    else:\n",
    "        shuffled_y = y\n",
    "        shuffled_tx = tx\n",
    "    for batch_num in range(num_batches):\n",
    "        start_index = batch_num * batch_size\n",
    "        end_index = min((batch_num + 1) * batch_size, data_size)\n",
    "        if start_index != end_index:\n",
    "            yield shuffled_y[start_index:end_index], shuffled_tx[start_index:end_index]\n",
    "            \n",
    "\n",
    "def compute_stoch_gradient(y, tx, w):\n",
    "    \"\"\"Compute a stochastic gradient from just few examples n and their corresponding y_n labels.\"\"\"\n",
    "    e = y - np.dot(tx, w)\n",
    "    gradient = -1/len(y) * np.dot(tx.T, e)\n",
    "    \n",
    "    loss = compute_loss(y,tx,w)\n",
    "    return gradient, loss\n",
    "\n",
    "\n",
    "def stochastic_gradient_descent(y, tx, initial_w, max_iters, gamma, batch_size=1):\n",
    "    \"\"\"Stochastic gradient descent algorithm.\"\"\"\n",
    "    ws = [initial_w]\n",
    "    losses = []\n",
    "    lossForOneRun = 0\n",
    "    \n",
    "    for n_iters in range(max_iters):\n",
    "        for minibatch_y, minibatch_tx in batch_iter(y, tx, batch_size):\n",
    "            gradient, loss = compute_stoch_gradient(minibatch_y, minibatch_tx, ws[n_iters])\n",
    "            lossForOneRun = lossForOneRun + loss\n",
    "            w = ws[n_iters] - gamma*gradient\n",
    "        \n",
    "        losses.append((1/batch_size)*lossForOneRun)\n",
    "        ws.append(w)\n",
    "    \n",
    "    return losses[-1], ws[-1,:]"
   ]
  },
  {
   "cell_type": "code",
   "execution_count": null,
   "metadata": {},
   "outputs": [],
   "source": [
    "# Least squares --> With solution\n",
    "def least_squares(y, tx):\n",
    "    \"\"\"calculate the least squares solution.\"\"\"\n",
    "    \n",
    "    a = tx.T.dot(tx)\n",
    "    b = tx.T.dot(y)\n",
    "    w = np.linalg.solve(a, b)\n",
    "    loss = compute_mse(y, tx, w)\n",
    "    \n",
    "    return w, loss\n"
   ]
  },
  {
   "cell_type": "code",
   "execution_count": null,
   "metadata": {},
   "outputs": [],
   "source": [
    "# Ridge_regression using normal equations --> with solution\n",
    "def ridge_regression(y, tx, lambda_):\n",
    "    \"\"\"implement ridge regression.\"\"\"\n",
    "\n",
    "    aI = 2 * tx.shape[0] * lambda_*np.identity(tx.shape[1])\n",
    "    a = tx.T.dot(tx) + aI\n",
    "    b = tx.T.dot(y)\n",
    "    \n",
    "    w = np.linalg.solve(a,b)\n",
    "    loss = compute_mse(y, tx, w)\n",
    "    \n",
    "    return w, loss"
   ]
  },
  {
   "cell_type": "code",
   "execution_count": null,
   "metadata": {},
   "outputs": [],
   "source": []
  },
  {
   "cell_type": "markdown",
   "metadata": {},
   "source": [
    "# Etienne's Blocks"
   ]
  },
  {
   "cell_type": "code",
   "execution_count": 153,
   "metadata": {},
   "outputs": [
    {
     "name": "stdout",
     "output_type": "stream",
     "text": [
      "The autoreload extension is already loaded. To reload it, use:\n",
      "  %reload_ext autoreload\n"
     ]
    }
   ],
   "source": [
    "# Useful starting lines\n",
    "%matplotlib inline\n",
    "import numpy as np\n",
    "import matplotlib.pyplot as plt\n",
    "import pandas as pd\n",
    "from helpers import *\n",
    "%load_ext autoreload\n",
    "%autoreload 2\n"
   ]
  },
  {
   "cell_type": "code",
   "execution_count": 154,
   "metadata": {},
   "outputs": [
    {
     "data": {
      "text/html": [
       "<div>\n",
       "<style>\n",
       "    .dataframe thead tr:only-child th {\n",
       "        text-align: right;\n",
       "    }\n",
       "\n",
       "    .dataframe thead th {\n",
       "        text-align: left;\n",
       "    }\n",
       "\n",
       "    .dataframe tbody tr th {\n",
       "        vertical-align: top;\n",
       "    }\n",
       "</style>\n",
       "<table border=\"1\" class=\"dataframe\">\n",
       "  <thead>\n",
       "    <tr style=\"text-align: right;\">\n",
       "      <th></th>\n",
       "      <th>Id</th>\n",
       "      <th>Prediction</th>\n",
       "      <th>DER_mass_MMC</th>\n",
       "      <th>DER_mass_transverse_met_lep</th>\n",
       "      <th>DER_mass_vis</th>\n",
       "      <th>DER_pt_h</th>\n",
       "      <th>DER_deltaeta_jet_jet</th>\n",
       "      <th>DER_mass_jet_jet</th>\n",
       "      <th>DER_prodeta_jet_jet</th>\n",
       "      <th>DER_deltar_tau_lep</th>\n",
       "      <th>...</th>\n",
       "      <th>PRI_met_phi</th>\n",
       "      <th>PRI_met_sumet</th>\n",
       "      <th>PRI_jet_num</th>\n",
       "      <th>PRI_jet_leading_pt</th>\n",
       "      <th>PRI_jet_leading_eta</th>\n",
       "      <th>PRI_jet_leading_phi</th>\n",
       "      <th>PRI_jet_subleading_pt</th>\n",
       "      <th>PRI_jet_subleading_eta</th>\n",
       "      <th>PRI_jet_subleading_phi</th>\n",
       "      <th>PRI_jet_all_pt</th>\n",
       "    </tr>\n",
       "  </thead>\n",
       "  <tbody>\n",
       "    <tr>\n",
       "      <th>0</th>\n",
       "      <td>100000</td>\n",
       "      <td>s</td>\n",
       "      <td>138.470</td>\n",
       "      <td>51.655</td>\n",
       "      <td>97.827</td>\n",
       "      <td>27.980</td>\n",
       "      <td>0.91</td>\n",
       "      <td>124.711</td>\n",
       "      <td>2.666</td>\n",
       "      <td>3.064</td>\n",
       "      <td>...</td>\n",
       "      <td>-0.277</td>\n",
       "      <td>258.733</td>\n",
       "      <td>2</td>\n",
       "      <td>67.435</td>\n",
       "      <td>2.150</td>\n",
       "      <td>0.444</td>\n",
       "      <td>46.062</td>\n",
       "      <td>1.24</td>\n",
       "      <td>-2.475</td>\n",
       "      <td>113.497</td>\n",
       "    </tr>\n",
       "    <tr>\n",
       "      <th>1</th>\n",
       "      <td>100001</td>\n",
       "      <td>b</td>\n",
       "      <td>160.937</td>\n",
       "      <td>68.768</td>\n",
       "      <td>103.235</td>\n",
       "      <td>48.146</td>\n",
       "      <td>-999.00</td>\n",
       "      <td>-999.000</td>\n",
       "      <td>-999.000</td>\n",
       "      <td>3.473</td>\n",
       "      <td>...</td>\n",
       "      <td>-1.916</td>\n",
       "      <td>164.546</td>\n",
       "      <td>1</td>\n",
       "      <td>46.226</td>\n",
       "      <td>0.725</td>\n",
       "      <td>1.158</td>\n",
       "      <td>-999.000</td>\n",
       "      <td>-999.00</td>\n",
       "      <td>-999.000</td>\n",
       "      <td>46.226</td>\n",
       "    </tr>\n",
       "    <tr>\n",
       "      <th>2</th>\n",
       "      <td>100002</td>\n",
       "      <td>b</td>\n",
       "      <td>-999.000</td>\n",
       "      <td>162.172</td>\n",
       "      <td>125.953</td>\n",
       "      <td>35.635</td>\n",
       "      <td>-999.00</td>\n",
       "      <td>-999.000</td>\n",
       "      <td>-999.000</td>\n",
       "      <td>3.148</td>\n",
       "      <td>...</td>\n",
       "      <td>-2.186</td>\n",
       "      <td>260.414</td>\n",
       "      <td>1</td>\n",
       "      <td>44.251</td>\n",
       "      <td>2.053</td>\n",
       "      <td>-2.028</td>\n",
       "      <td>-999.000</td>\n",
       "      <td>-999.00</td>\n",
       "      <td>-999.000</td>\n",
       "      <td>44.251</td>\n",
       "    </tr>\n",
       "    <tr>\n",
       "      <th>3</th>\n",
       "      <td>100003</td>\n",
       "      <td>b</td>\n",
       "      <td>143.905</td>\n",
       "      <td>81.417</td>\n",
       "      <td>80.943</td>\n",
       "      <td>0.414</td>\n",
       "      <td>-999.00</td>\n",
       "      <td>-999.000</td>\n",
       "      <td>-999.000</td>\n",
       "      <td>3.310</td>\n",
       "      <td>...</td>\n",
       "      <td>0.060</td>\n",
       "      <td>86.062</td>\n",
       "      <td>0</td>\n",
       "      <td>-999.000</td>\n",
       "      <td>-999.000</td>\n",
       "      <td>-999.000</td>\n",
       "      <td>-999.000</td>\n",
       "      <td>-999.00</td>\n",
       "      <td>-999.000</td>\n",
       "      <td>0.000</td>\n",
       "    </tr>\n",
       "    <tr>\n",
       "      <th>4</th>\n",
       "      <td>100004</td>\n",
       "      <td>b</td>\n",
       "      <td>175.864</td>\n",
       "      <td>16.915</td>\n",
       "      <td>134.805</td>\n",
       "      <td>16.405</td>\n",
       "      <td>-999.00</td>\n",
       "      <td>-999.000</td>\n",
       "      <td>-999.000</td>\n",
       "      <td>3.891</td>\n",
       "      <td>...</td>\n",
       "      <td>-0.871</td>\n",
       "      <td>53.131</td>\n",
       "      <td>0</td>\n",
       "      <td>-999.000</td>\n",
       "      <td>-999.000</td>\n",
       "      <td>-999.000</td>\n",
       "      <td>-999.000</td>\n",
       "      <td>-999.00</td>\n",
       "      <td>-999.000</td>\n",
       "      <td>0.000</td>\n",
       "    </tr>\n",
       "  </tbody>\n",
       "</table>\n",
       "<p>5 rows × 32 columns</p>\n",
       "</div>"
      ],
      "text/plain": [
       "       Id Prediction  DER_mass_MMC  DER_mass_transverse_met_lep  DER_mass_vis  \\\n",
       "0  100000          s       138.470                       51.655        97.827   \n",
       "1  100001          b       160.937                       68.768       103.235   \n",
       "2  100002          b      -999.000                      162.172       125.953   \n",
       "3  100003          b       143.905                       81.417        80.943   \n",
       "4  100004          b       175.864                       16.915       134.805   \n",
       "\n",
       "   DER_pt_h  DER_deltaeta_jet_jet  DER_mass_jet_jet  DER_prodeta_jet_jet  \\\n",
       "0    27.980                  0.91           124.711                2.666   \n",
       "1    48.146               -999.00          -999.000             -999.000   \n",
       "2    35.635               -999.00          -999.000             -999.000   \n",
       "3     0.414               -999.00          -999.000             -999.000   \n",
       "4    16.405               -999.00          -999.000             -999.000   \n",
       "\n",
       "   DER_deltar_tau_lep       ...        PRI_met_phi  PRI_met_sumet  \\\n",
       "0               3.064       ...             -0.277        258.733   \n",
       "1               3.473       ...             -1.916        164.546   \n",
       "2               3.148       ...             -2.186        260.414   \n",
       "3               3.310       ...              0.060         86.062   \n",
       "4               3.891       ...             -0.871         53.131   \n",
       "\n",
       "   PRI_jet_num  PRI_jet_leading_pt  PRI_jet_leading_eta  PRI_jet_leading_phi  \\\n",
       "0            2              67.435                2.150                0.444   \n",
       "1            1              46.226                0.725                1.158   \n",
       "2            1              44.251                2.053               -2.028   \n",
       "3            0            -999.000             -999.000             -999.000   \n",
       "4            0            -999.000             -999.000             -999.000   \n",
       "\n",
       "   PRI_jet_subleading_pt  PRI_jet_subleading_eta  PRI_jet_subleading_phi  \\\n",
       "0                 46.062                    1.24                  -2.475   \n",
       "1               -999.000                 -999.00                -999.000   \n",
       "2               -999.000                 -999.00                -999.000   \n",
       "3               -999.000                 -999.00                -999.000   \n",
       "4               -999.000                 -999.00                -999.000   \n",
       "\n",
       "   PRI_jet_all_pt  \n",
       "0         113.497  \n",
       "1          46.226  \n",
       "2          44.251  \n",
       "3           0.000  \n",
       "4           0.000  \n",
       "\n",
       "[5 rows x 32 columns]"
      ]
     },
     "metadata": {},
     "output_type": "display_data"
    },
    {
     "data": {
      "text/html": [
       "<div>\n",
       "<style>\n",
       "    .dataframe thead tr:only-child th {\n",
       "        text-align: right;\n",
       "    }\n",
       "\n",
       "    .dataframe thead th {\n",
       "        text-align: left;\n",
       "    }\n",
       "\n",
       "    .dataframe tbody tr th {\n",
       "        vertical-align: top;\n",
       "    }\n",
       "</style>\n",
       "<table border=\"1\" class=\"dataframe\">\n",
       "  <thead>\n",
       "    <tr style=\"text-align: right;\">\n",
       "      <th></th>\n",
       "      <th>Id</th>\n",
       "      <th>Prediction</th>\n",
       "      <th>DER_mass_MMC</th>\n",
       "      <th>DER_mass_transverse_met_lep</th>\n",
       "      <th>DER_mass_vis</th>\n",
       "      <th>DER_pt_h</th>\n",
       "      <th>DER_deltaeta_jet_jet</th>\n",
       "      <th>DER_mass_jet_jet</th>\n",
       "      <th>DER_prodeta_jet_jet</th>\n",
       "      <th>DER_deltar_tau_lep</th>\n",
       "      <th>...</th>\n",
       "      <th>PRI_met_phi</th>\n",
       "      <th>PRI_met_sumet</th>\n",
       "      <th>PRI_jet_num</th>\n",
       "      <th>PRI_jet_leading_pt</th>\n",
       "      <th>PRI_jet_leading_eta</th>\n",
       "      <th>PRI_jet_leading_phi</th>\n",
       "      <th>PRI_jet_subleading_pt</th>\n",
       "      <th>PRI_jet_subleading_eta</th>\n",
       "      <th>PRI_jet_subleading_phi</th>\n",
       "      <th>PRI_jet_all_pt</th>\n",
       "    </tr>\n",
       "  </thead>\n",
       "  <tbody>\n",
       "    <tr>\n",
       "      <th>0</th>\n",
       "      <td>350000</td>\n",
       "      <td>?</td>\n",
       "      <td>-999.000</td>\n",
       "      <td>79.589</td>\n",
       "      <td>23.916</td>\n",
       "      <td>3.036</td>\n",
       "      <td>-999.000</td>\n",
       "      <td>-999.000</td>\n",
       "      <td>-999.000</td>\n",
       "      <td>0.903</td>\n",
       "      <td>...</td>\n",
       "      <td>2.022</td>\n",
       "      <td>98.556</td>\n",
       "      <td>0</td>\n",
       "      <td>-999.000</td>\n",
       "      <td>-999.000</td>\n",
       "      <td>-999.000</td>\n",
       "      <td>-999.000</td>\n",
       "      <td>-999.000</td>\n",
       "      <td>-999.000</td>\n",
       "      <td>0.000</td>\n",
       "    </tr>\n",
       "    <tr>\n",
       "      <th>1</th>\n",
       "      <td>350001</td>\n",
       "      <td>?</td>\n",
       "      <td>106.398</td>\n",
       "      <td>67.490</td>\n",
       "      <td>87.949</td>\n",
       "      <td>49.994</td>\n",
       "      <td>-999.000</td>\n",
       "      <td>-999.000</td>\n",
       "      <td>-999.000</td>\n",
       "      <td>2.048</td>\n",
       "      <td>...</td>\n",
       "      <td>-1.138</td>\n",
       "      <td>176.251</td>\n",
       "      <td>1</td>\n",
       "      <td>47.575</td>\n",
       "      <td>-0.553</td>\n",
       "      <td>-0.849</td>\n",
       "      <td>-999.000</td>\n",
       "      <td>-999.000</td>\n",
       "      <td>-999.000</td>\n",
       "      <td>47.575</td>\n",
       "    </tr>\n",
       "    <tr>\n",
       "      <th>2</th>\n",
       "      <td>350002</td>\n",
       "      <td>?</td>\n",
       "      <td>117.794</td>\n",
       "      <td>56.226</td>\n",
       "      <td>96.358</td>\n",
       "      <td>4.137</td>\n",
       "      <td>-999.000</td>\n",
       "      <td>-999.000</td>\n",
       "      <td>-999.000</td>\n",
       "      <td>2.755</td>\n",
       "      <td>...</td>\n",
       "      <td>-1.868</td>\n",
       "      <td>111.505</td>\n",
       "      <td>0</td>\n",
       "      <td>-999.000</td>\n",
       "      <td>-999.000</td>\n",
       "      <td>-999.000</td>\n",
       "      <td>-999.000</td>\n",
       "      <td>-999.000</td>\n",
       "      <td>-999.000</td>\n",
       "      <td>0.000</td>\n",
       "    </tr>\n",
       "    <tr>\n",
       "      <th>3</th>\n",
       "      <td>350003</td>\n",
       "      <td>?</td>\n",
       "      <td>135.861</td>\n",
       "      <td>30.604</td>\n",
       "      <td>97.288</td>\n",
       "      <td>9.104</td>\n",
       "      <td>-999.000</td>\n",
       "      <td>-999.000</td>\n",
       "      <td>-999.000</td>\n",
       "      <td>2.811</td>\n",
       "      <td>...</td>\n",
       "      <td>1.172</td>\n",
       "      <td>164.707</td>\n",
       "      <td>0</td>\n",
       "      <td>-999.000</td>\n",
       "      <td>-999.000</td>\n",
       "      <td>-999.000</td>\n",
       "      <td>-999.000</td>\n",
       "      <td>-999.000</td>\n",
       "      <td>-999.000</td>\n",
       "      <td>0.000</td>\n",
       "    </tr>\n",
       "    <tr>\n",
       "      <th>4</th>\n",
       "      <td>350004</td>\n",
       "      <td>?</td>\n",
       "      <td>74.159</td>\n",
       "      <td>82.772</td>\n",
       "      <td>58.731</td>\n",
       "      <td>89.646</td>\n",
       "      <td>1.347</td>\n",
       "      <td>536.663</td>\n",
       "      <td>-0.339</td>\n",
       "      <td>1.028</td>\n",
       "      <td>...</td>\n",
       "      <td>-0.231</td>\n",
       "      <td>869.614</td>\n",
       "      <td>3</td>\n",
       "      <td>254.085</td>\n",
       "      <td>-1.013</td>\n",
       "      <td>-0.334</td>\n",
       "      <td>185.857</td>\n",
       "      <td>0.335</td>\n",
       "      <td>2.587</td>\n",
       "      <td>599.213</td>\n",
       "    </tr>\n",
       "  </tbody>\n",
       "</table>\n",
       "<p>5 rows × 32 columns</p>\n",
       "</div>"
      ],
      "text/plain": [
       "       Id Prediction  DER_mass_MMC  DER_mass_transverse_met_lep  DER_mass_vis  \\\n",
       "0  350000          ?      -999.000                       79.589        23.916   \n",
       "1  350001          ?       106.398                       67.490        87.949   \n",
       "2  350002          ?       117.794                       56.226        96.358   \n",
       "3  350003          ?       135.861                       30.604        97.288   \n",
       "4  350004          ?        74.159                       82.772        58.731   \n",
       "\n",
       "   DER_pt_h  DER_deltaeta_jet_jet  DER_mass_jet_jet  DER_prodeta_jet_jet  \\\n",
       "0     3.036              -999.000          -999.000             -999.000   \n",
       "1    49.994              -999.000          -999.000             -999.000   \n",
       "2     4.137              -999.000          -999.000             -999.000   \n",
       "3     9.104              -999.000          -999.000             -999.000   \n",
       "4    89.646                 1.347           536.663               -0.339   \n",
       "\n",
       "   DER_deltar_tau_lep       ...        PRI_met_phi  PRI_met_sumet  \\\n",
       "0               0.903       ...              2.022         98.556   \n",
       "1               2.048       ...             -1.138        176.251   \n",
       "2               2.755       ...             -1.868        111.505   \n",
       "3               2.811       ...              1.172        164.707   \n",
       "4               1.028       ...             -0.231        869.614   \n",
       "\n",
       "   PRI_jet_num  PRI_jet_leading_pt  PRI_jet_leading_eta  PRI_jet_leading_phi  \\\n",
       "0            0            -999.000             -999.000             -999.000   \n",
       "1            1              47.575               -0.553               -0.849   \n",
       "2            0            -999.000             -999.000             -999.000   \n",
       "3            0            -999.000             -999.000             -999.000   \n",
       "4            3             254.085               -1.013               -0.334   \n",
       "\n",
       "   PRI_jet_subleading_pt  PRI_jet_subleading_eta  PRI_jet_subleading_phi  \\\n",
       "0               -999.000                -999.000                -999.000   \n",
       "1               -999.000                -999.000                -999.000   \n",
       "2               -999.000                -999.000                -999.000   \n",
       "3               -999.000                -999.000                -999.000   \n",
       "4                185.857                   0.335                   2.587   \n",
       "\n",
       "   PRI_jet_all_pt  \n",
       "0           0.000  \n",
       "1          47.575  \n",
       "2           0.000  \n",
       "3           0.000  \n",
       "4         599.213  \n",
       "\n",
       "[5 rows x 32 columns]"
      ]
     },
     "metadata": {},
     "output_type": "display_data"
    },
    {
     "data": {
      "text/html": [
       "<div>\n",
       "<style>\n",
       "    .dataframe thead tr:only-child th {\n",
       "        text-align: right;\n",
       "    }\n",
       "\n",
       "    .dataframe thead th {\n",
       "        text-align: left;\n",
       "    }\n",
       "\n",
       "    .dataframe tbody tr th {\n",
       "        vertical-align: top;\n",
       "    }\n",
       "</style>\n",
       "<table border=\"1\" class=\"dataframe\">\n",
       "  <thead>\n",
       "    <tr style=\"text-align: right;\">\n",
       "      <th></th>\n",
       "      <th>Id</th>\n",
       "      <th>Prediction</th>\n",
       "      <th>DER_mass_MMC</th>\n",
       "      <th>DER_mass_transverse_met_lep</th>\n",
       "      <th>DER_mass_vis</th>\n",
       "      <th>DER_pt_h</th>\n",
       "      <th>DER_deltaeta_jet_jet</th>\n",
       "      <th>DER_mass_jet_jet</th>\n",
       "      <th>DER_prodeta_jet_jet</th>\n",
       "      <th>DER_deltar_tau_lep</th>\n",
       "      <th>...</th>\n",
       "      <th>PRI_met_phi</th>\n",
       "      <th>PRI_met_sumet</th>\n",
       "      <th>PRI_jet_num</th>\n",
       "      <th>PRI_jet_leading_pt</th>\n",
       "      <th>PRI_jet_leading_eta</th>\n",
       "      <th>PRI_jet_leading_phi</th>\n",
       "      <th>PRI_jet_subleading_pt</th>\n",
       "      <th>PRI_jet_subleading_eta</th>\n",
       "      <th>PRI_jet_subleading_phi</th>\n",
       "      <th>PRI_jet_all_pt</th>\n",
       "    </tr>\n",
       "  </thead>\n",
       "  <tbody>\n",
       "    <tr>\n",
       "      <th>2000</th>\n",
       "      <td>102000</td>\n",
       "      <td>b</td>\n",
       "      <td>60.215</td>\n",
       "      <td>61.875</td>\n",
       "      <td>51.516</td>\n",
       "      <td>2.989</td>\n",
       "      <td>-999.000</td>\n",
       "      <td>-999.000</td>\n",
       "      <td>-999.000</td>\n",
       "      <td>2.260</td>\n",
       "      <td>...</td>\n",
       "      <td>2.253</td>\n",
       "      <td>85.663</td>\n",
       "      <td>0</td>\n",
       "      <td>-999.000</td>\n",
       "      <td>-999.000</td>\n",
       "      <td>-999.000</td>\n",
       "      <td>-999.000</td>\n",
       "      <td>-999.000</td>\n",
       "      <td>-999.000</td>\n",
       "      <td>0.000</td>\n",
       "    </tr>\n",
       "    <tr>\n",
       "      <th>2001</th>\n",
       "      <td>102001</td>\n",
       "      <td>b</td>\n",
       "      <td>104.942</td>\n",
       "      <td>11.371</td>\n",
       "      <td>67.808</td>\n",
       "      <td>51.027</td>\n",
       "      <td>-999.000</td>\n",
       "      <td>-999.000</td>\n",
       "      <td>-999.000</td>\n",
       "      <td>2.525</td>\n",
       "      <td>...</td>\n",
       "      <td>0.009</td>\n",
       "      <td>146.828</td>\n",
       "      <td>1</td>\n",
       "      <td>52.065</td>\n",
       "      <td>-0.919</td>\n",
       "      <td>-2.784</td>\n",
       "      <td>-999.000</td>\n",
       "      <td>-999.000</td>\n",
       "      <td>-999.000</td>\n",
       "      <td>52.065</td>\n",
       "    </tr>\n",
       "    <tr>\n",
       "      <th>2002</th>\n",
       "      <td>102002</td>\n",
       "      <td>b</td>\n",
       "      <td>96.819</td>\n",
       "      <td>19.172</td>\n",
       "      <td>51.547</td>\n",
       "      <td>87.988</td>\n",
       "      <td>1.145</td>\n",
       "      <td>109.950</td>\n",
       "      <td>3.126</td>\n",
       "      <td>1.931</td>\n",
       "      <td>...</td>\n",
       "      <td>-2.625</td>\n",
       "      <td>190.867</td>\n",
       "      <td>2</td>\n",
       "      <td>56.000</td>\n",
       "      <td>2.431</td>\n",
       "      <td>-0.253</td>\n",
       "      <td>48.707</td>\n",
       "      <td>1.286</td>\n",
       "      <td>1.772</td>\n",
       "      <td>104.707</td>\n",
       "    </tr>\n",
       "    <tr>\n",
       "      <th>2003</th>\n",
       "      <td>102003</td>\n",
       "      <td>s</td>\n",
       "      <td>147.469</td>\n",
       "      <td>8.513</td>\n",
       "      <td>95.984</td>\n",
       "      <td>89.957</td>\n",
       "      <td>3.258</td>\n",
       "      <td>462.091</td>\n",
       "      <td>-2.650</td>\n",
       "      <td>2.088</td>\n",
       "      <td>...</td>\n",
       "      <td>-3.087</td>\n",
       "      <td>390.035</td>\n",
       "      <td>2</td>\n",
       "      <td>128.284</td>\n",
       "      <td>-1.567</td>\n",
       "      <td>-1.308</td>\n",
       "      <td>59.589</td>\n",
       "      <td>1.692</td>\n",
       "      <td>1.373</td>\n",
       "      <td>187.873</td>\n",
       "    </tr>\n",
       "    <tr>\n",
       "      <th>2004</th>\n",
       "      <td>102004</td>\n",
       "      <td>b</td>\n",
       "      <td>144.915</td>\n",
       "      <td>42.818</td>\n",
       "      <td>95.663</td>\n",
       "      <td>97.552</td>\n",
       "      <td>3.013</td>\n",
       "      <td>256.228</td>\n",
       "      <td>-1.622</td>\n",
       "      <td>2.422</td>\n",
       "      <td>...</td>\n",
       "      <td>-3.061</td>\n",
       "      <td>302.445</td>\n",
       "      <td>2</td>\n",
       "      <td>72.662</td>\n",
       "      <td>2.312</td>\n",
       "      <td>-0.894</td>\n",
       "      <td>42.996</td>\n",
       "      <td>-0.702</td>\n",
       "      <td>0.858</td>\n",
       "      <td>115.658</td>\n",
       "    </tr>\n",
       "    <tr>\n",
       "      <th>2005</th>\n",
       "      <td>102005</td>\n",
       "      <td>s</td>\n",
       "      <td>96.223</td>\n",
       "      <td>15.104</td>\n",
       "      <td>66.360</td>\n",
       "      <td>48.790</td>\n",
       "      <td>-999.000</td>\n",
       "      <td>-999.000</td>\n",
       "      <td>-999.000</td>\n",
       "      <td>2.227</td>\n",
       "      <td>...</td>\n",
       "      <td>2.565</td>\n",
       "      <td>215.054</td>\n",
       "      <td>1</td>\n",
       "      <td>66.045</td>\n",
       "      <td>-1.587</td>\n",
       "      <td>-0.810</td>\n",
       "      <td>-999.000</td>\n",
       "      <td>-999.000</td>\n",
       "      <td>-999.000</td>\n",
       "      <td>66.045</td>\n",
       "    </tr>\n",
       "    <tr>\n",
       "      <th>2006</th>\n",
       "      <td>102006</td>\n",
       "      <td>s</td>\n",
       "      <td>108.722</td>\n",
       "      <td>19.390</td>\n",
       "      <td>79.816</td>\n",
       "      <td>2.953</td>\n",
       "      <td>-999.000</td>\n",
       "      <td>-999.000</td>\n",
       "      <td>-999.000</td>\n",
       "      <td>2.924</td>\n",
       "      <td>...</td>\n",
       "      <td>0.871</td>\n",
       "      <td>136.454</td>\n",
       "      <td>0</td>\n",
       "      <td>-999.000</td>\n",
       "      <td>-999.000</td>\n",
       "      <td>-999.000</td>\n",
       "      <td>-999.000</td>\n",
       "      <td>-999.000</td>\n",
       "      <td>-999.000</td>\n",
       "      <td>0.000</td>\n",
       "    </tr>\n",
       "    <tr>\n",
       "      <th>2007</th>\n",
       "      <td>102007</td>\n",
       "      <td>b</td>\n",
       "      <td>85.128</td>\n",
       "      <td>24.772</td>\n",
       "      <td>62.644</td>\n",
       "      <td>78.444</td>\n",
       "      <td>-999.000</td>\n",
       "      <td>-999.000</td>\n",
       "      <td>-999.000</td>\n",
       "      <td>1.551</td>\n",
       "      <td>...</td>\n",
       "      <td>0.103</td>\n",
       "      <td>178.824</td>\n",
       "      <td>1</td>\n",
       "      <td>73.413</td>\n",
       "      <td>0.234</td>\n",
       "      <td>2.985</td>\n",
       "      <td>-999.000</td>\n",
       "      <td>-999.000</td>\n",
       "      <td>-999.000</td>\n",
       "      <td>73.413</td>\n",
       "    </tr>\n",
       "    <tr>\n",
       "      <th>2008</th>\n",
       "      <td>102008</td>\n",
       "      <td>b</td>\n",
       "      <td>-999.000</td>\n",
       "      <td>56.823</td>\n",
       "      <td>166.014</td>\n",
       "      <td>31.887</td>\n",
       "      <td>-999.000</td>\n",
       "      <td>-999.000</td>\n",
       "      <td>-999.000</td>\n",
       "      <td>3.074</td>\n",
       "      <td>...</td>\n",
       "      <td>-1.550</td>\n",
       "      <td>259.501</td>\n",
       "      <td>0</td>\n",
       "      <td>-999.000</td>\n",
       "      <td>-999.000</td>\n",
       "      <td>-999.000</td>\n",
       "      <td>-999.000</td>\n",
       "      <td>-999.000</td>\n",
       "      <td>-999.000</td>\n",
       "      <td>0.000</td>\n",
       "    </tr>\n",
       "    <tr>\n",
       "      <th>2009</th>\n",
       "      <td>102009</td>\n",
       "      <td>b</td>\n",
       "      <td>-999.000</td>\n",
       "      <td>93.440</td>\n",
       "      <td>132.280</td>\n",
       "      <td>28.050</td>\n",
       "      <td>-999.000</td>\n",
       "      <td>-999.000</td>\n",
       "      <td>-999.000</td>\n",
       "      <td>2.751</td>\n",
       "      <td>...</td>\n",
       "      <td>-0.179</td>\n",
       "      <td>104.985</td>\n",
       "      <td>0</td>\n",
       "      <td>-999.000</td>\n",
       "      <td>-999.000</td>\n",
       "      <td>-999.000</td>\n",
       "      <td>-999.000</td>\n",
       "      <td>-999.000</td>\n",
       "      <td>-999.000</td>\n",
       "      <td>0.000</td>\n",
       "    </tr>\n",
       "  </tbody>\n",
       "</table>\n",
       "<p>10 rows × 32 columns</p>\n",
       "</div>"
      ],
      "text/plain": [
       "          Id Prediction  DER_mass_MMC  DER_mass_transverse_met_lep  \\\n",
       "2000  102000          b        60.215                       61.875   \n",
       "2001  102001          b       104.942                       11.371   \n",
       "2002  102002          b        96.819                       19.172   \n",
       "2003  102003          s       147.469                        8.513   \n",
       "2004  102004          b       144.915                       42.818   \n",
       "2005  102005          s        96.223                       15.104   \n",
       "2006  102006          s       108.722                       19.390   \n",
       "2007  102007          b        85.128                       24.772   \n",
       "2008  102008          b      -999.000                       56.823   \n",
       "2009  102009          b      -999.000                       93.440   \n",
       "\n",
       "      DER_mass_vis  DER_pt_h  DER_deltaeta_jet_jet  DER_mass_jet_jet  \\\n",
       "2000        51.516     2.989              -999.000          -999.000   \n",
       "2001        67.808    51.027              -999.000          -999.000   \n",
       "2002        51.547    87.988                 1.145           109.950   \n",
       "2003        95.984    89.957                 3.258           462.091   \n",
       "2004        95.663    97.552                 3.013           256.228   \n",
       "2005        66.360    48.790              -999.000          -999.000   \n",
       "2006        79.816     2.953              -999.000          -999.000   \n",
       "2007        62.644    78.444              -999.000          -999.000   \n",
       "2008       166.014    31.887              -999.000          -999.000   \n",
       "2009       132.280    28.050              -999.000          -999.000   \n",
       "\n",
       "      DER_prodeta_jet_jet  DER_deltar_tau_lep       ...        PRI_met_phi  \\\n",
       "2000             -999.000               2.260       ...              2.253   \n",
       "2001             -999.000               2.525       ...              0.009   \n",
       "2002                3.126               1.931       ...             -2.625   \n",
       "2003               -2.650               2.088       ...             -3.087   \n",
       "2004               -1.622               2.422       ...             -3.061   \n",
       "2005             -999.000               2.227       ...              2.565   \n",
       "2006             -999.000               2.924       ...              0.871   \n",
       "2007             -999.000               1.551       ...              0.103   \n",
       "2008             -999.000               3.074       ...             -1.550   \n",
       "2009             -999.000               2.751       ...             -0.179   \n",
       "\n",
       "      PRI_met_sumet  PRI_jet_num  PRI_jet_leading_pt  PRI_jet_leading_eta  \\\n",
       "2000         85.663            0            -999.000             -999.000   \n",
       "2001        146.828            1              52.065               -0.919   \n",
       "2002        190.867            2              56.000                2.431   \n",
       "2003        390.035            2             128.284               -1.567   \n",
       "2004        302.445            2              72.662                2.312   \n",
       "2005        215.054            1              66.045               -1.587   \n",
       "2006        136.454            0            -999.000             -999.000   \n",
       "2007        178.824            1              73.413                0.234   \n",
       "2008        259.501            0            -999.000             -999.000   \n",
       "2009        104.985            0            -999.000             -999.000   \n",
       "\n",
       "      PRI_jet_leading_phi  PRI_jet_subleading_pt  PRI_jet_subleading_eta  \\\n",
       "2000             -999.000               -999.000                -999.000   \n",
       "2001               -2.784               -999.000                -999.000   \n",
       "2002               -0.253                 48.707                   1.286   \n",
       "2003               -1.308                 59.589                   1.692   \n",
       "2004               -0.894                 42.996                  -0.702   \n",
       "2005               -0.810               -999.000                -999.000   \n",
       "2006             -999.000               -999.000                -999.000   \n",
       "2007                2.985               -999.000                -999.000   \n",
       "2008             -999.000               -999.000                -999.000   \n",
       "2009             -999.000               -999.000                -999.000   \n",
       "\n",
       "      PRI_jet_subleading_phi  PRI_jet_all_pt  \n",
       "2000                -999.000           0.000  \n",
       "2001                -999.000          52.065  \n",
       "2002                   1.772         104.707  \n",
       "2003                   1.373         187.873  \n",
       "2004                   0.858         115.658  \n",
       "2005                -999.000          66.045  \n",
       "2006                -999.000           0.000  \n",
       "2007                -999.000          73.413  \n",
       "2008                -999.000           0.000  \n",
       "2009                -999.000           0.000  \n",
       "\n",
       "[10 rows x 32 columns]"
      ]
     },
     "metadata": {},
     "output_type": "display_data"
    }
   ],
   "source": [
    "'''Simple visualization of the data set. We can see that our first step will be to handle uncomputable values which are \n",
    "represented with a value = -999\n",
    "'''\n",
    "trainData = pd.read_csv(\"train.csv\")\n",
    "testData = pd.read_csv(\"test.csv\")\n",
    "display(trainData.head(5))\n",
    "display(testData.head(5))\n",
    "display(trainData[2000:2010])"
   ]
  },
  {
   "cell_type": "code",
   "execution_count": 155,
   "metadata": {},
   "outputs": [
    {
     "name": "stderr",
     "output_type": "stream",
     "text": [
      "/usr/local/lib/python3.6/site-packages/ipykernel_launcher.py:4: DeprecationWarning: \n",
      ".ix is deprecated. Please use\n",
      ".loc for label based indexing or\n",
      ".iloc for positional indexing\n",
      "\n",
      "See the documentation here:\n",
      "http://pandas.pydata.org/pandas-docs/stable/indexing.html#ix-indexer-is-deprecated\n",
      "  after removing the cwd from sys.path.\n"
     ]
    },
    {
     "name": "stdout",
     "output_type": "stream",
     "text": [
      "I am the feature 2\n"
     ]
    },
    {
     "data": {
      "image/png": "iVBORw0KGgoAAAANSUhEUgAAAY0AAAD8CAYAAACLrvgBAAAABHNCSVQICAgIfAhkiAAAAAlwSFlz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\nyGqwvbvQBwAAAABJRU5ErkJggg==\n",
      "text/plain": [
       "<matplotlib.figure.Figure at 0x107de3710>"
      ]
     },
     "metadata": {},
     "output_type": "display_data"
    },
    {
     "name": "stdout",
     "output_type": "stream",
     "text": [
      "I am the feature 3\n"
     ]
    },
    {
     "data": {
      "image/png": "iVBORw0KGgoAAAANSUhEUgAAAY0AAAD8CAYAAACLrvgBAAAABHNCSVQICAgIfAhkiAAAAAlwSFlz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\n",
      "text/plain": [
       "<matplotlib.figure.Figure at 0x10ad73390>"
      ]
     },
     "metadata": {},
     "output_type": "display_data"
    },
    {
     "name": "stdout",
     "output_type": "stream",
     "text": [
      "I am the feature 4\n"
     ]
    },
    {
     "data": {
      "image/png": "iVBORw0KGgoAAAANSUhEUgAAAZIAAAD8CAYAAABdCyJkAAAABHNCSVQICAgIfAhkiAAAAAlwSFlz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\nIIoAAAAASUVORK5CYII=\n",
      "text/plain": [
       "<matplotlib.figure.Figure at 0x118475fd0>"
      ]
     },
     "metadata": {},
     "output_type": "display_data"
    },
    {
     "name": "stdout",
     "output_type": "stream",
     "text": [
      "I am the feature 5\n"
     ]
    },
    {
     "data": {
      "image/png": "iVBORw0KGgoAAAANSUhEUgAAAY0AAAD8CAYAAACLrvgBAAAABHNCSVQICAgIfAhkiAAAAAlwSFlz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\n",
      "text/plain": [
       "<matplotlib.figure.Figure at 0x1183dcb00>"
      ]
     },
     "metadata": {},
     "output_type": "display_data"
    },
    {
     "name": "stdout",
     "output_type": "stream",
     "text": [
      "I am the feature 6\n"
     ]
    },
    {
     "data": {
      "image/png": "iVBORw0KGgoAAAANSUhEUgAAAY0AAAD8CAYAAACLrvgBAAAABHNCSVQICAgIfAhkiAAAAAlwSFlz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\n",
      "text/plain": [
       "<matplotlib.figure.Figure at 0x11866abe0>"
      ]
     },
     "metadata": {},
     "output_type": "display_data"
    },
    {
     "name": "stdout",
     "output_type": "stream",
     "text": [
      "I am the feature 7\n"
     ]
    },
    {
     "data": {
      "image/png": "iVBORw0KGgoAAAANSUhEUgAAAY0AAAD8CAYAAACLrvgBAAAABHNCSVQICAgIfAhkiAAAAAlwSFlz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\npG7/H1/WoAz3v7LIAAAAAElFTkSuQmCC\n",
      "text/plain": [
       "<matplotlib.figure.Figure at 0x10a9a60b8>"
      ]
     },
     "metadata": {},
     "output_type": "display_data"
    },
    {
     "name": "stdout",
     "output_type": "stream",
     "text": [
      "I am the feature 8\n"
     ]
    },
    {
     "data": {
      "image/png": "iVBORw0KGgoAAAANSUhEUgAAAY0AAAD8CAYAAACLrvgBAAAABHNCSVQICAgIfAhkiAAAAAlwSFlz\nAAALEgAACxIB0t1+/AAAFdBJREFUeJzt3X/sXfV93/Hna/aIom4pJnzLGIbZJE5Uk21ecImlNRUN\nLRhS1WRKM7OpOAmK8wOmZqrUmOYPojRI0CyNhJYQkWLFbCmGQFOs1ZS4LD80aQZMQviRhPLFAWHP\nAdcQ2JaOzMl7f9zPd7l2vl9/P/7eL77+8XxIR/fc9/l8zvl8OMYv7jnnXlJVSJLU4++NewCSpGOH\noSFJ6mZoSJK6GRqSpG6GhiSpm6EhSepmaEiSuhkakqRuhoYkqdvCcQ9gvp166qm1ZMmScQ9Dko4p\nDz744N9W1cRs7Y670FiyZAk7duwY9zAk6ZiS5Omedl6ekiR1MzQkSd0MDUlSN0NDktTN0JAkdTM0\nJEndDA1JUjdDQ5LUbdbQSLIxyXNJHh2q3ZbkobY8leShVl+S5O+Gtn1uqM+5SR5JMpnkhiRp9VOS\nbEvyRHtd1Opp7SaTPJzkzfM/fUnS4ej5RvgXgP8I3DJVqKp/PbWe5FPAi0Ptn6yqFdPs50bgfcB9\nwFZgNXA3sAG4t6quS7Khvf8IcDGwrC1vaf3f0juxuViy4S9fyd0f0lPXvX1sx5akXrN+0qiqbwDP\nT7etfVp4F3DrofaR5HTgNVW1vaqKQQBd2javATa19U0H1W+pge3AyW0/kqQxGfWexluBZ6vqiaHa\n0iTfSvL1JG9ttTOAXUNtdrUawGlVtaet/wA4bajPMzP0kSSNwag/WHgZB37K2AOcVVX7kpwL/EWS\nc3p3VlWVpA53EEnWA+sBzjrrrMPtLknqNOdPGkkWAv8KuG2qVlUvV9W+tv4g8CTwBmA3sHio++JW\nA3h26rJTe32u1XcDZ87Q5wBVdVNVrayqlRMTs/6yryRpjka5PPUbwPeq6v9fdkoykWRBWz+bwU3s\nne3y00tJVrX7IJcDd7VuW4B1bX3dQfXL21NUq4AXhy5jSZLGoOeR21uB/w68McmuJFe0TWv5+Rvg\nvwY83B7BvQP4QFVN3UT/EPCnwCSDTyB3t/p1wG8meYJBEF3X6luBna3951t/SdIYzXpPo6oum6H+\n7mlqdwJ3ztB+B/Cmaer7gAumqRdw5WzjkyQdOX4jXJLUzdCQJHUzNCRJ3QwNSVI3Q0OS1M3QkCR1\nMzQkSd0MDUlSN0NDktTN0JAkdTM0JEndDA1JUjdDQ5LUzdCQJHUzNCRJ3QwNSVI3Q0OS1M3QkCR1\nMzQkSd0MDUlSt1lDI8nGJM8leXSo9rEku5M81JZLhrZdnWQyyeNJLhqqr261ySQbhupLk9zX6rcl\nOanVX9XeT7btS+Zr0pKkuen5pPEFYPU09U9X1Yq2bAVIshxYC5zT+nw2yYIkC4DPABcDy4HLWluA\n69u+Xg+8AFzR6lcAL7T6p1s7SdIYzRoaVfUN4PnO/a0BNlfVy1X1fWASOK8tk1W1s6p+DGwG1iQJ\n8DbgjtZ/E3Dp0L42tfU7gAtae0nSmIxyT+OqJA+3y1eLWu0M4JmhNrtabab6a4EfVtX+g+oH7Ktt\nf7G1lySNyVxD40bgdcAKYA/wqXkb0RwkWZ9kR5Ide/fuHedQJOm4NqfQqKpnq+onVfVT4PMMLj8B\n7AbOHGq6uNVmqu8DTk6y8KD6Aftq23+xtZ9uPDdV1cqqWjkxMTGXKUmSOswpNJKcPvT2HcDUk1Vb\ngLXtyaelwDLgfuABYFl7UuokBjfLt1RVAV8F3tn6rwPuGtrXurb+TuC/tvaSpDFZOFuDJLcC5wOn\nJtkFXAOcn2QFUMBTwPsBquqxJLcD3wH2A1dW1U/afq4C7gEWABur6rF2iI8Am5N8AvgWcHOr3wz8\npySTDG7Erx15tpKkkcwaGlV12TTlm6epTbW/Frh2mvpWYOs09Z387PLWcP3/AL8z2/gkSUeO3wiX\nJHUzNCRJ3QwNSVI3Q0OS1M3QkCR1MzQkSd0MDUlSN0NDktTN0JAkdTM0JEndDA1JUjdDQ5LUzdCQ\nJHUzNCRJ3QwNSVI3Q0OS1M3QkCR1MzQkSd0MDUlSN0NDktRt1tBIsjHJc0keHap9Msn3kjyc5MtJ\nTm71JUn+LslDbfncUJ9zkzySZDLJDUnS6qck2Zbkifa6qNXT2k2247x5/qcvSTocPZ80vgCsPqi2\nDXhTVf0z4G+Aq4e2PVlVK9rygaH6jcD7gGVtmdrnBuDeqloG3NveA1w81HZ96y9JGqNZQ6OqvgE8\nf1DtK1W1v73dDiw+1D6SnA68pqq2V1UBtwCXts1rgE1tfdNB9VtqYDtwctuPJGlM5uOexnuBu4fe\nL03yrSRfT/LWVjsD2DXUZlerAZxWVXva+g+A04b6PDNDH0nSGCwcpXOSjwL7gS+20h7grKral+Rc\n4C+SnNO7v6qqJDWHcaxncAmLs84663C7S5I6zfmTRpJ3A78F/Nt2yYmqermq9rX1B4EngTcAuznw\nEtbiVgN4duqyU3t9rtV3A2fO0OcAVXVTVa2sqpUTExNznZIkaRZzCo0kq4E/AH67qn40VJ9IsqCt\nn83gJvbOdvnppSSr2lNTlwN3tW5bgHVtfd1B9cvbU1SrgBeHLmNJksZg1stTSW4FzgdOTbILuIbB\n01KvAra1J2e3tyelfg34eJL/C/wU+EBVTd1E/xCDJ7FezeAeyNR9kOuA25NcATwNvKvVtwKXAJPA\nj4D3jDJRSdLoZg2NqrpsmvLNM7S9E7hzhm07gDdNU98HXDBNvYArZxufJOnI8RvhkqRuhoYkqZuh\nIUnqZmhIkroZGpKkboaGJKmboSFJ6mZoSJK6GRqSpG6GhiSpm6EhSepmaEiSuhkakqRuhoYkqZuh\nIUnqZmhIkroZGpKkboaGJKmboSFJ6mZoSJK6dYVGko1Jnkvy6FDtlCTbkjzRXhe1epLckGQyycNJ\n3jzUZ11r/0SSdUP1c5M80vrckCSHOoYkaTx6P2l8AVh9UG0DcG9VLQPube8BLgaWtWU9cCMMAgC4\nBngLcB5wzVAI3Ai8b6jf6lmOIUkag67QqKpvAM8fVF4DbGrrm4BLh+q31MB24OQkpwMXAduq6vmq\negHYBqxu215TVdurqoBbDtrXdMeQJI3BKPc0TquqPW39B8Bpbf0M4Jmhdrta7VD1XdPUD3UMSdIY\nzMuN8PYJoeZjX3M5RpL1SXYk2bF3795XchiSdEIbJTSebZeWaK/Ptfpu4Myhdotb7VD1xdPUD3WM\nA1TVTVW1sqpWTkxMjDAlSdKhjBIaW4CpJ6DWAXcN1S9vT1GtAl5sl5juAS5MsqjdAL8QuKdteynJ\nqvbU1OUH7Wu6Y0iSxmBhT6MktwLnA6cm2cXgKajrgNuTXAE8DbyrNd8KXAJMAj8C3gNQVc8n+SPg\ngdbu41U1dXP9Qwye0Ho1cHdbOMQxJElj0BUaVXXZDJsumKZtAVfOsJ+NwMZp6juAN01T3zfdMSRJ\n4+E3wiVJ3QwNSVI3Q0OS1M3QkCR1MzQkSd0MDUlSN0NDktTN0JAkdTM0JEndDA1JUjdDQ5LUzdCQ\nJHUzNCRJ3QwNSVI3Q0OS1M3QkCR1MzQkSd0MDUlSN0NDktTN0JAkdTM0JEnd5hwaSd6Y5KGh5aUk\nH07ysSS7h+qXDPW5OslkkseTXDRUX91qk0k2DNWXJrmv1W9LctLcpypJGtWcQ6OqHq+qFVW1AjgX\n+BHw5bb501PbqmorQJLlwFrgHGA18NkkC5IsAD4DXAwsBy5rbQGub/t6PfACcMVcxytJGt18XZ66\nAHiyqp4+RJs1wOaqermqvg9MAue1ZbKqdlbVj4HNwJokAd4G3NH6bwIunafxSpLmYL5CYy1w69D7\nq5I8nGRjkkWtdgbwzFCbXa02U/21wA+rav9B9Z+TZH2SHUl27N27d/TZSJKmNXJotPsMvw18qZVu\nBF4HrAD2AJ8a9RizqaqbqmplVa2cmJh4pQ8nSSeshfOwj4uBb1bVswBTrwBJPg/8l/Z2N3DmUL/F\nrcYM9X3AyUkWtk8bw+0lSWMwH6FxGUOXppKcXlV72tt3AI+29S3AnyX5E+AfA8uA+4EAy5IsZRAK\na4F/U1WV5KvAOxnc51gH3DUP45WkV8ySDX85tmM/dd3bX/FjjBQaSX4B+E3g/UPlP06yAijgqalt\nVfVYktuB7wD7gSur6idtP1cB9wALgI1V9Vjb10eAzUk+AXwLuHmU8UqSRjNSaFTV/2Zww3q49ruH\naH8tcO009a3A1mnqOxk8XSVJOgr4jXBJUjdDQ5LUzdCQJHUzNCRJ3QwNSVI3Q0OS1M3QkCR1MzQk\nSd0MDUlSN0NDktTN0JAkdTM0JEndDA1JUjdDQ5LUzdCQJHUzNCRJ3QwNSVI3Q0OS1M3QkCR1MzQk\nSd1GDo0kTyV5JMlDSXa02ilJtiV5or0uavUkuSHJZJKHk7x5aD/rWvsnkqwbqp/b9j/Z+mbUMUuS\n5ma+Pmn8elWtqKqV7f0G4N6qWgbc294DXAwsa8t64EYYhAxwDfAW4DzgmqmgaW3eN9Rv9TyNWZJ0\nmF6py1NrgE1tfRNw6VD9lhrYDpyc5HTgImBbVT1fVS8A24DVbdtrqmp7VRVwy9C+JElH2HyERgFf\nSfJgkvWtdlpV7WnrPwBOa+tnAM8M9d3Vaoeq75qmfoAk65PsSLJj7969o85HkjSDhfOwj1+tqt1J\nfgnYluR7wxurqpLUPBxnRlV1E3ATwMqVK1/RY0nSiWzkTxpVtbu9Pgd8mcE9iWfbpSXa63Ot+W7g\nzKHui1vtUPXF09QlSWMwUmgk+YUk/3BqHbgQeBTYAkw9AbUOuKutbwEub09RrQJebJex7gEuTLKo\n3QC/ELinbXspyar21NTlQ/uSJB1ho16eOg34cnsKdiHwZ1X1V0keAG5PcgXwNPCu1n4rcAkwCfwI\neA9AVT2f5I+AB1q7j1fV8239Q8AXgFcDd7dFkjQGI4VGVe0E/vk09X3ABdPUC7hyhn1tBDZOU98B\nvGmUcUqS5offCJckdTM0JEndDA1JUjdDQ5LUzdCQJHUzNCRJ3QwNSVI3Q0OS1M3QkCR1MzQkSd0M\nDUlSN0NDktTN0JAkdTM0JEndDA1JUjdDQ5LUzdCQJHUzNCRJ3QwNSVI3Q0OS1G3OoZHkzCRfTfKd\nJI8l+b1W/1iS3UkeasslQ32uTjKZ5PEkFw3VV7faZJINQ/WlSe5r9duSnDTX8UqSRjfKJ439wO9X\n1XJgFXBlkuVt26erakVbtgK0bWuBc4DVwGeTLEiyAPgMcDGwHLhsaD/Xt329HngBuGKE8UqSRjTn\n0KiqPVX1zbb+P4HvAmccossaYHNVvVxV3wcmgfPaMllVO6vqx8BmYE2SAG8D7mj9NwGXznW8kqTR\nzcs9jSRLgH8B3NdKVyV5OMnGJIta7QzgmaFuu1ptpvprgR9W1f6D6pKkMRk5NJL8A+BO4MNV9RJw\nI/A6YAWwB/jUqMfoGMP6JDuS7Ni7d+8rfThJOmGNFBpJ/j6DwPhiVf05QFU9W1U/qaqfAp9ncPkJ\nYDdw5lD3xa02U30fcHKShQfVf05V3VRVK6tq5cTExChTkiQdwihPTwW4GfhuVf3JUP30oWbvAB5t\n61uAtUlelWQpsAy4H3gAWNaelDqJwc3yLVVVwFeBd7b+64C75jpeSdLoFs7eZEb/Evhd4JEkD7Xa\nHzJ4+mkFUMBTwPsBquqxJLcD32Hw5NWVVfUTgCRXAfcAC4CNVfVY299HgM1JPgF8i0FISZLGZM6h\nUVX/Dcg0m7Yeos+1wLXT1LdO16+qdvKzy1uSpDHzG+GSpG6GhiSpm6EhSepmaEiSuhkakqRuhoYk\nqZuhIUnqZmhIkroZGpKkboaGJKmboSFJ6mZoSJK6GRqSpG6GhiSpm6EhSepmaEiSuhkakqRuhoYk\nqZuhIUnqZmhIkrod9aGRZHWSx5NMJtkw7vFI0onsqA6NJAuAzwAXA8uBy5IsH++oJOnEdVSHBnAe\nMFlVO6vqx8BmYM2YxyRJJ6yjPTTOAJ4Zer+r1SRJY7Bw3AOYD0nWA+vb2/+V5PE57upU4G/nZ1SH\nJ9eP46jjm++YON/j2wk/3xH/HvknPY2O9tDYDZw59H5xqx2gqm4Cbhr1YEl2VNXKUfdzrHC+xzfn\ne3wb13yP9stTDwDLkixNchKwFtgy5jFJ0gnrqP6kUVX7k1wF3AMsADZW1WNjHpYknbCO6tAAqKqt\nwNYjdLiRL3EdY5zv8c35Ht/GMt9U1TiOK0k6Bh3t9zQkSUeREyY0kvxOkseS/DTJyoO2Xd1+puTx\nJBcN1af9CZN2Y/6+Vr+t3aQ/aiVZkWR7koeS7EhyXqsnyQ1tHg8nefNQn3VJnmjLuvGNfm6S/Lsk\n32vn/I+H6od1ro8lSX4/SSU5tb0/Ls9vkk+2c/twki8nOXlo23F7fqeMfS5VdUIswC8DbwS+Bqwc\nqi8Hvg28ClgKPMngpvuCtn42cFJrs7z1uR1Y29Y/B3xw3PObZe5fAS5u65cAXxtavxsIsAq4r9VP\nAXa210VtfdG453EY8/114K+BV7X3vzTXc32sLAweTb8HeBo49Tg/vxcCC9v69cD1x/v5HZr72Ody\nwnzSqKrvVtV0X/pbA2yuqper6vvAJIOfL5n2J0ySBHgbcEfrvwm49JWfwUgKeE1b/0Xgf7T1NcAt\nNbAdODnJ6cBFwLaqer6qXgC2AauP9KBH8EHguqp6GaCqnmv1wzrXYxj3KD4N/AGDcz3luDy/VfWV\nqtrf3m5n8P0tOL7P75Sxz+WECY1DmOmnSmaqvxb44dAf2mPhp00+DHwyyTPAfwCubvXDnfux4g3A\nW9slxK8n+ZVWPy7nm2QNsLuqvn3QpuNyvgd5L4NPU3BizHfscznqH7k9HEn+GvhH02z6aFXddaTH\ncyQdau7ABcC/r6o7k7wLuBn4jSM5vvk2y3wXMrj0sgr4FeD2JGcfweHNu1nm+4cMLtkcN3r+XU7y\nUWA/8MUjObYT3XEVGlU1l78ID/VTJdPV9zH4mL+wfdqY9qdNjrRDzT3JLcDvtbdfAv60rc80993A\n+QfVvzZPQ50Xs8z3g8Cf1+Ai8P1Jfsrgd3oO91wfNWaab5J/yuD6/bcHV05ZDHyzPexwXJ5fgCTv\nBn4LuKCdZziGz+9h6PpppVfUuG/sHOmFn78Rfg4H3jzbyeBm08K2vpSf3XA6p/X5EgfeCP/QuOc1\ny5y/C5zf1i8AHmzrb+fAG6X3t/opwPcZ3CRd1NZPGfc8DmO+HwA+3tbfwODjfOZyro+1BXiKn90I\nP17P72rgO8DEQfUT4fyOfS5j/4dwBP9hv4PB9b+XgWeBe4a2fZTBEwmP054yavVLgL9p2z46VD8b\nuJ/BjbYv0Z7SOVoX4FeBB9sfsPuAc1s9DP4nV08Cj3BgmL63zW8SeM+453CY8z0J+M/Ao8A3gbfN\n9Vwfa8tBoXG8nt/J9h8CD7XlcyfK+T0a5uI3wiVJ3Xx6SpLUzdCQJHUzNCRJ3QwNSVI3Q0OS1M3Q\nkCR1MzQkSd0MDUlSt/8HoSIqYMvc904AAAAASUVORK5CYII=\n",
      "text/plain": [
       "<matplotlib.figure.Figure at 0x118405898>"
      ]
     },
     "metadata": {},
     "output_type": "display_data"
    },
    {
     "name": "stdout",
     "output_type": "stream",
     "text": [
      "I am the feature 9\n"
     ]
    },
    {
     "data": {
      "image/png": "iVBORw0KGgoAAAANSUhEUgAAAYcAAAD8CAYAAACcjGjIAAAABHNCSVQICAgIfAhkiAAAAAlwSFlz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\ndQwHSVLHcJAkdQwHSVLn/wMMfQQIM8C6TwAAAABJRU5ErkJggg==\n",
      "text/plain": [
       "<matplotlib.figure.Figure at 0x1183c8ef0>"
      ]
     },
     "metadata": {},
     "output_type": "display_data"
    },
    {
     "name": "stdout",
     "output_type": "stream",
     "text": [
      "I am the feature 10\n"
     ]
    },
    {
     "data": {
      "image/png": "iVBORw0KGgoAAAANSUhEUgAAAY0AAAD8CAYAAACLrvgBAAAABHNCSVQICAgIfAhkiAAAAAlwSFlz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\nUyv6svwAAAAASUVORK5CYII=\n",
      "text/plain": [
       "<matplotlib.figure.Figure at 0x10ad344e0>"
      ]
     },
     "metadata": {},
     "output_type": "display_data"
    },
    {
     "name": "stdout",
     "output_type": "stream",
     "text": [
      "I am the feature 11\n"
     ]
    },
    {
     "data": {
      "image/png": "iVBORw0KGgoAAAANSUhEUgAAAY0AAAD8CAYAAACLrvgBAAAABHNCSVQICAgIfAhkiAAAAAlwSFlz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\nSJJ6+/8wRnIPDZwJaAAAAABJRU5ErkJggg==\n",
      "text/plain": [
       "<matplotlib.figure.Figure at 0x10b7941d0>"
      ]
     },
     "metadata": {},
     "output_type": "display_data"
    },
    {
     "name": "stdout",
     "output_type": "stream",
     "text": [
      "I am the feature 12\n"
     ]
    },
    {
     "data": {
      "image/png": "iVBORw0KGgoAAAANSUhEUgAAAY0AAAD8CAYAAACLrvgBAAAABHNCSVQICAgIfAhkiAAAAAlwSFlz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\nbRQ/LwAAAABJRU5ErkJggg==\n",
      "text/plain": [
       "<matplotlib.figure.Figure at 0x107c14fd0>"
      ]
     },
     "metadata": {},
     "output_type": "display_data"
    },
    {
     "name": "stdout",
     "output_type": "stream",
     "text": [
      "I am the feature 13\n"
     ]
    },
    {
     "data": {
      "image/png": "iVBORw0KGgoAAAANSUhEUgAAAY0AAAD8CAYAAACLrvgBAAAABHNCSVQICAgIfAhkiAAAAAlwSFlz\nAAALEgAACxIB0t1+/AAAEixJREFUeJzt3X+snmV9x/H3Z3T4a1OKdIgtWTE2ukqyiA1WXYwRgwUX\nyzI1mGVU09kZYXPLklm3ZCT+yHBZ5iRTFiKdxRiRMTc6LesqSMz+KHIQFQsyjojShh9HizBn/FH9\n7o/nqnss55xePc9pn3NO36/kybnu733d931d5/T00/vH8zRVhSRJPX5p3AOQJC0ehoYkqZuhIUnq\nZmhIkroZGpKkboaGJKmboSFJ6mZoSJK6GRqSpG7Lxj2A+XbaaafV6tWrxz0MSVpU7rjjju9U1Yoj\n9VtyobF69WomJibGPQxJWlSSfKunn5enJEndDA1JUjdDQ5LUzdCQJHUzNCRJ3QwNSVI3Q0OS1O2I\noZFkW5JHk3xtqHZqkt1J7mtfl7d6klyZZDLJV5OcM7TNptb/viSbhuovSXJX2+bKJJntGJKk8ek5\n0/gYsOGw2lbg5qpaA9zclgEuANa01xbgKhgEAHA58FLgXODyoRC4Cnjb0HYbjnAMSdKYHPEd4VX1\nhSSrDytvBF7V2tuBW4F3tfq1VVXAniSnJDmj9d1dVQcAkuwGNiS5FXhmVe1p9WuBi4CbZjnGMbN6\n62eP5e5n9MAVrxvLcSXpaM31nsbpVfVQaz8MnN7aK4EHh/rta7XZ6vumqc92DEnSmIx8I7ydVdQ8\njGXOx0iyJclEkompqaljORRJOqHNNTQeaZedaF8fbfX9wJlD/Va12mz1VdPUZzvGk1TV1VW1rqrW\nrVhxxA9plCTN0VxDYwdw6AmoTcCNQ/VL2lNU64HH2yWmXcD5SZa3G+DnA7vauieSrG9PTV1y2L6m\nO4YkaUyOeCM8yScZ3JA+Lck+Bk9BXQFcn2Qz8C3gTa37TuBCYBL4AfBWgKo6kOS9wO2t33sO3RQH\n3sHgCa2nMbgBflOrz3QMSdKY9Dw99eYZVp03Td8CLp1hP9uAbdPUJ4Czp6l/d7pjSJLGx3eES5K6\nGRqSpG6GhiSpm6EhSepmaEiSuhkakqRuhoYkqZuhIUnqZmhIkroZGpKkboaGJKmboSFJ6mZoSJK6\nGRqSpG6GhiSpm6EhSepmaEiSuhkakqRuhoYkqZuhIUnqZmhIkroZGpKkboaGJKmboSFJ6mZoSJK6\nGRqSpG6GhiSpm6EhSepmaEiSuhkakqRuhoYkqZuhIUnqNlJoJPnTJHuTfC3JJ5M8NclZSW5LMpnk\nU0lObn2f0pYn2/rVQ/t5d6vfm+S1Q/UNrTaZZOsoY5UkjW7OoZFkJfDHwLqqOhs4CbgY+ADwwap6\nPvAYsLltshl4rNU/2PqRZG3b7kXABuAjSU5KchLwYeACYC3w5tZXkjQmo16eWgY8Lcky4OnAQ8Cr\ngRva+u3ARa29sS3T1p+XJK1+XVX9qKq+CUwC57bXZFXdX1U/Bq5rfSVJYzLn0Kiq/cDfAt9mEBaP\nA3cA36uqg63bPmBla68EHmzbHmz9nz1cP2ybmeqSpDEZ5fLUcgb/8j8LeC7wDAaXl467JFuSTCSZ\nmJqaGscQJOmEMMrlqdcA36yqqar6CfBp4BXAKe1yFcAqYH9r7wfOBGjrnwV8d7h+2DYz1Z+kqq6u\nqnVVtW7FihUjTEmSNJtRQuPbwPokT2/3Js4D7gY+D7yh9dkE3NjaO9oybf0tVVWtfnF7uuosYA3w\nReB2YE17GutkBjfLd4wwXknSiJYducv0quq2JDcAXwIOAncCVwOfBa5L8r5Wu6Ztcg3w8SSTwAEG\nIUBV7U1yPYPAOQhcWlU/BUhyGbCLwZNZ26pq71zHK0ka3ZxDA6CqLgcuP6x8P4Mnnw7v+0PgjTPs\n5/3A+6ep7wR2jjJGSdL88R3hkqRuhoYkqZuhIUnqZmhIkroZGpKkboaGJKmboSFJ6mZoSJK6GRqS\npG6GhiSpm6EhSeo20mdPSZJ+0eqtnx3LcR+44nXH5TieaUiSuhkakqRuhoYkqZuhIUnqZmhIkroZ\nGpKkboaGJKmboSFJ6mZoSJK6GRqSpG6GhiSpm6EhSepmaEiSuhkakqRuhoYkqZuhIUnqZmhIkroZ\nGpKkboaGJKmboSFJ6jZSaCQ5JckNSb6e5J4kL0tyapLdSe5rX5e3vklyZZLJJF9Ncs7Qfja1/vcl\n2TRUf0mSu9o2VybJKOOVJI1m1DONDwH/UVUvBH4TuAfYCtxcVWuAm9sywAXAmvbaAlwFkORU4HLg\npcC5wOWHgqb1edvQdhtGHK8kaQRzDo0kzwJeCVwDUFU/rqrvARuB7a3bduCi1t4IXFsDe4BTkpwB\nvBbYXVUHquoxYDewoa17ZlXtqaoCrh3alyRpDEY50zgLmAL+KcmdST6a5BnA6VX1UOvzMHB6a68E\nHhzafl+rzVbfN01dkjQmo4TGMuAc4KqqejHwv/z/pSgA2hlCjXCMLkm2JJlIMjE1NXWsDydJJ6xR\nQmMfsK+qbmvLNzAIkUfapSXa10fb+v3AmUPbr2q12eqrpqk/SVVdXVXrqmrdihUrRpiSJGk2cw6N\nqnoYeDDJC1rpPOBuYAdw6AmoTcCNrb0DuKQ9RbUeeLxdxtoFnJ9kebsBfj6wq617Isn69tTUJUP7\nkiSNwbIRt/8j4BNJTgbuB97KIIiuT7IZ+BbwptZ3J3AhMAn8oPWlqg4keS9we+v3nqo60NrvAD4G\nPA24qb0kSWMyUmhU1ZeBddOsOm+avgVcOsN+tgHbpqlPAGePMkZJ0vzxHeGSpG6GhiSpm6EhSepm\naEiSuhkakqRuhoYkqZuhIUnqZmhIkroZGpKkboaGJKmboSFJ6mZoSJK6GRqSpG6GhiSpm6EhSepm\naEiSuhkakqRuhoYkqZuhIUnqZmhIkroZGpKkboaGJKmboSFJ6mZoSJK6GRqSpG6GhiSpm6EhSepm\naEiSuhkakqRuhoYkqZuhIUnqZmhIkrqNHBpJTkpyZ5LPtOWzktyWZDLJp5Kc3OpPacuTbf3qoX28\nu9XvTfLaofqGVptMsnXUsUqSRjMfZxrvBO4ZWv4A8MGqej7wGLC51TcDj7X6B1s/kqwFLgZeBGwA\nPtKC6CTgw8AFwFrgza2vJGlMRgqNJKuA1wEfbcsBXg3c0LpsBy5q7Y1tmbb+vNZ/I3BdVf2oqr4J\nTALnttdkVd1fVT8Grmt9JUljMuqZxt8Dfw78rC0/G/heVR1sy/uAla29EngQoK1/vPX/ef2wbWaq\nS5LGZM6hkeS3gUer6o55HM9cx7IlyUSSiampqXEPR5KWrFHONF4BvD7JAwwuHb0a+BBwSpJlrc8q\nYH9r7wfOBGjrnwV8d7h+2DYz1Z+kqq6uqnVVtW7FihUjTEmSNJs5h0ZVvbuqVlXVagY3sm+pqt8D\nPg+8oXXbBNzY2jvaMm39LVVVrX5xe7rqLGAN8EXgdmBNexrr5HaMHXMdryRpdMuO3OWovQu4Lsn7\ngDuBa1r9GuDjSSaBAwxCgKram+R64G7gIHBpVf0UIMllwC7gJGBbVe09BuOVJHWal9CoqluBW1v7\nfgZPPh3e54fAG2fY/v3A+6ep7wR2zscYJUmj8x3hkqRuhoYkqZuhIUnqZmhIkroZGpKkboaGJKmb\noSFJ6mZoSJK6GRqSpG6GhiSpm6EhSepmaEiSuhkakqRuhoYkqZuhIUnqZmhIkroZGpKkboaGJKmb\noSFJ6mZoSJK6GRqSpG6GhiSpm6EhSepmaEiSuhkakqRuhoYkqZuhIUnqZmhIkroZGpKkboaGJKmb\noSFJ6mZoSJK6zTk0kpyZ5PNJ7k6yN8k7W/3UJLuT3Ne+Lm/1JLkyyWSSryY5Z2hfm1r/+5JsGqq/\nJMldbZsrk2SUyUqSRjPKmcZB4M+qai2wHrg0yVpgK3BzVa0Bbm7LABcAa9prC3AVDEIGuBx4KXAu\ncPmhoGl93ja03YYRxitJGtGcQ6OqHqqqL7X2/wD3ACuBjcD21m07cFFrbwSurYE9wClJzgBeC+yu\nqgNV9RiwG9jQ1j2zqvZUVQHXDu1LkjQG83JPI8lq4MXAbcDpVfVQW/UwcHprrwQeHNpsX6vNVt83\nTV2SNCYjh0aSXwH+BfiTqnpieF07Q6hRj9Exhi1JJpJMTE1NHevDSdIJa6TQSPLLDALjE1X16VZ+\npF1aon19tNX3A2cObb6q1Warr5qm/iRVdXVVrauqdStWrBhlSpKkWYzy9FSAa4B7qurvhlbtAA49\nAbUJuHGofkl7imo98Hi7jLULOD/J8nYD/HxgV1v3RJL17ViXDO1LkjQGy0bY9hXA7wN3Jflyq/0F\ncAVwfZLNwLeAN7V1O4ELgUngB8BbAarqQJL3Are3fu+pqgOt/Q7gY8DTgJvaS5KOaPXWz457CEvS\nnEOjqv4LmOl9E+dN07+AS2fY1zZg2zT1CeDsuY5RkjS/fEe4JKmboSFJ6mZoSJK6GRqSpG6GhiSp\nm6EhSepmaEiSuhkakqRuhoYkqZuhIUnqZmhIkroZGpKkboaGJKnbKB+Nrnkyzo9wfuCK143t2JIW\nH880JEndDA1JUjcvT0k6Zvzf85YezzQkSd0MDUlSNy9P6YQzrksmPqmmpcDQOMH5F+jx46PVWgoM\nDekE4A1pzRdDQ2PhX2LS4uSNcElSN0NDktTN0JAkdTM0JEndDA1JUjdDQ5LUzdCQJHUzNCRJ3QwN\nSVK3BR8aSTYkuTfJZJKt4x6PJJ3IFnRoJDkJ+DBwAbAWeHOSteMdlSSduBZ0aADnApNVdX9V/Ri4\nDtg45jFJ0glroYfGSuDBoeV9rSZJGoMl8Sm3SbYAW9ri95PcO02304DvHL9RHTdLcV5LcU7gvBab\nRTWvfKC760zz+vWejRd6aOwHzhxaXtVqv6Cqrgaunm1HSSaqat38Dm/8luK8luKcwHktNs5regv9\n8tTtwJokZyU5GbgY2DHmMUnSCWtBn2lU1cEklwG7gJOAbVW1d8zDkqQT1oIODYCq2gnsnIddzXr5\nahFbivNainMC57XYOK9ppKrmayCSpCVuod/TkCQtIEs2NJK8McneJD9LMuOTAkkeSHJXki8nmTie\nY5yLo5jXovn4lSSnJtmd5L72dfkM/X7afk5fTrJgH4g40vc+yVOSfKqtvy3J6uM/yqPXMa+3JJka\n+hn9wTjGeTSSbEvyaJKvzbA+Sa5sc/5qknOO9xjnomNer0ry+NDP6q+6d15VS/IF/AbwAuBWYN0s\n/R4AThv3eOdzXgweGvgG8DzgZOArwNpxj32WOf0NsLW1twIfmKHf98c91o65HPF7D7wD+MfWvhj4\n1LjHPU/zegvwD+Me61HO65XAOcDXZlh/IXATEGA9cNu4xzxP83oV8Jm57HvJnmlU1T1VNd2b/Ba1\nznktto9f2Qhsb+3twEVjHMuoer73w/O9ATgvSY7jGOdisf2Z6lJVXwAOzNJlI3BtDewBTklyxvEZ\n3dx1zGvOlmxoHIUC/jPJHe2d5UvBYvv4ldOr6qHWfhg4fYZ+T00ykWRPkoUaLD3f+5/3qaqDwOPA\ns4/L6Oau98/U77bLODckOXOa9YvNYvtdOhovS/KVJDcleVHvRgv+kdvZJPkc8JxpVv1lVd3YuZvf\nqqr9SX4N2J3k6y2lx2ae5rWgzDan4YWqqiQzPdL36+1n9TzgliR3VdU35nusmrN/Bz5ZVT9K8ocM\nzqZePeYxaXpfYvD79P0kFwL/Bqzp2XBRh0ZVvWYe9rG/fX00yb8yOA0fa2jMw7y6Pn7leJptTkke\nSXJGVT3UTv0fnWEfh35W9ye5FXgxg+vsC0nP9/5Qn31JlgHPAr57fIY3Z0ecV1UNz+GjDO5VLXYL\n7ndpPlTVE0PtnUk+kuS0qjriZ22d0Jenkjwjya8eagPnA9M+bbDILLaPX9kBbGrtTcCTzqaSLE/y\nlNY+DXgFcPdxG2G/nu/98HzfANxS7e7kAnbEeR12rf/1wD3HcXzHyg7gkvYU1Xrg8aFLqYtWkucc\nuo+W5FwGWdD3D5dx3+U/hk8P/A6D648/Ah4BdrX6c4Gdrf08Bk+BfAXYy+Dyz9jHPuq82vKFwH8z\n+Jf4gp4Xg+v5NwP3AZ8DTm31dcBHW/vlwF3tZ3UXsHnc455lPk/63gPvAV7f2k8F/hmYBL4IPG/c\nY56nef11+z36CvB54IXjHnPHnD4JPAT8pP1ebQbeDry9rQ+D/wjuG+3P3YxPYi6kV8e8Lhv6We0B\nXt67b98RLknqdkJfnpIkHR1DQ5LUzdCQJHUzNCRJ3QwNSVI3Q0OS1M3QkCR1MzQkSd3+DzLg98Gs\n0T3YAAAAAElFTkSuQmCC\n",
      "text/plain": [
       "<matplotlib.figure.Figure at 0x1183ece80>"
      ]
     },
     "metadata": {},
     "output_type": "display_data"
    },
    {
     "name": "stdout",
     "output_type": "stream",
     "text": [
      "I am the feature 14\n"
     ]
    },
    {
     "data": {
      "image/png": "iVBORw0KGgoAAAANSUhEUgAAAY0AAAD8CAYAAACLrvgBAAAABHNCSVQICAgIfAhkiAAAAAlwSFlz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\nkroZGpKkboaGJKmboSFJ6mZoSJK6/T/zmSpg4OmMCwAAAABJRU5ErkJggg==\n",
      "text/plain": [
       "<matplotlib.figure.Figure at 0x107e2d7b8>"
      ]
     },
     "metadata": {},
     "output_type": "display_data"
    },
    {
     "name": "stdout",
     "output_type": "stream",
     "text": [
      "I am the feature 15\n"
     ]
    },
    {
     "data": {
      "image/png": "iVBORw0KGgoAAAANSUhEUgAAAZIAAAD8CAYAAABdCyJkAAAABHNCSVQICAgIfAhkiAAAAAlwSFlz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\nqcv/BzQXx1XIN2tSAAAAAElFTkSuQmCC\n",
      "text/plain": [
       "<matplotlib.figure.Figure at 0x1183cda90>"
      ]
     },
     "metadata": {},
     "output_type": "display_data"
    },
    {
     "name": "stdout",
     "output_type": "stream",
     "text": [
      "I am the feature 16\n"
     ]
    },
    {
     "data": {
      "image/png": "iVBORw0KGgoAAAANSUhEUgAAAYcAAAD8CAYAAACcjGjIAAAABHNCSVQICAgIfAhkiAAAAAlwSFlz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\n",
      "text/plain": [
       "<matplotlib.figure.Figure at 0x16b8bcba8>"
      ]
     },
     "metadata": {},
     "output_type": "display_data"
    },
    {
     "name": "stdout",
     "output_type": "stream",
     "text": [
      "I am the feature 17\n"
     ]
    },
    {
     "data": {
      "image/png": "iVBORw0KGgoAAAANSUhEUgAAAYcAAAD8CAYAAACcjGjIAAAABHNCSVQICAgIfAhkiAAAAAlwSFlz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\nLgAAAABJRU5ErkJggg==\n",
      "text/plain": [
       "<matplotlib.figure.Figure at 0x16a5fe668>"
      ]
     },
     "metadata": {},
     "output_type": "display_data"
    },
    {
     "name": "stdout",
     "output_type": "stream",
     "text": [
      "I am the feature 18\n"
     ]
    },
    {
     "data": {
      "image/png": "iVBORw0KGgoAAAANSUhEUgAAAY0AAAD8CAYAAACLrvgBAAAABHNCSVQICAgIfAhkiAAAAAlwSFlz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\nQmCC\n",
      "text/plain": [
       "<matplotlib.figure.Figure at 0x107fb3a90>"
      ]
     },
     "metadata": {},
     "output_type": "display_data"
    },
    {
     "name": "stdout",
     "output_type": "stream",
     "text": [
      "I am the feature 19\n"
     ]
    },
    {
     "data": {
      "image/png": "iVBORw0KGgoAAAANSUhEUgAAAYcAAAD8CAYAAACcjGjIAAAABHNCSVQICAgIfAhkiAAAAAlwSFlz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\nw0GS1DEcJEkdw0GS1DEcJEkdw0GS1Pk/Y2DpvOkdGPEAAAAASUVORK5CYII=\n",
      "text/plain": [
       "<matplotlib.figure.Figure at 0x16a609748>"
      ]
     },
     "metadata": {},
     "output_type": "display_data"
    },
    {
     "name": "stdout",
     "output_type": "stream",
     "text": [
      "I am the feature 20\n"
     ]
    },
    {
     "data": {
      "image/png": "iVBORw0KGgoAAAANSUhEUgAAAYcAAAD8CAYAAACcjGjIAAAABHNCSVQICAgIfAhkiAAAAAlwSFlz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\nTkSuQmCC\n",
      "text/plain": [
       "<matplotlib.figure.Figure at 0x118475978>"
      ]
     },
     "metadata": {},
     "output_type": "display_data"
    },
    {
     "name": "stdout",
     "output_type": "stream",
     "text": [
      "I am the feature 21\n"
     ]
    },
    {
     "data": {
      "image/png": "iVBORw0KGgoAAAANSUhEUgAAAY0AAAD8CAYAAACLrvgBAAAABHNCSVQICAgIfAhkiAAAAAlwSFlz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\n3QwNSVI3Q0OS1M3QkCR1+3+r1TNTHwvPWAAAAABJRU5ErkJggg==\n",
      "text/plain": [
       "<matplotlib.figure.Figure at 0x10ba43eb8>"
      ]
     },
     "metadata": {},
     "output_type": "display_data"
    },
    {
     "name": "stdout",
     "output_type": "stream",
     "text": [
      "I am the feature 22\n"
     ]
    },
    {
     "data": {
      "image/png": "iVBORw0KGgoAAAANSUhEUgAAAYcAAAD8CAYAAACcjGjIAAAABHNCSVQICAgIfAhkiAAAAAlwSFlz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\n",
      "text/plain": [
       "<matplotlib.figure.Figure at 0x11868ff28>"
      ]
     },
     "metadata": {},
     "output_type": "display_data"
    },
    {
     "name": "stdout",
     "output_type": "stream",
     "text": [
      "I am the feature 23\n"
     ]
    },
    {
     "data": {
      "image/png": "iVBORw0KGgoAAAANSUhEUgAAAY0AAAD8CAYAAACLrvgBAAAABHNCSVQICAgIfAhkiAAAAAlwSFlz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\nkjozNCRJnf1/A4RNaXo7tWgAAAAASUVORK5CYII=\n",
      "text/plain": [
       "<matplotlib.figure.Figure at 0x10bf0c208>"
      ]
     },
     "metadata": {},
     "output_type": "display_data"
    },
    {
     "name": "stdout",
     "output_type": "stream",
     "text": [
      "I am the feature 24\n"
     ]
    },
    {
     "data": {
      "image/png": "iVBORw0KGgoAAAANSUhEUgAAAY0AAAD8CAYAAACLrvgBAAAABHNCSVQICAgIfAhkiAAAAAlwSFlz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\n",
      "text/plain": [
       "<matplotlib.figure.Figure at 0x10b66a320>"
      ]
     },
     "metadata": {},
     "output_type": "display_data"
    },
    {
     "name": "stdout",
     "output_type": "stream",
     "text": [
      "I am the feature 25\n"
     ]
    },
    {
     "data": {
      "image/png": "iVBORw0KGgoAAAANSUhEUgAAAY0AAAD8CAYAAACLrvgBAAAABHNCSVQICAgIfAhkiAAAAAlwSFlz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\n1M3QkCR1MzQkSd3+D/xc4ZfEiRWAAAAAAElFTkSuQmCC\n",
      "text/plain": [
       "<matplotlib.figure.Figure at 0x10b71e5c0>"
      ]
     },
     "metadata": {},
     "output_type": "display_data"
    },
    {
     "name": "stdout",
     "output_type": "stream",
     "text": [
      "I am the feature 26\n"
     ]
    },
    {
     "data": {
      "image/png": "iVBORw0KGgoAAAANSUhEUgAAAY0AAAD8CAYAAACLrvgBAAAABHNCSVQICAgIfAhkiAAAAAlwSFlz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\n",
      "text/plain": [
       "<matplotlib.figure.Figure at 0x107bcb390>"
      ]
     },
     "metadata": {},
     "output_type": "display_data"
    },
    {
     "name": "stdout",
     "output_type": "stream",
     "text": [
      "I am the feature 27\n"
     ]
    },
    {
     "data": {
      "image/png": "iVBORw0KGgoAAAANSUhEUgAAAY0AAAD8CAYAAACLrvgBAAAABHNCSVQICAgIfAhkiAAAAAlwSFlz\nAAALEgAACxIB0t1+/AAAFa5JREFUeJzt3X+wnmWd3/H3p0mhuh1NkLOsTaCJNWsb6Y/FLKZj27HE\nQlBnQ2fUgemUrDJmVnHr7jjjgv7BjMoM1J3SZUbZYSU1WMeIrDtkamjMotbpTAMEf4CALMegJilI\nlkRs64iNfvvHc6U+HM7JuXKew3mSnPdr5plz3d/7uu/7uryBj/eP55xUFZIk9fgb4x6AJOnUYWhI\nkroZGpKkboaGJKmboSFJ6mZoSJK6GRqSpG6GhiSpm6EhSeq2dNwDmG9nn312rVq1atzDkKRTygMP\nPPDXVTUxW7/TLjRWrVrF3r17xz0MSTqlJPlBTz9vT0mSuhkakqRuhoYkqZuhIUnqZmhIkroZGpKk\nboaGJKmboSFJ6mZoSJK6nXbfCJekcVp1zZfGduzv3/CWF/0YXmlIkroZGpKkboaGJKmboSFJ6mZo\nSJK6GRqSpG6GhiSpm6EhSepmaEiSus0aGkm2Jnk6yXemWfeBJJXk7LacJDcnmUzyYJILhvpuTvJ4\n+2weqr8uyUNtm5uTpNXPSrK79d+dZPn8TFmSNFc9VxqfBjZOLSY5F7gY+OFQ+VJgTftsAW5pfc8C\nrgNeD1wIXDcUArcA7x7a7tixrgHuqao1wD1tWZI0RrOGRlV9HTg8zaqbgA8CNVTbBNxeA3uAZUle\nCVwC7K6qw1V1BNgNbGzrXlZVe6qqgNuBy4b2ta21tw3VJUljMqdnGkk2AQer6ttTVq0A9g8tH2i1\n49UPTFMHOKeqnmztp4Bz5jJWSdL8OeHfcpvkpcCHGNyaWhBVVUlqpvVJtjC4HcZ55523UMOSpEVn\nLlcafw9YDXw7yfeBlcA3kvwGcBA4d6jvylY7Xn3lNHWAH7XbV7SfT880oKq6tarWVdW6iYmJOUxJ\nktTjhEOjqh6qql+vqlVVtYrBLaULquopYAdwZXuLaj3wbLvFtAu4OMny9gD8YmBXW/eTJOvbW1NX\nAne1Q+0Ajr1ltXmoLkkak55Xbj8H/A/gNUkOJLnqON13AvuASeDPgPcCVNVh4KPA/e3zkVaj9flU\n2+Z7wN2tfgPwr5I8DrypLUuSxmjWZxpVdcUs61cNtQu4eoZ+W4Gt09T3AudPU38G2DDb+CRJC8dv\nhEuSuhkakqRuhoYkqZuhIUnqZmhIkroZGpKkboaGJKmboSFJ6mZoSJK6GRqSpG6GhiSpm6EhSepm\naEiSuhkakqRuhoYkqZuhIUnqZmhIkroZGpKkboaGJKnbrKGRZGuSp5N8Z6j28STfTfJgkr9Ismxo\n3bVJJpM8luSSofrGVptMcs1QfXWSe1v980nOaPUz2/JkW79qviYtSZqbniuNTwMbp9R2A+dX1T8C\n/gq4FiDJWuBy4LVtm08mWZJkCfAJ4FJgLXBF6wtwI3BTVb0aOAJc1epXAUda/abWT5I0RrOGRlV9\nHTg8pfblqjraFvcAK1t7E7C9qp6rqieASeDC9pmsqn1V9XNgO7ApSYCLgDvb9tuAy4b2ta217wQ2\ntP6SpDGZj2ca7wLubu0VwP6hdQdabab6K4AfDwXQsfrz9tXWP9v6v0CSLUn2Jtl76NChkSckSZre\nSKGR5MPAUeCz8zOcuamqW6tqXVWtm5iYGOdQJOm0tnSuGyb5XeCtwIaqqlY+CJw71G1lqzFD/Rlg\nWZKl7WpiuP+xfR1IshR4eesvSRqTOV1pJNkIfBD4nar66dCqHcDl7c2n1cAa4D7gfmBNe1PqDAYP\ny3e0sPkq8La2/WbgrqF9bW7ttwFfGQonSdIYzHqlkeRzwBuBs5McAK5j8LbUmcDu9mx6T1X9XlU9\nnOQO4BEGt62urqpftP28D9gFLAG2VtXD7RB/BGxP8jHgm8BtrX4b8JkkkwwexF8+D/OVJI1g1tCo\nqiumKd82Te1Y/+uB66ep7wR2TlPfx+Dtqqn1nwFvn218kqSF4zfCJUndDA1JUjdDQ5LUzdCQJHUz\nNCRJ3QwNSVI3Q0OS1M3QkCR1MzQkSd0MDUlSN0NDktTN0JAkdTM0JEndDA1JUjdDQ5LUzdCQJHUz\nNCRJ3QwNSVK3WUMjydYkTyf5zlDtrCS7kzzefi5v9SS5OclkkgeTXDC0zebW//Ekm4fqr0vyUNvm\n5rQ/Oj7TMSRJ49NzpfFpYOOU2jXAPVW1BrinLQNcCqxpny3ALTAIAOA64PUM/h74dUMhcAvw7qHt\nNs5yDEnSmMwaGlX1deDwlPImYFtrbwMuG6rfXgN7gGVJXglcAuyuqsNVdQTYDWxs615WVXuqqoDb\np+xrumNIksZkrs80zqmqJ1v7KeCc1l4B7B/qd6DVjlc/ME39eMeQJI3J0lF3UFWVpOZjMHM9RpIt\nDG6Hcd555835OKuu+dKctx3V9294y9iOLUm95nql8aN2a4n28+lWPwicO9RvZasdr75ymvrxjvEC\nVXVrVa2rqnUTExNznJIkaTZzDY0dwLE3oDYDdw3Vr2xvUa0Hnm23mHYBFydZ3h6AXwzsaut+kmR9\ne2vqyin7mu4YkqQxmfX2VJLPAW8Ezk5ygMFbUDcAdyS5CvgB8I7WfSfwZmAS+CnwToCqOpzko8D9\nrd9HqurYw/X3MnhD6yXA3e3DcY4hSRqTWUOjqq6YYdWGafoWcPUM+9kKbJ2mvhc4f5r6M9MdQ5I0\nPn4jXJLUzdCQJHUzNCRJ3QwNSVI3Q0OS1M3QkCR1MzQkSd0MDUlSN0NDktTN0JAkdTM0JEndDA1J\nUjdDQ5LUzdCQJHUzNCRJ3QwNSVI3Q0OS1M3QkCR1MzQkSd1GCo0kf5jk4STfSfK5JH8ryeok9yaZ\nTPL5JGe0vme25cm2ftXQfq5t9ceSXDJU39hqk0muGWWskqTRzTk0kqwA/h2wrqrOB5YAlwM3AjdV\n1auBI8BVbZOrgCOtflPrR5K1bbvXAhuBTyZZkmQJ8AngUmAtcEXrK0kak1FvTy0FXpJkKfBS4Eng\nIuDOtn4bcFlrb2rLtPUbkqTVt1fVc1X1BDAJXNg+k1W1r6p+DmxvfSVJYzLn0Kiqg8AfAz9kEBbP\nAg8AP66qo63bAWBFa68A9rdtj7b+rxiuT9lmpvoLJNmSZG+SvYcOHZrrlCRJsxjl9tRyBv/PfzXw\nd4BfY3B7acFV1a1Vta6q1k1MTIxjCJK0KIxye+pNwBNVdaiq/i/wReANwLJ2uwpgJXCwtQ8C5wK0\n9S8HnhmuT9lmprokaUxGCY0fAuuTvLQ9m9gAPAJ8FXhb67MZuKu1d7Rl2vqvVFW1+uXt7arVwBrg\nPuB+YE17G+sMBg/Ld4wwXknSiJbO3mV6VXVvkjuBbwBHgW8CtwJfArYn+Vir3dY2uQ34TJJJ4DCD\nEKCqHk5yB4PAOQpcXVW/AEjyPmAXgzeztlbVw3MdryRpdHMODYCqug64bkp5H4M3n6b2/Rnw9hn2\ncz1w/TT1ncDOUcYoSZo/fiNcktTN0JAkdTM0JEndDA1JUjdDQ5LUzdCQJHUzNCRJ3QwNSVI3Q0OS\n1M3QkCR1MzQkSd0MDUlSN0NDktTN0JAkdTM0JEndDA1JUjdDQ5LUzdCQJHUbKTSSLEtyZ5LvJnk0\nyT9NclaS3Ukebz+Xt75JcnOSySQPJrlgaD+bW//Hk2weqr8uyUNtm5uTZJTxSpJGM+qVxp8A/7Wq\n/j7wj4FHgWuAe6pqDXBPWwa4FFjTPluAWwCSnMXg74y/nsHfFr/uWNC0Pu8e2m7jiOOVJI1gzqGR\n5OXAvwBuA6iqn1fVj4FNwLbWbRtwWWtvAm6vgT3AsiSvBC4BdlfV4ao6AuwGNrZ1L6uqPVVVwO1D\n+5IkjcEoVxqrgUPAf0ryzSSfSvJrwDlV9WTr8xRwTmuvAPYPbX+g1Y5XPzBNXZI0JqOExlLgAuCW\nqvot4P/wq1tRALQrhBrhGF2SbEmyN8neQ4cOvdiHk6RFa5TQOAAcqKp72/KdDELkR+3WEu3n0239\nQeDcoe1Xttrx6iunqb9AVd1aVeuqat3ExMQIU5IkHc+cQ6OqngL2J3lNK20AHgF2AMfegNoM3NXa\nO4Ar21tU64Fn222sXcDFSZa3B+AXA7vaup8kWd/emrpyaF+SpDFYOuL2vw98NskZwD7gnQyC6I4k\nVwE/AN7R+u4E3gxMAj9tfamqw0k+Ctzf+n2kqg639nuBTwMvAe5uH0nSmIwUGlX1LWDdNKs2TNO3\ngKtn2M9WYOs09b3A+aOMUZI0f/xGuCSpm6EhSepmaEiSuhkakqRuhoYkqZuhIUnqZmhIkroZGpKk\nboaGJKmboSFJ6mZoSJK6GRqSpG6GhiSpm6EhSepmaEiSuhkakqRuhoYkqZuhIUnqZmhIkrqNHBpJ\nliT5ZpL/0pZXJ7k3yWSSzyc5o9XPbMuTbf2qoX1c2+qPJblkqL6x1SaTXDPqWCVJo5mPK433A48O\nLd8I3FRVrwaOAFe1+lXAkVa/qfUjyVrgcuC1wEbgky2IlgCfAC4F1gJXtL6SpDEZKTSSrATeAnyq\nLQe4CLizddkGXNbam9oybf2G1n8TsL2qnquqJ4BJ4ML2mayqfVX1c2B76ytJGpNRrzT+I/BB4Jdt\n+RXAj6vqaFs+AKxo7RXAfoC2/tnW///Xp2wzU12SNCZzDo0kbwWerqoH5nE8cx3LliR7k+w9dOjQ\nuIcjSaetUa403gD8TpLvM7h1dBHwJ8CyJEtbn5XAwdY+CJwL0Na/HHhmuD5lm5nqL1BVt1bVuqpa\nNzExMcKUJEnHM+fQqKprq2plVa1i8CD7K1X1b4CvAm9r3TYDd7X2jrZMW/+VqqpWv7y9XbUaWAPc\nB9wPrGlvY53RjrFjruOVJI1u6exdTtgfAduTfAz4JnBbq98GfCbJJHCYQQhQVQ8nuQN4BDgKXF1V\nvwBI8j5gF7AE2FpVD78I45UkdZqX0KiqrwFfa+19DN58mtrnZ8DbZ9j+euD6aeo7gZ3zMUZJ0uj8\nRrgkqZuhIUnqZmhIkroZGpKkboaGJKmboSFJ6mZoSJK6GRqSpG6GhiSpm6EhSepmaEiSuhkakqRu\nhoYkqZuhIUnqZmhIkroZGpKkboaGJKmboSFJ6mZoSJK6zTk0kpyb5KtJHknycJL3t/pZSXYnebz9\nXN7qSXJzkskkDya5YGhfm1v/x5NsHqq/LslDbZubk2SUyUqSRjPKlcZR4ANVtRZYD1ydZC1wDXBP\nVa0B7mnLAJcCa9pnC3ALDEIGuA54PXAhcN2xoGl93j203cYRxitJGtGcQ6Oqnqyqb7T2/wIeBVYA\nm4Btrds24LLW3gTcXgN7gGVJXglcAuyuqsNVdQTYDWxs615WVXuqqoDbh/YlSRqDeXmmkWQV8FvA\nvcA5VfVkW/UUcE5rrwD2D212oNWOVz8wTX26429JsjfJ3kOHDo00F0nSzEYOjSR/G/hz4A+q6ifD\n69oVQo16jNlU1a1Vta6q1k1MTLzYh5OkRWuk0EjyNxkExmer6out/KN2a4n28+lWPwicO7T5ylY7\nXn3lNHVJ0piM8vZUgNuAR6vqPwyt2gEcewNqM3DXUP3K9hbVeuDZdhtrF3BxkuXtAfjFwK627idJ\n1rdjXTm0L0nSGCwdYds3AP8WeCjJt1rtQ8ANwB1JrgJ+ALyjrdsJvBmYBH4KvBOgqg4n+Shwf+v3\nkao63NrvBT4NvAS4u30kSWMy59Coqv8OzPS9iQ3T9C/g6hn2tRXYOk19L3D+XMcoSZpffiNcktTN\n0JAkdTM0JEndDA1JUjdDQ5LUzdCQJHUzNCRJ3QwNSVI3Q0OS1M3QkCR1MzQkSd0MDUlSN0NDktTN\n0JAkdTM0JEndDA1JUjdDQ5LUzdCQJHU76UMjycYkjyWZTHLNuMcjSYvZSR0aSZYAnwAuBdYCVyRZ\nO95RSdLidVKHBnAhMFlV+6rq58B2YNOYxyRJi9bJHhorgP1DywdaTZI0BkvHPYD5kGQLsKUt/u8k\nj81xV2cDfz0/ozoxuXEcRwXGOOcxWWzzBee8WJydG0ea89/t6XSyh8ZB4Nyh5ZWt9jxVdStw66gH\nS7K3qtaNup9TyWKb82KbLzjnxWKh5nyy3566H1iTZHWSM4DLgR1jHpMkLVon9ZVGVR1N8j5gF7AE\n2FpVD495WJK0aJ3UoQFQVTuBnQt0uJFvcZ2CFtucF9t8wTkvFgsy51TVQhxHknQaONmfaUiSTiKL\nJjSSvD3Jw0l+mWTdlHXXtl9T8liSS4bq0/4Kk/Zg/t5W/3x7SH9SS/JPkuxJ8q0ke5Nc2OpJcnOb\ny4NJLhjaZnOSx9tn8/hGP3dJfj/Jd9u5//dD9RM656eaJB9IUknObsun5XlO8vF2fh9M8hdJlg2t\nO63P8TELPp+qWhQf4B8ArwG+Bqwbqq8Fvg2cCawGvsfgofuS1n4VcEbrs7ZtcwdweWv/KfCecc+v\nY/5fBi5t7TcDXxtq3w0EWA/c2+pnAfvaz+WtvXzc8zjBOf9L4C+BM9vyr8/1nJ9KHwavqe8CfgCc\nfTqfZ+BiYGlr3wjcuBjO8dD8F3w+i+ZKo6oerarpvvS3CdheVc9V1RPAJINfXzLtrzBJEuAi4M62\n/Tbgshd/BiMr4GWt/XLgf7b2JuD2GtgDLEvySuASYHdVHa6qI8BuYONCD3pE7wFuqKrnAKrq6VY/\noXM+hnGP6ibggwzO+TGn5Xmuqi9X1dG2uIfBd7ng9D/Hxyz4fBZNaBzHTL+qZKb6K4AfD/2Deqr8\napM/AD6eZD/wx8C1rX6i8z+V/Cbwz9utxP+W5Ldb/bSdc5JNwMGq+vaUVaftnIe8i8HVFCyO+cIY\n5nPSv3J7IpL8JfAb06z6cFXdtdDjWWjHmz+wAfjDqvrzJO8AbgPetJDjezHMMuelDG67rAd+G7gj\nyasWcHgvilnm/CEGt2xOGz3/Xif5MHAU+OxCjm0xOq1Co6rm8h/B4/2qkunqzzC4tF/arjam/dUm\n43C8+Se5HXh/W/wC8KnWnmn+B4E3Tql/bZ6GOm9mmfN7gC/W4ObvfUl+yeB3Ep3oOT+pzDTnJP+Q\nwf37bw/uorIS+EZ76eGUPc+z/Xud5HeBtwIb2rmGU/wcn4CuX7U0r8b9IGehP7zwQfhref4Ds30M\nHi4tbe3V/OoB02vbNl/g+Q/C3zvueXXM+1Hgja29AXigtd/C8x+Q3tfqZwFPMHg4ury1zxr3PE5w\nzr8HfKS1f5PBZXzmcs5PxQ/wfX71IPy0PM8Mnr88AkxMqS+Wc7zg8xn7pBfwf9x/zeB+33PAj4Bd\nQ+s+zOANhMdobxi1+puBv2rrPjxUfxVwH4OHa1+gvZ1zMn+AfwY80P6huhd4XauHwR+6+h7wEM8P\n1He1OU4C7xz3HOYw5zOA/wx8B/gGcNFcz/mp+JkSGqfleW5j3g98q33+dDGd43HMx2+ES5K6+faU\nJKmboSFJ6mZoSJK6GRqSpG6GhiSpm6EhSepmaEiSuhkakqRu/w9j6QCAkI5S1QAAAABJRU5ErkJg\ngg==\n",
      "text/plain": [
       "<matplotlib.figure.Figure at 0x10b783fd0>"
      ]
     },
     "metadata": {},
     "output_type": "display_data"
    },
    {
     "name": "stdout",
     "output_type": "stream",
     "text": [
      "I am the feature 28\n"
     ]
    },
    {
     "data": {
      "image/png": "iVBORw0KGgoAAAANSUhEUgAAAY0AAAD8CAYAAACLrvgBAAAABHNCSVQICAgIfAhkiAAAAAlwSFlz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\nhoYkqZuhIUnqZmhIkrr9f7WDv/qzEVTRAAAAAElFTkSuQmCC\n",
      "text/plain": [
       "<matplotlib.figure.Figure at 0x10b6e4240>"
      ]
     },
     "metadata": {},
     "output_type": "display_data"
    },
    {
     "name": "stdout",
     "output_type": "stream",
     "text": [
      "I am the feature 29\n"
     ]
    },
    {
     "data": {
      "image/png": "iVBORw0KGgoAAAANSUhEUgAAAY0AAAD8CAYAAACLrvgBAAAABHNCSVQICAgIfAhkiAAAAAlwSFlz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\n",
      "text/plain": [
       "<matplotlib.figure.Figure at 0x10b7132b0>"
      ]
     },
     "metadata": {},
     "output_type": "display_data"
    },
    {
     "name": "stdout",
     "output_type": "stream",
     "text": [
      "I am the feature 30\n"
     ]
    },
    {
     "data": {
      "image/png": "iVBORw0KGgoAAAANSUhEUgAAAY0AAAD8CAYAAACLrvgBAAAABHNCSVQICAgIfAhkiAAAAAlwSFlz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\n",
      "text/plain": [
       "<matplotlib.figure.Figure at 0x16a60eef0>"
      ]
     },
     "metadata": {},
     "output_type": "display_data"
    },
    {
     "name": "stdout",
     "output_type": "stream",
     "text": [
      "I am the feature 31\n"
     ]
    },
    {
     "data": {
      "image/png": "iVBORw0KGgoAAAANSUhEUgAAAY0AAAD9CAYAAABA8iukAAAABHNCSVQICAgIfAhkiAAAAAlwSFlz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\ngg==\n",
      "text/plain": [
       "<matplotlib.figure.Figure at 0x107e7c160>"
      ]
     },
     "metadata": {},
     "output_type": "display_data"
    }
   ],
   "source": [
    "'''Now that we know that we will have to handle with uncomputable values, it is interesting to have a quick view of the\n",
    "distribution of each feature. We will be able to see which features are more concernt about uncomputable values.\n",
    "'''\n",
    "for i in range(2,32):\n",
    "    \n",
    "    plt.hist(trainData.ix[:,i], 10)\n",
    "    print('I am feature ' + str(i))\n",
    "    plt.show()\n",
    "    "
   ]
  },
  {
   "cell_type": "code",
   "execution_count": 160,
   "metadata": {},
   "outputs": [],
   "source": [
    "'''\n",
    "After identify the features concerned by uncomputable values, we want to have an approximation about the number of samples\n",
    "that have in their uncomputable values in all of the features concerned.\n",
    "With the Histograms above, we identify 3 groups of features. s175k are the features that contain over 175k samples with\n",
    "uncomputable values i.e features 4,5,6,12,26,27,28. s100k are the features that contain over 100k samples with \n",
    "uncomputable values i.e features 23,24,25 and s40k follows the\n",
    "same idea with feature 0.\n",
    "'''\n",
    "\n",
    "\n",
    "allF = [0,4,5,6,12,23,24,25,26,27,28]\n",
    "s175k = [4,5,6,12,26,27,28]\n",
    "s100k = [23,24,25]\n",
    "sSup100k = [4,5,6,12,23,24,25,26,27,28] #features with 100k or more uncomputable values\n",
    "colsAnalysis = [allF, s175k,s100k,sSup100k]\n",
    "numberRSamples = []\n",
    "range(len(colsAnalysis))\n",
    "\n",
    "for j in range(len(colsAnalysis)):\n",
    "    pCols = features_train[:,colsAnalysis[j]]\n",
    "    ucSamples = []\n",
    "    for i in range(len(pCols)):\n",
    "\n",
    "        if all(pCols[i,:] <= -998.000):\n",
    "\n",
    "                ucSamples.append(i)\n",
    "            \n",
    "    numberRSamples.append(len(ucSamples))\n",
    "    \n"
   ]
  },
  {
   "cell_type": "code",
   "execution_count": 161,
   "metadata": {},
   "outputs": [
    {
     "data": {
      "text/html": [
       "<div>\n",
       "<style>\n",
       "    .dataframe thead tr:only-child th {\n",
       "        text-align: right;\n",
       "    }\n",
       "\n",
       "    .dataframe thead th {\n",
       "        text-align: left;\n",
       "    }\n",
       "\n",
       "    .dataframe tbody tr th {\n",
       "        vertical-align: top;\n",
       "    }\n",
       "</style>\n",
       "<table border=\"1\" class=\"dataframe\">\n",
       "  <thead>\n",
       "    <tr style=\"text-align: right;\">\n",
       "      <th></th>\n",
       "      <th>Sum of Values in the combined features</th>\n",
       "    </tr>\n",
       "  </thead>\n",
       "  <tbody>\n",
       "    <tr>\n",
       "      <th>All features containing -999 value</th>\n",
       "      <td>26123</td>\n",
       "    </tr>\n",
       "    <tr>\n",
       "      <th>Only Columns with 175k times -999 value</th>\n",
       "      <td>177457</td>\n",
       "    </tr>\n",
       "    <tr>\n",
       "      <th>Only Columns with 100k times -999 value</th>\n",
       "      <td>99913</td>\n",
       "    </tr>\n",
       "    <tr>\n",
       "      <th>Columns with 175k and 100k times -999 value</th>\n",
       "      <td>99913</td>\n",
       "    </tr>\n",
       "  </tbody>\n",
       "</table>\n",
       "</div>"
      ],
      "text/plain": [
       "                                             Sum of Values in the combined features\n",
       "All features containing -999 value                                            26123\n",
       " Only Columns with 175k times -999 value                                     177457\n",
       "Only Columns with 100k times -999 value                                       99913\n",
       "Columns with 175k and 100k times -999 value                                   99913"
      ]
     },
     "metadata": {},
     "output_type": "display_data"
    }
   ],
   "source": [
    "s = pd.DataFrame(numberRSamples, index=['All features containing -999 value', ' Only Columns with 175k times -999 value', 'Only Columns with 100k times -999 value', 'Columns with 175k and 100k times -999 value'])\n",
    "s.columns = ['Sum of Values in the combined features']\n",
    "display(s)"
   ]
  },
  {
   "cell_type": "markdown",
   "metadata": {},
   "source": [
    "# Ivan's Blocks"
   ]
  },
  {
   "cell_type": "code",
   "execution_count": null,
   "metadata": {},
   "outputs": [],
   "source": [
    "# First block for Ivan\n",
    "print('Salut kikoo')"
   ]
  },
  {
   "cell_type": "code",
   "execution_count": null,
   "metadata": {},
   "outputs": [],
   "source": [
    "import numpy as np"
   ]
  },
  {
   "cell_type": "code",
   "execution_count": null,
   "metadata": {},
   "outputs": [],
   "source": [
    "print('encore une modification')"
   ]
  },
  {
   "cell_type": "code",
   "execution_count": null,
   "metadata": {},
   "outputs": [],
   "source": []
  }
 ],
 "metadata": {
  "kernelspec": {
   "display_name": "Python 3",
   "language": "python",
   "name": "python3"
  },
  "language_info": {
   "codemirror_mode": {
    "name": "ipython",
    "version": 3
   },
   "file_extension": ".py",
   "mimetype": "text/x-python",
   "name": "python",
   "nbconvert_exporter": "python",
   "pygments_lexer": "ipython3",
   "version": "3.6.1"
  }
 },
 "nbformat": 4,
 "nbformat_minor": 2
}
