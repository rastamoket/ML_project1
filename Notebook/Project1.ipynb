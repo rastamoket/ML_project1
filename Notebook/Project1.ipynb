{
 "cells": [
  {
   "cell_type": "markdown",
   "metadata": {},
   "source": [
    "## NoteBook for the first project\n",
    "- Je pensais que l'on pouvait essayer de faire ca comme ceci:\n",
    "    - Chacun de nous a un block (peut bien entendu en ajouter en dessous du sien) afin de ne pas avoir trop de conflit lorsque l'on git push\n",
    "        - A tester cette semaine pour voir si c'est ok"
   ]
  },
  {
   "cell_type": "markdown",
   "metadata": {
    "collapsed": true
   },
   "source": [
    "# Stefan's Blocks"
   ]
  },
  {
   "cell_type": "code",
<<<<<<< HEAD
   "execution_count": 100,
=======
   "execution_count": 3,
>>>>>>> a481f00fc2700692f27946e51a668911f61bc437
   "metadata": {},
   "outputs": [
    {
     "name": "stdout",
     "output_type": "stream",
     "text": [
      "The autoreload extension is already loaded. To reload it, use:\n",
      "  %reload_ext autoreload\n"
     ]
    }
   ],
   "source": [
    "# Useful starting lines\n",
    "%matplotlib inline\n",
    "import numpy as np\n",
    "import matplotlib.pyplot as plt\n",
    "from helpers import *\n",
    "%load_ext autoreload\n",
    "%autoreload 2\n",
    "\n"
   ]
  },
  {
   "cell_type": "code",
<<<<<<< HEAD
   "execution_count": 101,
   "metadata": {},
=======
   "execution_count": 4,
   "metadata": {
    "collapsed": true
   },
>>>>>>> a481f00fc2700692f27946e51a668911f61bc437
   "outputs": [],
   "source": [
    "# Import csv file\n",
    "\n",
    "# Import of train.csv\n",
    "id_train, labels_train, features_train = load_data(\"train.csv\")\n",
    "\n",
    "# Import of test.csv\n",
    "id_test, features_test = load_data(\"test.csv\")"
   ]
  },
  {
   "cell_type": "code",
   "execution_count": 5,
   "metadata": {},
   "outputs": [
    {
     "name": "stdout",
     "output_type": "stream",
     "text": [
      "To test the load of train.csv:\n",
      "\n",
      "(250000,)\n",
      "[1 0 0 ..., 1 0 0]\n",
      "(250000, 30)\n",
      "\n",
      "To test the load of test.csv:\n",
      "\n",
      "(568238,)\n",
      "(568238, 30)\n"
     ]
    }
   ],
   "source": [
    "# Cell to check if everything is all right for the import\n",
    "print(\"To test the load of train.csv:\\n\")\n",
    "print(id_train.shape)\n",
    "print(labels_train)\n",
    "print(features_train.shape)\n",
    "\n",
    "print(\"\\nTo test the load of test.csv:\\n\")\n",
    "print(id_test.shape)\n",
    "print(features_test.shape)"
   ]
  },
  {
   "cell_type": "code",
   "execution_count": 6,
   "metadata": {
    "collapsed": true
   },
   "outputs": [],
   "source": [
    "colors = []\n",
    "for t in range(labels_train.shape[0]):\n",
    "    if labels_train[t] == 1:\n",
    "        colors.append('b')\n",
    "    else:\n",
    "        colors.append('r')"
   ]
  },
  {
   "cell_type": "code",
   "execution_count": 7,
   "metadata": {
    "collapsed": true
   },
   "outputs": [],
   "source": [
    "j = 0\n",
    "signal = []\n",
    "background = []\n",
    "\n",
    "for i in labels_train:\n",
    "    if i == 1:\n",
    "        signal.append(features_train[j,:])\n",
    "    else:\n",
    "        background.append(features_train[j,:])\n",
    "    j = j+1"
   ]
  },
  {
   "cell_type": "code",
   "execution_count": 25,
   "metadata": {},
   "outputs": [],
   "source": [
    "# Plot one features VS another one\n",
    "def plotFeatVsFeat(f1,f2):\n",
    "    plt.figure()\n",
    "    plt.scatter(features_train[:,f1], features_train[:,f2],color = colors)\n",
    "    plt.show()"
   ]
  },
  {
   "cell_type": "code",
   "execution_count": 27,
   "metadata": {},
   "outputs": [
    {
     "name": "stdout",
     "output_type": "stream",
     "text": [
      "(array([ 0,  1,  4,  6,  7,  8, 10, 11, 14, 15, 17, 18, 19, 22, 24, 26, 27], dtype=int64),)\n"
     ]
    },
    {
     "data": {
      "image/png": "iVBORw0KGgoAAAANSUhEUgAAAX4AAAD8CAYAAABw1c+bAAAABHNCSVQICAgIfAhkiAAAAAlwSFlz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\ngg==\n",
      "text/plain": [
       "<matplotlib.figure.Figure at 0x1d38ceafe48>"
      ]
     },
     "metadata": {},
     "output_type": "display_data"
    },
    {
     "data": {
      "image/png": "iVBORw0KGgoAAAANSUhEUgAAAXQAAAD8CAYAAABn919SAAAABHNCSVQICAgIfAhkiAAAAAlwSFlz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\n1AkAAAAASUVORK5CYII=\n",
      "text/plain": [
       "<matplotlib.figure.Figure at 0x1d3938c98d0>"
      ]
     },
     "metadata": {},
     "output_type": "display_data"
    },
    {
     "data": {
      "image/png": "iVBORw0KGgoAAAANSUhEUgAAAXQAAAD8CAYAAABn919SAAAABHNCSVQICAgIfAhkiAAAAAlwSFlz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\nAMUH7rjFXJCsAAAAAElFTkSuQmCC\n",
      "text/plain": [
       "<matplotlib.figure.Figure at 0x1d38cfed588>"
      ]
     },
     "metadata": {},
     "output_type": "display_data"
    },
    {
     "data": {
      "image/png": "iVBORw0KGgoAAAANSUhEUgAAAX4AAAD8CAYAAABw1c+bAAAABHNCSVQICAgIfAhkiAAAAAlwSFlz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\nYII=\n",
      "text/plain": [
       "<matplotlib.figure.Figure at 0x1d38ce75c88>"
      ]
     },
     "metadata": {},
     "output_type": "display_data"
    },
    {
     "data": {
      "image/png": "iVBORw0KGgoAAAANSUhEUgAAAX4AAAD8CAYAAABw1c+bAAAABHNCSVQICAgIfAhkiAAAAAlwSFlz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\n",
      "text/plain": [
       "<matplotlib.figure.Figure at 0x1d3851cc6d8>"
      ]
     },
     "metadata": {},
     "output_type": "display_data"
    },
    {
     "data": {
      "image/png": "iVBORw0KGgoAAAANSUhEUgAAAXQAAAD8CAYAAABn919SAAAABHNCSVQICAgIfAhkiAAAAAlwSFlz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\nQmCC\n",
      "text/plain": [
       "<matplotlib.figure.Figure at 0x1d3850830b8>"
      ]
     },
     "metadata": {},
     "output_type": "display_data"
    },
    {
     "data": {
      "image/png": "iVBORw0KGgoAAAANSUhEUgAAAX4AAAD8CAYAAABw1c+bAAAABHNCSVQICAgIfAhkiAAAAAlwSFlz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\nfklqjMEvSY0x+CWpMf8XWOmxEjx4yg4AAAAASUVORK5CYII=\n",
      "text/plain": [
       "<matplotlib.figure.Figure at 0x1d38c73de10>"
      ]
     },
     "metadata": {},
     "output_type": "display_data"
    },
    {
     "data": {
      "image/png": "iVBORw0KGgoAAAANSUhEUgAAAXQAAAD8CAYAAABn919SAAAABHNCSVQICAgIfAhkiAAAAAlwSFlz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\n",
      "text/plain": [
       "<matplotlib.figure.Figure at 0x1d3855f39b0>"
      ]
     },
     "metadata": {},
     "output_type": "display_data"
    },
    {
     "data": {
      "image/png": "iVBORw0KGgoAAAANSUhEUgAAAX4AAAD8CAYAAABw1c+bAAAABHNCSVQICAgIfAhkiAAAAAlwSFlz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\n/JLUmP8P0iqv8RBzKqkAAAAASUVORK5CYII=\n",
      "text/plain": [
       "<matplotlib.figure.Figure at 0x1d3857970f0>"
      ]
     },
     "metadata": {},
     "output_type": "display_data"
    },
    {
     "data": {
      "image/png": "iVBORw0KGgoAAAANSUhEUgAAAX4AAAD8CAYAAABw1c+bAAAABHNCSVQICAgIfAhkiAAAAAlwSFlz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\nnQAAAABJRU5ErkJggg==\n",
      "text/plain": [
       "<matplotlib.figure.Figure at 0x1d3940e5a20>"
      ]
     },
     "metadata": {},
     "output_type": "display_data"
    },
    {
     "data": {
      "image/png": "iVBORw0KGgoAAAANSUhEUgAAAX4AAAD8CAYAAABw1c+bAAAABHNCSVQICAgIfAhkiAAAAAlwSFlz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\nORQQlQAAAABJRU5ErkJggg==\n",
      "text/plain": [
       "<matplotlib.figure.Figure at 0x1d3937d1dd8>"
      ]
     },
     "metadata": {},
     "output_type": "display_data"
    },
    {
     "data": {
      "image/png": "iVBORw0KGgoAAAANSUhEUgAAAX4AAAD8CAYAAABw1c+bAAAABHNCSVQICAgIfAhkiAAAAAlwSFlz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\n5v8CZaioluq08T8AAAAASUVORK5CYII=\n",
      "text/plain": [
       "<matplotlib.figure.Figure at 0x1d394103978>"
      ]
     },
     "metadata": {},
     "output_type": "display_data"
    },
    {
     "data": {
      "image/png": "iVBORw0KGgoAAAANSUhEUgAAAX4AAAD8CAYAAABw1c+bAAAABHNCSVQICAgIfAhkiAAAAAlwSFlz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\nAAAAAElFTkSuQmCC\n",
      "text/plain": [
       "<matplotlib.figure.Figure at 0x1d393a41240>"
      ]
     },
     "metadata": {},
     "output_type": "display_data"
    },
    {
     "data": {
      "image/png": "iVBORw0KGgoAAAANSUhEUgAAAX4AAAD8CAYAAABw1c+bAAAABHNCSVQICAgIfAhkiAAAAAlwSFlz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\n",
      "text/plain": [
       "<matplotlib.figure.Figure at 0x1d3854d1b38>"
      ]
     },
     "metadata": {},
     "output_type": "display_data"
    },
    {
     "data": {
      "image/png": "iVBORw0KGgoAAAANSUhEUgAAAX4AAAD8CAYAAABw1c+bAAAABHNCSVQICAgIfAhkiAAAAAlwSFlz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\nMQa/JDXG4Jekxvw/03KsHpDrhqsAAAAASUVORK5CYII=\n",
      "text/plain": [
       "<matplotlib.figure.Figure at 0x1d3854d3d30>"
      ]
     },
     "metadata": {},
     "output_type": "display_data"
    },
    {
     "data": {
      "image/png": "iVBORw0KGgoAAAANSUhEUgAAAX4AAAD8CAYAAABw1c+bAAAABHNCSVQICAgIfAhkiAAAAAlwSFlz\nAAALEgAACxIB0t1+/AAAEqNJREFUeJzt3XGspXV95/H3p4xo1lIB54oIjKNdSha7K2Vvpza0DYoi\nDETaxnaH3eyy1c1Uqhttd7OLNVFq/0Ftq+nSdDKrROlaVKq0pIzK1K1rTQS8ww4IRcpIxzAOYYZi\nQWPXZup3/zjPxDOXc+69nOece+/4e7+Sk/M8v+f3PL/vfebM5z7nec55bqoKSVI7fmitC5AkrS6D\nX5IaY/BLUmMMfklqjMEvSY0x+CWpMQa/JDXG4Jekxhj8ktSYDWtdwCgbN26szZs3r3UZknTc2LNn\nz+NVNbeSvusy+Ddv3szCwsJalyFJx40kX19pX0/1SFJjDH5JaozBL0mNMfglqTEGvyQ1xuCXpMYY\n/JLUGINfkhpj8EtSY9blN3clrT+br7lt2T77r7tsFSpRXx7xS1Jjlj3iT3IDcDlwqKp+vGv7OHBO\n1+Vk4O+r6rwR6+4HvgX8E3CkquanVLckaUIrOdXzYeB64MajDVX1b45OJ/ld4Mkl1n9lVT0+aYGS\npOlaNvir6gtJNo9aliTALwOvmm5ZkqRZ6XuO/2eBx6rqoTHLC7g9yZ4k25faUJLtSRaSLBw+fLhn\nWZKkcfoG/5XATUssv6CqzgcuBd6c5OfGdayqnVU1X1Xzc3Mr+lsCkqQJTBz8STYAvwh8fFyfqjrY\nPR8CbgG2TDqeJGk6+hzxvxr4alUdGLUwyXOTnHR0GrgYuK/HeJKkKVg2+JPcBHwJOCfJgSRv7BZt\nY9FpniQvSrKrmz0N+GKSe4C7gNuq6jPTK12SNImVfKrnyjHt/3FE20Fgazf9MPDynvVJkqbMb+5K\nUmMMfklqjMEvSY0x+CWpMQa/JDXG4Jekxhj8ktQYg1+SGmPwS1JjDH5JaozBL0mNMfglqTEr+Zu7\nkn4QXfu8Z9R9/3NWss1RbUv9SW6tBY/4JakxBr8kNcbgl6TGGPyS1BiDX5IaY/BLUmMMfklqzLLB\nn+SGJIeS3DfUdm2SbyTZ2z22jln3kiQPJtmX5JppFi5JmsxKjvg/DFwyov39VXVe99i1eGGSE4A/\nAC4FzgWuTHJun2IlSf0tG/xV9QXgiQm2vQXYV1UPV9U/Ah8DrphgO5KkKepzjv8tSe7tTgWdMmL5\nGcAjQ/MHuraRkmxPspBk4fDhwz3KkiQtZdLg/0PgR4HzgEeB3x3RJyPaatwGq2pnVc1X1fzc3NyE\nZUmSljNR8FfVY1X1T1X1PeB/Mjits9gB4Kyh+TOBg5OMJ0manomCP8npQ7O/ANw3otuXgbOTvCTJ\nicA24NZJxpMkTc+yt2VOchNwIbAxyQHgXcCFSc5jcOpmP/CrXd8XAR+sqq1VdSTJW4DPAicAN1TV\n/TP5KSRJK7Zs8FfVlSOaPzSm70Fg69D8LuBpH/WUJK0dv7krSY0x+CWpMQa/JDXG4Jekxhj8ktQY\ng1+SGmPwS1JjDH5JaozBL0mNMfglqTEGvyQ1xuCXpMYY/JLUGINfkhpj8EtSYwx+SWqMwS9JjTH4\nJakxBr8kNWbZ4E9yQ5JDSe4bantfkq8muTfJLUlOHrPu/iRfSbI3ycI0C5ckTWYlR/wfBi5Z1LYb\n+PGq+lfA3wBvX2L9V1bVeVU1P1mJkqRpWjb4q+oLwBOL2m6vqiPd7B3AmTOoTZI0A9M4x/8G4NNj\nlhVwe5I9SbZPYSxJUk8b+qyc5B3AEeCjY7pcUFUHk7wA2J3kq907iFHb2g5sB9i0aVOfsiRJS5j4\niD/JVcDlwL+rqhrVp6oOds+HgFuALeO2V1U7q2q+qubn5uYmLUuStIyJgj/JJcB/B15XVd8Z0+e5\nSU46Og1cDNw3qq8kafWs5OOcNwFfAs5JciDJG4HrgZMYnL7Zm2RH1/dFSXZ1q54GfDHJPcBdwG1V\n9ZmZ/BSSpBVb9hx/VV05ovlDY/oeBLZ20w8DL+9VnSRp6vzmriQ1xuCXpMYY/JLUGINfkhpj8EtS\nYwx+SWqMwS9JjTH4JakxBr8kNcbgl6TGGPyS1BiDX5IaY/BLUmMMfklqjMEvSY0x+CWpMQa/JDXG\n4Jekxhj8ktQYg1+SGrOi4E9yQ5JDSe4bajs1ye4kD3XPp4xZ96quz0NJrppW4ZKkyaz0iP/DwCWL\n2q4BPldVZwOf6+aPkeRU4F3ATwFbgHeN+wUhSVodKwr+qvoC8MSi5iuAj3TTHwF+fsSqrwV2V9UT\nVfVNYDdP/wUiSVpFfc7xn1ZVjwJ0zy8Y0ecM4JGh+QNdmyRpjWyY8fYzoq1Gdky2A9sBNm3aNPmI\n1z5v8nVXPMaTsx9DkmakzxH/Y0lOB+ieD43ocwA4a2j+TODgqI1V1c6qmq+q+bm5uR5lSZKW0if4\nbwWOfkrnKuDPRvT5LHBxklO6i7oXd22SpDWy0o9z3gR8CTgnyYEkbwSuA16T5CHgNd08SeaTfBCg\nqp4Afhv4cvd4d9cmSVojKzrHX1VXjll00Yi+C8B/Gpq/AbhhouokSVPnN3clqTEGvyQ1xuCXpMYY\n/JLUGINfkhpj8EtSYwx+SWqMwS9JjTH4JakxBr8kNcbgl6TGGPyS1BiDX5IaY/BLUmMMfklqjMEv\nSY0x+CWpMQa/JDXG4Jekxhj8ktSYiYM/yTlJ9g49nkrytkV9Lkzy5FCfd/YvWZLUx4ZJV6yqB4Hz\nAJKcAHwDuGVE17+qqssnHUeSNF3TOtVzEfC1qvr6lLYnSZqRaQX/NuCmMct+Osk9ST6d5GVTGk+S\nNKHewZ/kROB1wM0jFt8NvLiqXg78D+BPl9jO9iQLSRYOHz7ctyxJ0hjTOOK/FLi7qh5bvKCqnqqq\nb3fTu4BnJdk4aiNVtbOq5qtqfm5ubgplSZJGmUbwX8mY0zxJXpgk3fSWbry/m8KYkqQJTfypHoAk\n/wx4DfCrQ21vAqiqHcDrgauTHAH+AdhWVdVnTElSP72Cv6q+Azx/UduOoenrgev7jCFJmi6/uStJ\njTH4JakxBr8kNcbgl6TGGPyS1BiDX5IaY/BLUmMMfklqjMEvSY0x+CWpMQa/JDXG4JekxvS6SZsk\nLWfzNbcdM7//usvWqBId5RG/JDXG4Jekxhj8ktQYg1+SGmPwS1JjDH5JaozBL0mN6R38SfYn+UqS\nvUkWRixPkt9Psi/JvUnO7zumJGly0/oC1yur6vExyy4Fzu4ePwX8YfcsSVoDq3Gq5wrgxhq4Azg5\nyemrMK4kaYRpBH8BtyfZk2T7iOVnAI8MzR/o2o6RZHuShSQLhw8fnkJZkqRRphH8F1TV+QxO6bw5\nyc8tWp4R69TTGqp2VtV8Vc3Pzc1NoSxJ0ii9g7+qDnbPh4BbgC2LuhwAzhqaPxM42HdcSdJkegV/\nkucmOenoNHAxcN+ibrcC/6H7dM8rgCer6tE+40qSJtf3Uz2nAbckObqtP66qzyR5E0BV7QB2AVuB\nfcB3gF/pOaYkqYdewV9VDwMvH9G+Y2i6gDf3GUeSND1+c1eSGmPwS1JjDH5JaozBL0mNMfglqTEG\nvyQ1Zlp355SkkfY/598e23DtDAa59skZbPQHl0f8ktQYg1+SGmPwS1JjDH5JaozBL0mNMfglqTEG\nvyQ1xuCXpMYY/JLUGINfkhpj8EtSYwx+SWrMxMGf5Kwkf5nkgST3J3nriD4XJnkyyd7u8c5+5UqS\n+upzd84jwH+pqruTnATsSbK7qv56Ub+/qqrLe4wjSZqiiY/4q+rRqrq7m/4W8ABwxrQKkyTNxlTO\n8SfZDPwEcOeIxT+d5J4kn07ysmmMJ0maXO8/xJLkh4FPAm+rqqcWLb4beHFVfTvJVuBPgbPHbGc7\nsB1g06ZNfcuSJI3R64g/ybMYhP5Hq+pTi5dX1VNV9e1uehfwrCQbR22rqnZW1XxVzc/NzfUpS5K0\nhD6f6gnwIeCBqvq9MX1e2PUjyZZuvL+bdExJUn99TvVcAPx74CtJ9nZtvwlsAqiqHcDrgauTHAH+\nAdhWVdVjTElSTxMHf1V9Ecgyfa4Hrp90DEnS9PnNXUlqjMEvSY0x+CWpMQa/JDXG4Jekxhj8ktQY\ng1+SGmPwS1JjDH5JaozBL0mNMfglqTEGvyQ1pvcfYpGktbb5mtsmXnf/dZet6fjDplHLSnjEL0mN\nMfglqTEGvyQ1xuCXpMYY/JLUGINfkhpj8EtSY3oFf5JLkjyYZF+Sa0Ysf3aSj3fL70yyuc94kqT+\nJg7+JCcAfwBcCpwLXJnk3EXd3gh8s6r+OfB+4D2TjidJmo4+R/xbgH1V9XBV/SPwMeCKRX2uAD7S\nTf8JcFGS9BhTktRTn+A/A3hkaP5A1zayT1UdAZ4Ent9jTElST33u1TPqyL0m6DPomGwHtnez307y\n4IR1bQQen3Ddlfmtqb1pmX2t02Ots3M81btOa718VOOKas36OQG9Me/ptW9fvNKOfYL/AHDW0PyZ\nwMExfQ4k2QA8D3hi1Maqaiews0c9ACRZqKr5vttZDdY6G8dTrXB81Wuts7Oa9fY51fNl4OwkL0ly\nIrANuHVRn1uBq7rp1wP/u6pGHvFLklbHxEf8VXUkyVuAzwInADdU1f1J3g0sVNWtwIeAP0qyj8GR\n/rZpFC1Jmlyv+/FX1S5g16K2dw5N/z/gl/qMMYHep4tWkbXOxvFUKxxf9Vrr7KxavfHMiyS1xVs2\nSFJjjqvgT/JLSe5P8r0k84uWvb27NcSDSV471D7ythLdRek7kzzU3VbixBnWfV6SO5LsTbKQZEvX\nniS/39V2b5Lzh9a5qqvtoSRXjd/6zGr+z91+uz/Je4fan9F+XsV6/2uSSrKxm193+zbJ+5J8tavn\nliQnDy1bl/t1vdUxLMlZSf4yyQPd6/StXfupSXZ3/767k5zStY99TaxizSck+b9J/rybH5lDmfXt\nbqrquHkA/wI4B/g8MD/Ufi5wD/Bs4CXA1xhccD6hm34pcGLX59xunU8A27rpHcDVM6z7duDSbnor\n8Pmh6U8z+L7DK4A7u/ZTgYe751O66VNWcT+/EvgL4Nnd/Asm3c+rVO9ZDD5k8HVg43rdt8DFwIZu\n+j3Ae9bzfh2qe13UMaKu04Hzu+mTgL/p9uV7gWu69muG9vPI18Qq1/wbwB8Df97Nj8wh4NeAHd30\nNuDj06zjuDrir6oHqmrUF7uuAD5WVd+tqr8F9jG4pcTI20okCfAqBreRgMFtJX5+lqUDP9JNP4/v\nf9/hCuDGGrgDODnJ6cBrgd1V9URVfRPYDVwyw/oWuxq4rqq+C1BVh4bqXfF+XsV63w/8N479cuC6\n27dVdXsNvsEOcAeD774crXU97tej1ksdx6iqR6vq7m76W8ADDO4WMHyrmOH/2+NeE6siyZnAZcAH\nu/mlcmimt7s5roJ/CeNuHzGu/fnA3w/9Jxx1u4lpehvwviSPAL8DvH3CulfLjwE/273F/D9JfrJr\nX3f1Jnkd8I2qumfRonVX6yJvYHD0Ceu/1vVSx1jdqZCfAO4ETquqR2HwywF4QddtrX+ODzA4QPle\nN79UDs30dje9Ps45C0n+AnjhiEXvqKo/G7faiLZi9C+2WqL/xJaqG7gI+PWq+mSSX2bw/YZXL1HH\n1OtbbJl6NzA4DfIK4CeBTyR56RJ1jdvPU7FMrb/J4BTK01YbU9NM9+1KXr9J3gEcAT56dLUxNc10\nvz4DM3899pHkh4FPAm+rqqeWODBes58jyeXAoarak+TCFdQz01rXXfBX1asnWG2p20eMan+cwdu8\nDd1v01G3m3hGlqo7yY3AW7vZm+ne6i1R9wHgwkXtn+9T32LL1Hs18KkanGC8K8n3GNz35Jnu55nW\nmuRfMjgnfk/3n/1M4O7u4vma7NvlXr/dxeTLgYu6/csStbJE+2paye1Z1kSSZzEI/Y9W1ae65seS\nnF5Vj3anco6eqlzLn+MC4HVJtgLPYXDq9wOMz6EV3+5mIqt9cWMaD55+cfdlHHtx7GEGF6Q2dNMv\n4fsXpV7WrXMzx15U+bUZ1vsAcGE3fRGwp5u+jGMvNt3VtZ8K/C2Do+5TuulTV3H/vgl4dzf9Ywze\ncmaS/bzKr4v9fP/i7rrbtwyuJfw1MLeofb3v13VRx4i6AtwIfGBR+/s49uLue5d6TaxB3Rfy/Yu7\nI3MIeDPHXtz9xFRrWOt/vGe4w36BwW/C7wKPAZ8dWvYOBp88eJDuEzRd+1YGV/u/xuDt9tH2lwJ3\nMbiQdjPdJ1hmVPfPAHu6/zB3Av+6aw+DP2bzNeArHPvL7A1dbfuAX1nl/Xwi8L+A+4C7gVdNup9X\nue7h4F93+7Yb7xFgb/fYcTzs1/VUx6KafobB6Y97h/bpVgbnwj8HPNQ9n7rca2KV6x4O/pE5xOBd\nwc1d+13AS6dZg9/claTG/KB8qkeStEIGvyQ1xuCXpMYY/JLUGINfkhpj8EtSYwx+SWqMwS9Jjfn/\nWr41WPhTEfAAAAAASUVORK5CYII=\n",
      "text/plain": [
       "<matplotlib.figure.Figure at 0x1d3938d5a90>"
      ]
     },
     "metadata": {},
     "output_type": "display_data"
    },
    {
     "data": {
      "image/png": "iVBORw0KGgoAAAANSUhEUgAAAXQAAAD8CAYAAABn919SAAAABHNCSVQICAgIfAhkiAAAAAlwSFlz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\n",
      "text/plain": [
       "<matplotlib.figure.Figure at 0x1d3851fe198>"
      ]
     },
     "metadata": {},
     "output_type": "display_data"
    }
   ],
   "source": [
    "mean_feat_signal = []\n",
    "mean_feat_back = []\n",
    "std_feat_signal = []\n",
    "std_feat_back = []\n",
    "diff_mean =[]\n",
    "\n",
    "for i in range(features_train.shape[1]):\n",
    "    mean_feat_signal.append(np.mean(signal[i]))\n",
    "    mean_feat_back.append(np.mean(background[i]))\n",
    "    std_feat_signal.append(np.std(signal[i]))\n",
    "    std_feat_back.append(np.std(background[i]))\n",
    "\n",
    "for index_mean, m in enumerate(mean_feat_signal):\n",
    "    diff_mean.append(abs(m - mean_feat_back[index_mean] ))\n",
    "\n",
    "mean_thediff = np.mean(diff_mean)\n",
    "ind_featInterest = np.where(diff_mean >= mean_thediff)\n",
    "features_interst = features_train[:,np.where(diff_mean >= mean_thediff)[0]]\n",
    "print(ind_featInterest)\n",
    "for ind in ind_featInterest[0]:\n",
    "    plt.figure()\n",
    "    plt.hist(signal[ind])\n",
    "    plt.hist(background[ind])\n",
    "    plt.show()\n",
    "    \n",
    "    \n",
    "    \n",
    "    \n",
    "    "
   ]
  },
  {
   "cell_type": "code",
   "execution_count": null,
   "metadata": {
    "collapsed": true
   },
   "outputs": [],
   "source": []
  },
  {
   "cell_type": "code",
   "execution_count": null,
   "metadata": {
    "collapsed": true
   },
   "outputs": [],
   "source": [
    "# To compute the losse, with mse --> with solution\n",
    "def compute_mse(y, tx, w):\n",
    "    \"\"\"Calculate the loss.\n",
    "\n",
    "    You can calculate the loss using mse or mae.\n",
    "    \"\"\"\n",
    "    \"\"\"compute the loss by mse.\"\"\"\n",
    "    e = y - tx.dot(w)\n",
    "    mse = e.dot(e) / (2 * len(e)) # Here if we have any problem we should try with \n",
    "    return mse"
   ]
  },
  {
   "cell_type": "code",
   "execution_count": null,
   "metadata": {
    "collapsed": true
   },
   "outputs": [],
   "source": [
    "# Gradient descent\n",
    "\n",
    "def compute_gradient(y, tx, w):\n",
    "    \"\"\"Compute the gradient.\"\"\"\n",
    "\n",
    "    # compute gradient and loss\n",
    "    e = y - np.dot(tx, w)\n",
    "    gradient = -1/len(y) * np.dot(tx.T, e)\n",
    "    \n",
    "    loss = compute_mse(y,tx,w)\n",
    "    return gradient, loss\n",
    "\n",
    "\n",
    "def gradient_descent(y, tx, initial_w, max_iters, gamma):\n",
    "    \"\"\"Gradient descent algorithm.\"\"\"\n",
    "    # Define parameters to store w and loss\n",
    "    ws = [initial_w]\n",
    "    losses = []\n",
    "    w = initial_w\n",
    "    for n_iter in range(max_iters):\n",
    "        # compute gradient and loss\n",
    "        gradient, loss = compute_gradient(y,tx,w)\n",
    "\n",
    "        # update w by gradient\n",
    "        w = ws[n_iter] - gamma*gradient\n",
    "        \n",
    "        # store w and loss\n",
    "        ws.append(w)\n",
    "        losses.append(loss)\n",
    "        \n",
    "        print(\"Gradient Descent({bi}/{ti}): loss={l}, w0={w0}, w1={w1}\".format(\n",
    "              bi=n_iter, ti=max_iters - 1, l=loss, w0=w[0], w1=w[1]))\n",
    "\n",
    "    return losses[-1], ws[-1,:]"
   ]
  },
  {
   "cell_type": "code",
   "execution_count": null,
   "metadata": {
    "collapsed": true
   },
   "outputs": [],
   "source": [
    "# Stochastic gradient descent\n",
    "def batch_iter(y, tx, batch_size, num_batches=1, shuffle=True):\n",
    "    \"\"\"\n",
    "    Generate a minibatch iterator for a dataset.\n",
    "    Takes as input two iterables (here the output desired values 'y' and the input data 'tx')\n",
    "    Outputs an iterator which gives mini-batches of `batch_size` matching elements from `y` and `tx`.\n",
    "    Data can be randomly shuffled to avoid ordering in the original data messing with the randomness of the minibatches.\n",
    "    Example of use :\n",
    "    for minibatch_y, minibatch_tx in batch_iter(y, tx, 32):\n",
    "        <DO-SOMETHING>\n",
    "    \"\"\"\n",
    "    data_size = len(y)\n",
    "\n",
    "    if shuffle:\n",
    "        shuffle_indices = np.random.permutation(np.arange(data_size))\n",
    "        shuffled_y = y[shuffle_indices]\n",
    "        shuffled_tx = tx[shuffle_indices]\n",
    "    else:\n",
    "        shuffled_y = y\n",
    "        shuffled_tx = tx\n",
    "    for batch_num in range(num_batches):\n",
    "        start_index = batch_num * batch_size\n",
    "        end_index = min((batch_num + 1) * batch_size, data_size)\n",
    "        if start_index != end_index:\n",
    "            yield shuffled_y[start_index:end_index], shuffled_tx[start_index:end_index]\n",
    "            \n",
    "\n",
    "def compute_stoch_gradient(y, tx, w):\n",
    "    \"\"\"Compute a stochastic gradient from just few examples n and their corresponding y_n labels.\"\"\"\n",
    "    e = y - np.dot(tx, w)\n",
    "    gradient = -1/len(y) * np.dot(tx.T, e)\n",
    "    \n",
    "    loss = compute_loss(y,tx,w)\n",
    "    return gradient, loss\n",
    "\n",
    "\n",
    "def stochastic_gradient_descent(y, tx, initial_w, max_iters, gamma, batch_size=1):\n",
    "    \"\"\"Stochastic gradient descent algorithm.\"\"\"\n",
    "    ws = [initial_w]\n",
    "    losses = []\n",
    "    lossForOneRun = 0\n",
    "    \n",
    "    for n_iters in range(max_iters):\n",
    "        for minibatch_y, minibatch_tx in batch_iter(y, tx, batch_size):\n",
    "            gradient, loss = compute_stoch_gradient(minibatch_y, minibatch_tx, ws[n_iters])\n",
    "            lossForOneRun = lossForOneRun + loss\n",
    "            w = ws[n_iters] - gamma*gradient\n",
    "        \n",
    "        losses.append((1/batch_size)*lossForOneRun)\n",
    "        ws.append(w)\n",
    "    \n",
    "    return losses[-1], ws[-1,:]"
   ]
  },
  {
   "cell_type": "code",
   "execution_count": null,
   "metadata": {
    "collapsed": true
   },
   "outputs": [],
   "source": [
    "# Least squares --> With solution\n",
    "def least_squares(y, tx):\n",
    "    \"\"\"calculate the least squares solution.\"\"\"\n",
    "    \n",
    "    a = tx.T.dot(tx)\n",
    "    b = tx.T.dot(y)\n",
    "    w = np.linalg.solve(a, b)\n",
    "    loss = compute_mse(y, tx, w)\n",
    "    \n",
    "    return w, loss\n"
   ]
  },
  {
   "cell_type": "code",
   "execution_count": null,
   "metadata": {
    "collapsed": true
   },
   "outputs": [],
   "source": [
    "# Ridge_regression using normal equations --> with solution\n",
    "def ridge_regression(y, tx, lambda_):\n",
    "    \"\"\"implement ridge regression.\"\"\"\n",
    "\n",
    "    aI = 2 * tx.shape[0] * lambda_*np.identity(tx.shape[1])\n",
    "    a = tx.T.dot(tx) + aI\n",
    "    b = tx.T.dot(y)\n",
    "    \n",
    "    w = np.linalg.solve(a,b)\n",
    "    loss = compute_mse(y, tx, w)\n",
    "    \n",
    "    return w, loss"
   ]
  },
  {
   "cell_type": "code",
   "execution_count": null,
   "metadata": {
    "collapsed": true
   },
   "outputs": [],
   "source": []
  },
  {
   "cell_type": "markdown",
   "metadata": {},
   "source": [
    "# Etienne's Blocks"
   ]
  },
  {
   "cell_type": "code",
<<<<<<< HEAD
   "execution_count": 153,
   "metadata": {},
   "outputs": [
    {
     "name": "stdout",
     "output_type": "stream",
     "text": [
      "The autoreload extension is already loaded. To reload it, use:\n",
      "  %reload_ext autoreload\n"
     ]
    }
   ],
=======
   "execution_count": 1,
   "metadata": {
    "collapsed": true
   },
   "outputs": [],
>>>>>>> a481f00fc2700692f27946e51a668911f61bc437
   "source": [
    "# Useful starting lines\n",
    "%matplotlib inline\n",
    "import numpy as np\n",
    "import matplotlib.pyplot as plt\n",
    "import pandas as pd\n",
    "from helpers import *\n",
    "%load_ext autoreload\n",
    "%autoreload 2\n"
   ]
  },
  {
   "cell_type": "code",
   "execution_count": 154,
   "metadata": {},
   "outputs": [
    {
     "data": {
      "text/html": [
       "<div>\n",
       "<style>\n",
       "    .dataframe thead tr:only-child th {\n",
       "        text-align: right;\n",
       "    }\n",
       "\n",
       "    .dataframe thead th {\n",
       "        text-align: left;\n",
       "    }\n",
       "\n",
       "    .dataframe tbody tr th {\n",
       "        vertical-align: top;\n",
       "    }\n",
       "</style>\n",
       "<table border=\"1\" class=\"dataframe\">\n",
       "  <thead>\n",
       "    <tr style=\"text-align: right;\">\n",
       "      <th></th>\n",
       "      <th>Id</th>\n",
       "      <th>Prediction</th>\n",
       "      <th>DER_mass_MMC</th>\n",
       "      <th>DER_mass_transverse_met_lep</th>\n",
       "      <th>DER_mass_vis</th>\n",
       "      <th>DER_pt_h</th>\n",
       "      <th>DER_deltaeta_jet_jet</th>\n",
       "      <th>DER_mass_jet_jet</th>\n",
       "      <th>DER_prodeta_jet_jet</th>\n",
       "      <th>DER_deltar_tau_lep</th>\n",
       "      <th>...</th>\n",
       "      <th>PRI_met_phi</th>\n",
       "      <th>PRI_met_sumet</th>\n",
       "      <th>PRI_jet_num</th>\n",
       "      <th>PRI_jet_leading_pt</th>\n",
       "      <th>PRI_jet_leading_eta</th>\n",
       "      <th>PRI_jet_leading_phi</th>\n",
       "      <th>PRI_jet_subleading_pt</th>\n",
       "      <th>PRI_jet_subleading_eta</th>\n",
       "      <th>PRI_jet_subleading_phi</th>\n",
       "      <th>PRI_jet_all_pt</th>\n",
       "    </tr>\n",
       "  </thead>\n",
       "  <tbody>\n",
       "    <tr>\n",
       "      <th>0</th>\n",
       "      <td>100000</td>\n",
       "      <td>s</td>\n",
       "      <td>138.470</td>\n",
       "      <td>51.655</td>\n",
       "      <td>97.827</td>\n",
       "      <td>27.980</td>\n",
       "      <td>0.91</td>\n",
       "      <td>124.711</td>\n",
       "      <td>2.666</td>\n",
       "      <td>3.064</td>\n",
       "      <td>...</td>\n",
       "      <td>-0.277</td>\n",
       "      <td>258.733</td>\n",
       "      <td>2</td>\n",
       "      <td>67.435</td>\n",
       "      <td>2.150</td>\n",
       "      <td>0.444</td>\n",
       "      <td>46.062</td>\n",
       "      <td>1.24</td>\n",
       "      <td>-2.475</td>\n",
       "      <td>113.497</td>\n",
       "    </tr>\n",
       "    <tr>\n",
       "      <th>1</th>\n",
       "      <td>100001</td>\n",
       "      <td>b</td>\n",
       "      <td>160.937</td>\n",
       "      <td>68.768</td>\n",
       "      <td>103.235</td>\n",
       "      <td>48.146</td>\n",
       "      <td>-999.00</td>\n",
       "      <td>-999.000</td>\n",
       "      <td>-999.000</td>\n",
       "      <td>3.473</td>\n",
       "      <td>...</td>\n",
       "      <td>-1.916</td>\n",
       "      <td>164.546</td>\n",
       "      <td>1</td>\n",
       "      <td>46.226</td>\n",
       "      <td>0.725</td>\n",
       "      <td>1.158</td>\n",
       "      <td>-999.000</td>\n",
       "      <td>-999.00</td>\n",
       "      <td>-999.000</td>\n",
       "      <td>46.226</td>\n",
       "    </tr>\n",
       "    <tr>\n",
       "      <th>2</th>\n",
       "      <td>100002</td>\n",
       "      <td>b</td>\n",
       "      <td>-999.000</td>\n",
       "      <td>162.172</td>\n",
       "      <td>125.953</td>\n",
       "      <td>35.635</td>\n",
       "      <td>-999.00</td>\n",
       "      <td>-999.000</td>\n",
       "      <td>-999.000</td>\n",
       "      <td>3.148</td>\n",
       "      <td>...</td>\n",
       "      <td>-2.186</td>\n",
       "      <td>260.414</td>\n",
       "      <td>1</td>\n",
       "      <td>44.251</td>\n",
       "      <td>2.053</td>\n",
       "      <td>-2.028</td>\n",
       "      <td>-999.000</td>\n",
       "      <td>-999.00</td>\n",
       "      <td>-999.000</td>\n",
       "      <td>44.251</td>\n",
       "    </tr>\n",
       "    <tr>\n",
       "      <th>3</th>\n",
       "      <td>100003</td>\n",
       "      <td>b</td>\n",
       "      <td>143.905</td>\n",
       "      <td>81.417</td>\n",
       "      <td>80.943</td>\n",
       "      <td>0.414</td>\n",
       "      <td>-999.00</td>\n",
       "      <td>-999.000</td>\n",
       "      <td>-999.000</td>\n",
       "      <td>3.310</td>\n",
       "      <td>...</td>\n",
       "      <td>0.060</td>\n",
       "      <td>86.062</td>\n",
       "      <td>0</td>\n",
       "      <td>-999.000</td>\n",
       "      <td>-999.000</td>\n",
       "      <td>-999.000</td>\n",
       "      <td>-999.000</td>\n",
       "      <td>-999.00</td>\n",
       "      <td>-999.000</td>\n",
       "      <td>0.000</td>\n",
       "    </tr>\n",
       "    <tr>\n",
       "      <th>4</th>\n",
       "      <td>100004</td>\n",
       "      <td>b</td>\n",
       "      <td>175.864</td>\n",
       "      <td>16.915</td>\n",
       "      <td>134.805</td>\n",
       "      <td>16.405</td>\n",
       "      <td>-999.00</td>\n",
       "      <td>-999.000</td>\n",
       "      <td>-999.000</td>\n",
       "      <td>3.891</td>\n",
       "      <td>...</td>\n",
       "      <td>-0.871</td>\n",
       "      <td>53.131</td>\n",
       "      <td>0</td>\n",
       "      <td>-999.000</td>\n",
       "      <td>-999.000</td>\n",
       "      <td>-999.000</td>\n",
       "      <td>-999.000</td>\n",
       "      <td>-999.00</td>\n",
       "      <td>-999.000</td>\n",
       "      <td>0.000</td>\n",
       "    </tr>\n",
       "  </tbody>\n",
       "</table>\n",
       "<p>5 rows × 32 columns</p>\n",
       "</div>"
      ],
      "text/plain": [
       "       Id Prediction  DER_mass_MMC  DER_mass_transverse_met_lep  DER_mass_vis  \\\n",
       "0  100000          s       138.470                       51.655        97.827   \n",
       "1  100001          b       160.937                       68.768       103.235   \n",
       "2  100002          b      -999.000                      162.172       125.953   \n",
       "3  100003          b       143.905                       81.417        80.943   \n",
       "4  100004          b       175.864                       16.915       134.805   \n",
       "\n",
       "   DER_pt_h  DER_deltaeta_jet_jet  DER_mass_jet_jet  DER_prodeta_jet_jet  \\\n",
       "0    27.980                  0.91           124.711                2.666   \n",
       "1    48.146               -999.00          -999.000             -999.000   \n",
       "2    35.635               -999.00          -999.000             -999.000   \n",
       "3     0.414               -999.00          -999.000             -999.000   \n",
       "4    16.405               -999.00          -999.000             -999.000   \n",
       "\n",
       "   DER_deltar_tau_lep       ...        PRI_met_phi  PRI_met_sumet  \\\n",
       "0               3.064       ...             -0.277        258.733   \n",
       "1               3.473       ...             -1.916        164.546   \n",
       "2               3.148       ...             -2.186        260.414   \n",
       "3               3.310       ...              0.060         86.062   \n",
       "4               3.891       ...             -0.871         53.131   \n",
       "\n",
       "   PRI_jet_num  PRI_jet_leading_pt  PRI_jet_leading_eta  PRI_jet_leading_phi  \\\n",
       "0            2              67.435                2.150                0.444   \n",
       "1            1              46.226                0.725                1.158   \n",
       "2            1              44.251                2.053               -2.028   \n",
       "3            0            -999.000             -999.000             -999.000   \n",
       "4            0            -999.000             -999.000             -999.000   \n",
       "\n",
       "   PRI_jet_subleading_pt  PRI_jet_subleading_eta  PRI_jet_subleading_phi  \\\n",
       "0                 46.062                    1.24                  -2.475   \n",
       "1               -999.000                 -999.00                -999.000   \n",
       "2               -999.000                 -999.00                -999.000   \n",
       "3               -999.000                 -999.00                -999.000   \n",
       "4               -999.000                 -999.00                -999.000   \n",
       "\n",
       "   PRI_jet_all_pt  \n",
       "0         113.497  \n",
       "1          46.226  \n",
       "2          44.251  \n",
       "3           0.000  \n",
       "4           0.000  \n",
       "\n",
       "[5 rows x 32 columns]"
      ]
     },
     "metadata": {},
     "output_type": "display_data"
    },
    {
     "data": {
      "text/html": [
       "<div>\n",
       "<style>\n",
       "    .dataframe thead tr:only-child th {\n",
       "        text-align: right;\n",
       "    }\n",
       "\n",
       "    .dataframe thead th {\n",
       "        text-align: left;\n",
       "    }\n",
       "\n",
       "    .dataframe tbody tr th {\n",
       "        vertical-align: top;\n",
       "    }\n",
       "</style>\n",
       "<table border=\"1\" class=\"dataframe\">\n",
       "  <thead>\n",
       "    <tr style=\"text-align: right;\">\n",
       "      <th></th>\n",
       "      <th>Id</th>\n",
       "      <th>Prediction</th>\n",
       "      <th>DER_mass_MMC</th>\n",
       "      <th>DER_mass_transverse_met_lep</th>\n",
       "      <th>DER_mass_vis</th>\n",
       "      <th>DER_pt_h</th>\n",
       "      <th>DER_deltaeta_jet_jet</th>\n",
       "      <th>DER_mass_jet_jet</th>\n",
       "      <th>DER_prodeta_jet_jet</th>\n",
       "      <th>DER_deltar_tau_lep</th>\n",
       "      <th>...</th>\n",
       "      <th>PRI_met_phi</th>\n",
       "      <th>PRI_met_sumet</th>\n",
       "      <th>PRI_jet_num</th>\n",
       "      <th>PRI_jet_leading_pt</th>\n",
       "      <th>PRI_jet_leading_eta</th>\n",
       "      <th>PRI_jet_leading_phi</th>\n",
       "      <th>PRI_jet_subleading_pt</th>\n",
       "      <th>PRI_jet_subleading_eta</th>\n",
       "      <th>PRI_jet_subleading_phi</th>\n",
       "      <th>PRI_jet_all_pt</th>\n",
       "    </tr>\n",
       "  </thead>\n",
       "  <tbody>\n",
       "    <tr>\n",
       "      <th>0</th>\n",
       "      <td>350000</td>\n",
       "      <td>?</td>\n",
       "      <td>-999.000</td>\n",
       "      <td>79.589</td>\n",
       "      <td>23.916</td>\n",
       "      <td>3.036</td>\n",
       "      <td>-999.000</td>\n",
       "      <td>-999.000</td>\n",
       "      <td>-999.000</td>\n",
       "      <td>0.903</td>\n",
       "      <td>...</td>\n",
       "      <td>2.022</td>\n",
       "      <td>98.556</td>\n",
       "      <td>0</td>\n",
       "      <td>-999.000</td>\n",
       "      <td>-999.000</td>\n",
       "      <td>-999.000</td>\n",
       "      <td>-999.000</td>\n",
       "      <td>-999.000</td>\n",
       "      <td>-999.000</td>\n",
       "      <td>0.000</td>\n",
       "    </tr>\n",
       "    <tr>\n",
       "      <th>1</th>\n",
       "      <td>350001</td>\n",
       "      <td>?</td>\n",
       "      <td>106.398</td>\n",
       "      <td>67.490</td>\n",
       "      <td>87.949</td>\n",
       "      <td>49.994</td>\n",
       "      <td>-999.000</td>\n",
       "      <td>-999.000</td>\n",
       "      <td>-999.000</td>\n",
       "      <td>2.048</td>\n",
       "      <td>...</td>\n",
       "      <td>-1.138</td>\n",
       "      <td>176.251</td>\n",
       "      <td>1</td>\n",
       "      <td>47.575</td>\n",
       "      <td>-0.553</td>\n",
       "      <td>-0.849</td>\n",
       "      <td>-999.000</td>\n",
       "      <td>-999.000</td>\n",
       "      <td>-999.000</td>\n",
       "      <td>47.575</td>\n",
       "    </tr>\n",
       "    <tr>\n",
       "      <th>2</th>\n",
       "      <td>350002</td>\n",
       "      <td>?</td>\n",
       "      <td>117.794</td>\n",
       "      <td>56.226</td>\n",
       "      <td>96.358</td>\n",
       "      <td>4.137</td>\n",
       "      <td>-999.000</td>\n",
       "      <td>-999.000</td>\n",
       "      <td>-999.000</td>\n",
       "      <td>2.755</td>\n",
       "      <td>...</td>\n",
       "      <td>-1.868</td>\n",
       "      <td>111.505</td>\n",
       "      <td>0</td>\n",
       "      <td>-999.000</td>\n",
       "      <td>-999.000</td>\n",
       "      <td>-999.000</td>\n",
       "      <td>-999.000</td>\n",
       "      <td>-999.000</td>\n",
       "      <td>-999.000</td>\n",
       "      <td>0.000</td>\n",
       "    </tr>\n",
       "    <tr>\n",
       "      <th>3</th>\n",
       "      <td>350003</td>\n",
       "      <td>?</td>\n",
       "      <td>135.861</td>\n",
       "      <td>30.604</td>\n",
       "      <td>97.288</td>\n",
       "      <td>9.104</td>\n",
       "      <td>-999.000</td>\n",
       "      <td>-999.000</td>\n",
       "      <td>-999.000</td>\n",
       "      <td>2.811</td>\n",
       "      <td>...</td>\n",
       "      <td>1.172</td>\n",
       "      <td>164.707</td>\n",
       "      <td>0</td>\n",
       "      <td>-999.000</td>\n",
       "      <td>-999.000</td>\n",
       "      <td>-999.000</td>\n",
       "      <td>-999.000</td>\n",
       "      <td>-999.000</td>\n",
       "      <td>-999.000</td>\n",
       "      <td>0.000</td>\n",
       "    </tr>\n",
       "    <tr>\n",
       "      <th>4</th>\n",
       "      <td>350004</td>\n",
       "      <td>?</td>\n",
       "      <td>74.159</td>\n",
       "      <td>82.772</td>\n",
       "      <td>58.731</td>\n",
       "      <td>89.646</td>\n",
       "      <td>1.347</td>\n",
       "      <td>536.663</td>\n",
       "      <td>-0.339</td>\n",
       "      <td>1.028</td>\n",
       "      <td>...</td>\n",
       "      <td>-0.231</td>\n",
       "      <td>869.614</td>\n",
       "      <td>3</td>\n",
       "      <td>254.085</td>\n",
       "      <td>-1.013</td>\n",
       "      <td>-0.334</td>\n",
       "      <td>185.857</td>\n",
       "      <td>0.335</td>\n",
       "      <td>2.587</td>\n",
       "      <td>599.213</td>\n",
       "    </tr>\n",
       "  </tbody>\n",
       "</table>\n",
       "<p>5 rows × 32 columns</p>\n",
       "</div>"
      ],
      "text/plain": [
       "       Id Prediction  DER_mass_MMC  DER_mass_transverse_met_lep  DER_mass_vis  \\\n",
       "0  350000          ?      -999.000                       79.589        23.916   \n",
       "1  350001          ?       106.398                       67.490        87.949   \n",
       "2  350002          ?       117.794                       56.226        96.358   \n",
       "3  350003          ?       135.861                       30.604        97.288   \n",
       "4  350004          ?        74.159                       82.772        58.731   \n",
       "\n",
       "   DER_pt_h  DER_deltaeta_jet_jet  DER_mass_jet_jet  DER_prodeta_jet_jet  \\\n",
       "0     3.036              -999.000          -999.000             -999.000   \n",
       "1    49.994              -999.000          -999.000             -999.000   \n",
       "2     4.137              -999.000          -999.000             -999.000   \n",
       "3     9.104              -999.000          -999.000             -999.000   \n",
       "4    89.646                 1.347           536.663               -0.339   \n",
       "\n",
       "   DER_deltar_tau_lep       ...        PRI_met_phi  PRI_met_sumet  \\\n",
       "0               0.903       ...              2.022         98.556   \n",
       "1               2.048       ...             -1.138        176.251   \n",
       "2               2.755       ...             -1.868        111.505   \n",
       "3               2.811       ...              1.172        164.707   \n",
       "4               1.028       ...             -0.231        869.614   \n",
       "\n",
       "   PRI_jet_num  PRI_jet_leading_pt  PRI_jet_leading_eta  PRI_jet_leading_phi  \\\n",
       "0            0            -999.000             -999.000             -999.000   \n",
       "1            1              47.575               -0.553               -0.849   \n",
       "2            0            -999.000             -999.000             -999.000   \n",
       "3            0            -999.000             -999.000             -999.000   \n",
       "4            3             254.085               -1.013               -0.334   \n",
       "\n",
       "   PRI_jet_subleading_pt  PRI_jet_subleading_eta  PRI_jet_subleading_phi  \\\n",
       "0               -999.000                -999.000                -999.000   \n",
       "1               -999.000                -999.000                -999.000   \n",
       "2               -999.000                -999.000                -999.000   \n",
       "3               -999.000                -999.000                -999.000   \n",
       "4                185.857                   0.335                   2.587   \n",
       "\n",
       "   PRI_jet_all_pt  \n",
       "0           0.000  \n",
       "1          47.575  \n",
       "2           0.000  \n",
       "3           0.000  \n",
       "4         599.213  \n",
       "\n",
       "[5 rows x 32 columns]"
      ]
     },
     "metadata": {},
     "output_type": "display_data"
    },
    {
     "data": {
      "text/html": [
       "<div>\n",
       "<style>\n",
       "    .dataframe thead tr:only-child th {\n",
       "        text-align: right;\n",
       "    }\n",
       "\n",
       "    .dataframe thead th {\n",
       "        text-align: left;\n",
       "    }\n",
       "\n",
       "    .dataframe tbody tr th {\n",
       "        vertical-align: top;\n",
       "    }\n",
       "</style>\n",
       "<table border=\"1\" class=\"dataframe\">\n",
       "  <thead>\n",
       "    <tr style=\"text-align: right;\">\n",
       "      <th></th>\n",
       "      <th>Id</th>\n",
       "      <th>Prediction</th>\n",
       "      <th>DER_mass_MMC</th>\n",
       "      <th>DER_mass_transverse_met_lep</th>\n",
       "      <th>DER_mass_vis</th>\n",
       "      <th>DER_pt_h</th>\n",
       "      <th>DER_deltaeta_jet_jet</th>\n",
       "      <th>DER_mass_jet_jet</th>\n",
       "      <th>DER_prodeta_jet_jet</th>\n",
       "      <th>DER_deltar_tau_lep</th>\n",
       "      <th>...</th>\n",
       "      <th>PRI_met_phi</th>\n",
       "      <th>PRI_met_sumet</th>\n",
       "      <th>PRI_jet_num</th>\n",
       "      <th>PRI_jet_leading_pt</th>\n",
       "      <th>PRI_jet_leading_eta</th>\n",
       "      <th>PRI_jet_leading_phi</th>\n",
       "      <th>PRI_jet_subleading_pt</th>\n",
       "      <th>PRI_jet_subleading_eta</th>\n",
       "      <th>PRI_jet_subleading_phi</th>\n",
       "      <th>PRI_jet_all_pt</th>\n",
       "    </tr>\n",
       "  </thead>\n",
       "  <tbody>\n",
       "    <tr>\n",
       "      <th>2000</th>\n",
       "      <td>102000</td>\n",
       "      <td>b</td>\n",
       "      <td>60.215</td>\n",
       "      <td>61.875</td>\n",
       "      <td>51.516</td>\n",
       "      <td>2.989</td>\n",
       "      <td>-999.000</td>\n",
       "      <td>-999.000</td>\n",
       "      <td>-999.000</td>\n",
       "      <td>2.260</td>\n",
       "      <td>...</td>\n",
       "      <td>2.253</td>\n",
       "      <td>85.663</td>\n",
       "      <td>0</td>\n",
       "      <td>-999.000</td>\n",
       "      <td>-999.000</td>\n",
       "      <td>-999.000</td>\n",
       "      <td>-999.000</td>\n",
       "      <td>-999.000</td>\n",
       "      <td>-999.000</td>\n",
       "      <td>0.000</td>\n",
       "    </tr>\n",
       "    <tr>\n",
       "      <th>2001</th>\n",
       "      <td>102001</td>\n",
       "      <td>b</td>\n",
       "      <td>104.942</td>\n",
       "      <td>11.371</td>\n",
       "      <td>67.808</td>\n",
       "      <td>51.027</td>\n",
       "      <td>-999.000</td>\n",
       "      <td>-999.000</td>\n",
       "      <td>-999.000</td>\n",
       "      <td>2.525</td>\n",
       "      <td>...</td>\n",
       "      <td>0.009</td>\n",
       "      <td>146.828</td>\n",
       "      <td>1</td>\n",
       "      <td>52.065</td>\n",
       "      <td>-0.919</td>\n",
       "      <td>-2.784</td>\n",
       "      <td>-999.000</td>\n",
       "      <td>-999.000</td>\n",
       "      <td>-999.000</td>\n",
       "      <td>52.065</td>\n",
       "    </tr>\n",
       "    <tr>\n",
       "      <th>2002</th>\n",
       "      <td>102002</td>\n",
       "      <td>b</td>\n",
       "      <td>96.819</td>\n",
       "      <td>19.172</td>\n",
       "      <td>51.547</td>\n",
       "      <td>87.988</td>\n",
       "      <td>1.145</td>\n",
       "      <td>109.950</td>\n",
       "      <td>3.126</td>\n",
       "      <td>1.931</td>\n",
       "      <td>...</td>\n",
       "      <td>-2.625</td>\n",
       "      <td>190.867</td>\n",
       "      <td>2</td>\n",
       "      <td>56.000</td>\n",
       "      <td>2.431</td>\n",
       "      <td>-0.253</td>\n",
       "      <td>48.707</td>\n",
       "      <td>1.286</td>\n",
       "      <td>1.772</td>\n",
       "      <td>104.707</td>\n",
       "    </tr>\n",
       "    <tr>\n",
       "      <th>2003</th>\n",
       "      <td>102003</td>\n",
       "      <td>s</td>\n",
       "      <td>147.469</td>\n",
       "      <td>8.513</td>\n",
       "      <td>95.984</td>\n",
       "      <td>89.957</td>\n",
       "      <td>3.258</td>\n",
       "      <td>462.091</td>\n",
       "      <td>-2.650</td>\n",
       "      <td>2.088</td>\n",
       "      <td>...</td>\n",
       "      <td>-3.087</td>\n",
       "      <td>390.035</td>\n",
       "      <td>2</td>\n",
       "      <td>128.284</td>\n",
       "      <td>-1.567</td>\n",
       "      <td>-1.308</td>\n",
       "      <td>59.589</td>\n",
       "      <td>1.692</td>\n",
       "      <td>1.373</td>\n",
       "      <td>187.873</td>\n",
       "    </tr>\n",
       "    <tr>\n",
       "      <th>2004</th>\n",
       "      <td>102004</td>\n",
       "      <td>b</td>\n",
       "      <td>144.915</td>\n",
       "      <td>42.818</td>\n",
       "      <td>95.663</td>\n",
       "      <td>97.552</td>\n",
       "      <td>3.013</td>\n",
       "      <td>256.228</td>\n",
       "      <td>-1.622</td>\n",
       "      <td>2.422</td>\n",
       "      <td>...</td>\n",
       "      <td>-3.061</td>\n",
       "      <td>302.445</td>\n",
       "      <td>2</td>\n",
       "      <td>72.662</td>\n",
       "      <td>2.312</td>\n",
       "      <td>-0.894</td>\n",
       "      <td>42.996</td>\n",
       "      <td>-0.702</td>\n",
       "      <td>0.858</td>\n",
       "      <td>115.658</td>\n",
       "    </tr>\n",
       "    <tr>\n",
       "      <th>2005</th>\n",
       "      <td>102005</td>\n",
       "      <td>s</td>\n",
       "      <td>96.223</td>\n",
       "      <td>15.104</td>\n",
       "      <td>66.360</td>\n",
       "      <td>48.790</td>\n",
       "      <td>-999.000</td>\n",
       "      <td>-999.000</td>\n",
       "      <td>-999.000</td>\n",
       "      <td>2.227</td>\n",
       "      <td>...</td>\n",
       "      <td>2.565</td>\n",
       "      <td>215.054</td>\n",
       "      <td>1</td>\n",
       "      <td>66.045</td>\n",
       "      <td>-1.587</td>\n",
       "      <td>-0.810</td>\n",
       "      <td>-999.000</td>\n",
       "      <td>-999.000</td>\n",
       "      <td>-999.000</td>\n",
       "      <td>66.045</td>\n",
       "    </tr>\n",
       "    <tr>\n",
       "      <th>2006</th>\n",
       "      <td>102006</td>\n",
       "      <td>s</td>\n",
       "      <td>108.722</td>\n",
       "      <td>19.390</td>\n",
       "      <td>79.816</td>\n",
       "      <td>2.953</td>\n",
       "      <td>-999.000</td>\n",
       "      <td>-999.000</td>\n",
       "      <td>-999.000</td>\n",
       "      <td>2.924</td>\n",
       "      <td>...</td>\n",
       "      <td>0.871</td>\n",
       "      <td>136.454</td>\n",
       "      <td>0</td>\n",
       "      <td>-999.000</td>\n",
       "      <td>-999.000</td>\n",
       "      <td>-999.000</td>\n",
       "      <td>-999.000</td>\n",
       "      <td>-999.000</td>\n",
       "      <td>-999.000</td>\n",
       "      <td>0.000</td>\n",
       "    </tr>\n",
       "    <tr>\n",
       "      <th>2007</th>\n",
       "      <td>102007</td>\n",
       "      <td>b</td>\n",
       "      <td>85.128</td>\n",
       "      <td>24.772</td>\n",
       "      <td>62.644</td>\n",
       "      <td>78.444</td>\n",
       "      <td>-999.000</td>\n",
       "      <td>-999.000</td>\n",
       "      <td>-999.000</td>\n",
       "      <td>1.551</td>\n",
       "      <td>...</td>\n",
       "      <td>0.103</td>\n",
       "      <td>178.824</td>\n",
       "      <td>1</td>\n",
       "      <td>73.413</td>\n",
       "      <td>0.234</td>\n",
       "      <td>2.985</td>\n",
       "      <td>-999.000</td>\n",
       "      <td>-999.000</td>\n",
       "      <td>-999.000</td>\n",
       "      <td>73.413</td>\n",
       "    </tr>\n",
       "    <tr>\n",
       "      <th>2008</th>\n",
       "      <td>102008</td>\n",
       "      <td>b</td>\n",
       "      <td>-999.000</td>\n",
       "      <td>56.823</td>\n",
       "      <td>166.014</td>\n",
       "      <td>31.887</td>\n",
       "      <td>-999.000</td>\n",
       "      <td>-999.000</td>\n",
       "      <td>-999.000</td>\n",
       "      <td>3.074</td>\n",
       "      <td>...</td>\n",
       "      <td>-1.550</td>\n",
       "      <td>259.501</td>\n",
       "      <td>0</td>\n",
       "      <td>-999.000</td>\n",
       "      <td>-999.000</td>\n",
       "      <td>-999.000</td>\n",
       "      <td>-999.000</td>\n",
       "      <td>-999.000</td>\n",
       "      <td>-999.000</td>\n",
       "      <td>0.000</td>\n",
       "    </tr>\n",
       "    <tr>\n",
       "      <th>2009</th>\n",
       "      <td>102009</td>\n",
       "      <td>b</td>\n",
       "      <td>-999.000</td>\n",
       "      <td>93.440</td>\n",
       "      <td>132.280</td>\n",
       "      <td>28.050</td>\n",
       "      <td>-999.000</td>\n",
       "      <td>-999.000</td>\n",
       "      <td>-999.000</td>\n",
       "      <td>2.751</td>\n",
       "      <td>...</td>\n",
       "      <td>-0.179</td>\n",
       "      <td>104.985</td>\n",
       "      <td>0</td>\n",
       "      <td>-999.000</td>\n",
       "      <td>-999.000</td>\n",
       "      <td>-999.000</td>\n",
       "      <td>-999.000</td>\n",
       "      <td>-999.000</td>\n",
       "      <td>-999.000</td>\n",
       "      <td>0.000</td>\n",
       "    </tr>\n",
       "  </tbody>\n",
       "</table>\n",
       "<p>10 rows × 32 columns</p>\n",
       "</div>"
      ],
      "text/plain": [
       "          Id Prediction  DER_mass_MMC  DER_mass_transverse_met_lep  \\\n",
       "2000  102000          b        60.215                       61.875   \n",
       "2001  102001          b       104.942                       11.371   \n",
       "2002  102002          b        96.819                       19.172   \n",
       "2003  102003          s       147.469                        8.513   \n",
       "2004  102004          b       144.915                       42.818   \n",
       "2005  102005          s        96.223                       15.104   \n",
       "2006  102006          s       108.722                       19.390   \n",
       "2007  102007          b        85.128                       24.772   \n",
       "2008  102008          b      -999.000                       56.823   \n",
       "2009  102009          b      -999.000                       93.440   \n",
       "\n",
       "      DER_mass_vis  DER_pt_h  DER_deltaeta_jet_jet  DER_mass_jet_jet  \\\n",
       "2000        51.516     2.989              -999.000          -999.000   \n",
       "2001        67.808    51.027              -999.000          -999.000   \n",
       "2002        51.547    87.988                 1.145           109.950   \n",
       "2003        95.984    89.957                 3.258           462.091   \n",
       "2004        95.663    97.552                 3.013           256.228   \n",
       "2005        66.360    48.790              -999.000          -999.000   \n",
       "2006        79.816     2.953              -999.000          -999.000   \n",
       "2007        62.644    78.444              -999.000          -999.000   \n",
       "2008       166.014    31.887              -999.000          -999.000   \n",
       "2009       132.280    28.050              -999.000          -999.000   \n",
       "\n",
       "      DER_prodeta_jet_jet  DER_deltar_tau_lep       ...        PRI_met_phi  \\\n",
       "2000             -999.000               2.260       ...              2.253   \n",
       "2001             -999.000               2.525       ...              0.009   \n",
       "2002                3.126               1.931       ...             -2.625   \n",
       "2003               -2.650               2.088       ...             -3.087   \n",
       "2004               -1.622               2.422       ...             -3.061   \n",
       "2005             -999.000               2.227       ...              2.565   \n",
       "2006             -999.000               2.924       ...              0.871   \n",
       "2007             -999.000               1.551       ...              0.103   \n",
       "2008             -999.000               3.074       ...             -1.550   \n",
       "2009             -999.000               2.751       ...             -0.179   \n",
       "\n",
       "      PRI_met_sumet  PRI_jet_num  PRI_jet_leading_pt  PRI_jet_leading_eta  \\\n",
       "2000         85.663            0            -999.000             -999.000   \n",
       "2001        146.828            1              52.065               -0.919   \n",
       "2002        190.867            2              56.000                2.431   \n",
       "2003        390.035            2             128.284               -1.567   \n",
       "2004        302.445            2              72.662                2.312   \n",
       "2005        215.054            1              66.045               -1.587   \n",
       "2006        136.454            0            -999.000             -999.000   \n",
       "2007        178.824            1              73.413                0.234   \n",
       "2008        259.501            0            -999.000             -999.000   \n",
       "2009        104.985            0            -999.000             -999.000   \n",
       "\n",
       "      PRI_jet_leading_phi  PRI_jet_subleading_pt  PRI_jet_subleading_eta  \\\n",
       "2000             -999.000               -999.000                -999.000   \n",
       "2001               -2.784               -999.000                -999.000   \n",
       "2002               -0.253                 48.707                   1.286   \n",
       "2003               -1.308                 59.589                   1.692   \n",
       "2004               -0.894                 42.996                  -0.702   \n",
       "2005               -0.810               -999.000                -999.000   \n",
       "2006             -999.000               -999.000                -999.000   \n",
       "2007                2.985               -999.000                -999.000   \n",
       "2008             -999.000               -999.000                -999.000   \n",
       "2009             -999.000               -999.000                -999.000   \n",
       "\n",
       "      PRI_jet_subleading_phi  PRI_jet_all_pt  \n",
       "2000                -999.000           0.000  \n",
       "2001                -999.000          52.065  \n",
       "2002                   1.772         104.707  \n",
       "2003                   1.373         187.873  \n",
       "2004                   0.858         115.658  \n",
       "2005                -999.000          66.045  \n",
       "2006                -999.000           0.000  \n",
       "2007                -999.000          73.413  \n",
       "2008                -999.000           0.000  \n",
       "2009                -999.000           0.000  \n",
       "\n",
       "[10 rows x 32 columns]"
      ]
     },
     "metadata": {},
     "output_type": "display_data"
    }
   ],
   "source": [
    "'''Simple visualization of the data set. We can see that our first step will be to handle uncomputable values which are \n",
    "represented with a value = -999\n",
    "'''\n",
    "trainData = pd.read_csv(\"train.csv\")\n",
    "testData = pd.read_csv(\"test.csv\")\n",
    "display(trainData.head(5))\n",
    "display(testData.head(5))\n",
    "display(trainData[2000:2010])"
   ]
  },
  {
   "cell_type": "code",
   "execution_count": 155,
   "metadata": {},
   "outputs": [
    {
     "name": "stderr",
     "output_type": "stream",
     "text": [
      "/usr/local/lib/python3.6/site-packages/ipykernel_launcher.py:4: DeprecationWarning: \n",
      ".ix is deprecated. Please use\n",
      ".loc for label based indexing or\n",
      ".iloc for positional indexing\n",
      "\n",
      "See the documentation here:\n",
      "http://pandas.pydata.org/pandas-docs/stable/indexing.html#ix-indexer-is-deprecated\n",
      "  after removing the cwd from sys.path.\n"
     ]
    },
    {
     "name": "stdout",
     "output_type": "stream",
     "text": [
      "I am the feature 2\n"
     ]
    },
    {
     "data": {
      "image/png": "iVBORw0KGgoAAAANSUhEUgAAAY0AAAD8CAYAAACLrvgBAAAABHNCSVQICAgIfAhkiAAAAAlwSFlz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\nyGqwvbvQBwAAAABJRU5ErkJggg==\n",
      "text/plain": [
       "<matplotlib.figure.Figure at 0x107de3710>"
      ]
     },
     "metadata": {},
     "output_type": "display_data"
    },
    {
     "name": "stdout",
     "output_type": "stream",
     "text": [
      "I am the feature 3\n"
     ]
    },
    {
     "data": {
      "image/png": "iVBORw0KGgoAAAANSUhEUgAAAY0AAAD8CAYAAACLrvgBAAAABHNCSVQICAgIfAhkiAAAAAlwSFlz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\n",
      "text/plain": [
       "<matplotlib.figure.Figure at 0x10ad73390>"
      ]
     },
     "metadata": {},
     "output_type": "display_data"
    },
    {
     "name": "stdout",
     "output_type": "stream",
     "text": [
      "I am the feature 4\n"
     ]
    },
    {
     "data": {
      "image/png": "iVBORw0KGgoAAAANSUhEUgAAAZIAAAD8CAYAAABdCyJkAAAABHNCSVQICAgIfAhkiAAAAAlwSFlz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\nIIoAAAAASUVORK5CYII=\n",
      "text/plain": [
       "<matplotlib.figure.Figure at 0x118475fd0>"
      ]
     },
     "metadata": {},
     "output_type": "display_data"
    },
    {
     "name": "stdout",
     "output_type": "stream",
     "text": [
      "I am the feature 5\n"
     ]
    },
    {
     "data": {
      "image/png": "iVBORw0KGgoAAAANSUhEUgAAAY0AAAD8CAYAAACLrvgBAAAABHNCSVQICAgIfAhkiAAAAAlwSFlz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\n",
      "text/plain": [
       "<matplotlib.figure.Figure at 0x1183dcb00>"
      ]
     },
     "metadata": {},
     "output_type": "display_data"
    },
    {
     "name": "stdout",
     "output_type": "stream",
     "text": [
      "I am the feature 6\n"
     ]
    },
    {
     "data": {
      "image/png": "iVBORw0KGgoAAAANSUhEUgAAAY0AAAD8CAYAAACLrvgBAAAABHNCSVQICAgIfAhkiAAAAAlwSFlz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\n",
      "text/plain": [
       "<matplotlib.figure.Figure at 0x11866abe0>"
      ]
     },
     "metadata": {},
     "output_type": "display_data"
    },
    {
     "name": "stdout",
     "output_type": "stream",
     "text": [
      "I am the feature 7\n"
     ]
    },
    {
     "data": {
      "image/png": "iVBORw0KGgoAAAANSUhEUgAAAY0AAAD8CAYAAACLrvgBAAAABHNCSVQICAgIfAhkiAAAAAlwSFlz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\npG7/H1/WoAz3v7LIAAAAAElFTkSuQmCC\n",
      "text/plain": [
       "<matplotlib.figure.Figure at 0x10a9a60b8>"
      ]
     },
     "metadata": {},
     "output_type": "display_data"
    },
    {
     "name": "stdout",
     "output_type": "stream",
     "text": [
      "I am the feature 8\n"
     ]
    },
    {
     "data": {
      "image/png": "iVBORw0KGgoAAAANSUhEUgAAAY0AAAD8CAYAAACLrvgBAAAABHNCSVQICAgIfAhkiAAAAAlwSFlz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\nkCR1MzQkSd0MDUlSt/8HoSIqYMvc904AAAAASUVORK5CYII=\n",
      "text/plain": [
       "<matplotlib.figure.Figure at 0x118405898>"
      ]
     },
     "metadata": {},
     "output_type": "display_data"
    },
    {
     "name": "stdout",
     "output_type": "stream",
     "text": [
      "I am the feature 9\n"
     ]
    },
    {
     "data": {
      "image/png": "iVBORw0KGgoAAAANSUhEUgAAAYcAAAD8CAYAAACcjGjIAAAABHNCSVQICAgIfAhkiAAAAAlwSFlz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\ndQwHSVLHcJAkdQwHSVLn/wMMfQQIM8C6TwAAAABJRU5ErkJggg==\n",
      "text/plain": [
       "<matplotlib.figure.Figure at 0x1183c8ef0>"
      ]
     },
     "metadata": {},
     "output_type": "display_data"
    },
    {
     "name": "stdout",
     "output_type": "stream",
     "text": [
      "I am the feature 10\n"
     ]
    },
    {
     "data": {
      "image/png": "iVBORw0KGgoAAAANSUhEUgAAAY0AAAD8CAYAAACLrvgBAAAABHNCSVQICAgIfAhkiAAAAAlwSFlz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\nUyv6svwAAAAASUVORK5CYII=\n",
      "text/plain": [
       "<matplotlib.figure.Figure at 0x10ad344e0>"
      ]
     },
     "metadata": {},
     "output_type": "display_data"
    },
    {
     "name": "stdout",
     "output_type": "stream",
     "text": [
      "I am the feature 11\n"
     ]
    },
    {
     "data": {
      "image/png": "iVBORw0KGgoAAAANSUhEUgAAAY0AAAD8CAYAAACLrvgBAAAABHNCSVQICAgIfAhkiAAAAAlwSFlz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\nSJJ6+/8wRnIPDZwJaAAAAABJRU5ErkJggg==\n",
      "text/plain": [
       "<matplotlib.figure.Figure at 0x10b7941d0>"
      ]
     },
     "metadata": {},
     "output_type": "display_data"
    },
    {
     "name": "stdout",
     "output_type": "stream",
     "text": [
      "I am the feature 12\n"
     ]
    },
    {
     "data": {
      "image/png": "iVBORw0KGgoAAAANSUhEUgAAAY0AAAD8CAYAAACLrvgBAAAABHNCSVQICAgIfAhkiAAAAAlwSFlz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\nbRQ/LwAAAABJRU5ErkJggg==\n",
      "text/plain": [
       "<matplotlib.figure.Figure at 0x107c14fd0>"
      ]
     },
     "metadata": {},
     "output_type": "display_data"
    },
    {
     "name": "stdout",
     "output_type": "stream",
     "text": [
      "I am the feature 13\n"
     ]
    },
    {
     "data": {
      "image/png": "iVBORw0KGgoAAAANSUhEUgAAAY0AAAD8CAYAAACLrvgBAAAABHNCSVQICAgIfAhkiAAAAAlwSFlz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\n0T3YAAAAAElFTkSuQmCC\n",
      "text/plain": [
       "<matplotlib.figure.Figure at 0x1183ece80>"
      ]
     },
     "metadata": {},
     "output_type": "display_data"
    },
    {
     "name": "stdout",
     "output_type": "stream",
     "text": [
      "I am the feature 14\n"
     ]
    },
    {
     "data": {
      "image/png": "iVBORw0KGgoAAAANSUhEUgAAAY0AAAD8CAYAAACLrvgBAAAABHNCSVQICAgIfAhkiAAAAAlwSFlz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\nkroZGpKkboaGJKmboSFJ6mZoSJK6/T/zmSpg4OmMCwAAAABJRU5ErkJggg==\n",
      "text/plain": [
       "<matplotlib.figure.Figure at 0x107e2d7b8>"
      ]
     },
     "metadata": {},
     "output_type": "display_data"
    },
    {
     "name": "stdout",
     "output_type": "stream",
     "text": [
      "I am the feature 15\n"
     ]
    },
    {
     "data": {
      "image/png": "iVBORw0KGgoAAAANSUhEUgAAAZIAAAD8CAYAAABdCyJkAAAABHNCSVQICAgIfAhkiAAAAAlwSFlz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\nqcv/BzQXx1XIN2tSAAAAAElFTkSuQmCC\n",
      "text/plain": [
       "<matplotlib.figure.Figure at 0x1183cda90>"
      ]
     },
     "metadata": {},
     "output_type": "display_data"
    },
    {
     "name": "stdout",
     "output_type": "stream",
     "text": [
      "I am the feature 16\n"
     ]
    },
    {
     "data": {
      "image/png": "iVBORw0KGgoAAAANSUhEUgAAAYcAAAD8CAYAAACcjGjIAAAABHNCSVQICAgIfAhkiAAAAAlwSFlz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\n",
      "text/plain": [
       "<matplotlib.figure.Figure at 0x16b8bcba8>"
      ]
     },
     "metadata": {},
     "output_type": "display_data"
    },
    {
     "name": "stdout",
     "output_type": "stream",
     "text": [
      "I am the feature 17\n"
     ]
    },
    {
     "data": {
      "image/png": "iVBORw0KGgoAAAANSUhEUgAAAYcAAAD8CAYAAACcjGjIAAAABHNCSVQICAgIfAhkiAAAAAlwSFlz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\nLgAAAABJRU5ErkJggg==\n",
      "text/plain": [
       "<matplotlib.figure.Figure at 0x16a5fe668>"
      ]
     },
     "metadata": {},
     "output_type": "display_data"
    },
    {
     "name": "stdout",
     "output_type": "stream",
     "text": [
      "I am the feature 18\n"
     ]
    },
    {
     "data": {
      "image/png": "iVBORw0KGgoAAAANSUhEUgAAAY0AAAD8CAYAAACLrvgBAAAABHNCSVQICAgIfAhkiAAAAAlwSFlz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\nQmCC\n",
      "text/plain": [
       "<matplotlib.figure.Figure at 0x107fb3a90>"
      ]
     },
     "metadata": {},
     "output_type": "display_data"
    },
    {
     "name": "stdout",
     "output_type": "stream",
     "text": [
      "I am the feature 19\n"
     ]
    },
    {
     "data": {
      "image/png": "iVBORw0KGgoAAAANSUhEUgAAAYcAAAD8CAYAAACcjGjIAAAABHNCSVQICAgIfAhkiAAAAAlwSFlz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\nw0GS1DEcJEkdw0GS1DEcJEkdw0GS1Pk/Y2DpvOkdGPEAAAAASUVORK5CYII=\n",
      "text/plain": [
       "<matplotlib.figure.Figure at 0x16a609748>"
      ]
     },
     "metadata": {},
     "output_type": "display_data"
    },
    {
     "name": "stdout",
     "output_type": "stream",
     "text": [
      "I am the feature 20\n"
     ]
    },
    {
     "data": {
      "image/png": "iVBORw0KGgoAAAANSUhEUgAAAYcAAAD8CAYAAACcjGjIAAAABHNCSVQICAgIfAhkiAAAAAlwSFlz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\nTkSuQmCC\n",
      "text/plain": [
       "<matplotlib.figure.Figure at 0x118475978>"
      ]
     },
     "metadata": {},
     "output_type": "display_data"
    },
    {
     "name": "stdout",
     "output_type": "stream",
     "text": [
      "I am the feature 21\n"
     ]
    },
    {
     "data": {
      "image/png": "iVBORw0KGgoAAAANSUhEUgAAAY0AAAD8CAYAAACLrvgBAAAABHNCSVQICAgIfAhkiAAAAAlwSFlz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\n3QwNSVI3Q0OS1M3QkCR1+3+r1TNTHwvPWAAAAABJRU5ErkJggg==\n",
      "text/plain": [
       "<matplotlib.figure.Figure at 0x10ba43eb8>"
      ]
     },
     "metadata": {},
     "output_type": "display_data"
    },
    {
     "name": "stdout",
     "output_type": "stream",
     "text": [
      "I am the feature 22\n"
     ]
    },
    {
     "data": {
      "image/png": "iVBORw0KGgoAAAANSUhEUgAAAYcAAAD8CAYAAACcjGjIAAAABHNCSVQICAgIfAhkiAAAAAlwSFlz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\n",
      "text/plain": [
       "<matplotlib.figure.Figure at 0x11868ff28>"
      ]
     },
     "metadata": {},
     "output_type": "display_data"
    },
    {
     "name": "stdout",
     "output_type": "stream",
     "text": [
      "I am the feature 23\n"
     ]
    },
    {
     "data": {
      "image/png": "iVBORw0KGgoAAAANSUhEUgAAAY0AAAD8CAYAAACLrvgBAAAABHNCSVQICAgIfAhkiAAAAAlwSFlz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\nkjozNCRJnf1/A4RNaXo7tWgAAAAASUVORK5CYII=\n",
      "text/plain": [
       "<matplotlib.figure.Figure at 0x10bf0c208>"
      ]
     },
     "metadata": {},
     "output_type": "display_data"
    },
    {
     "name": "stdout",
     "output_type": "stream",
     "text": [
      "I am the feature 24\n"
     ]
    },
    {
     "data": {
      "image/png": "iVBORw0KGgoAAAANSUhEUgAAAY0AAAD8CAYAAACLrvgBAAAABHNCSVQICAgIfAhkiAAAAAlwSFlz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\n",
      "text/plain": [
       "<matplotlib.figure.Figure at 0x10b66a320>"
      ]
     },
     "metadata": {},
     "output_type": "display_data"
    },
    {
     "name": "stdout",
     "output_type": "stream",
     "text": [
      "I am the feature 25\n"
     ]
    },
    {
     "data": {
      "image/png": "iVBORw0KGgoAAAANSUhEUgAAAY0AAAD8CAYAAACLrvgBAAAABHNCSVQICAgIfAhkiAAAAAlwSFlz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\n1M3QkCR1MzQkSd3+D/xc4ZfEiRWAAAAAAElFTkSuQmCC\n",
      "text/plain": [
       "<matplotlib.figure.Figure at 0x10b71e5c0>"
      ]
     },
     "metadata": {},
     "output_type": "display_data"
    },
    {
     "name": "stdout",
     "output_type": "stream",
     "text": [
      "I am the feature 26\n"
     ]
    },
    {
     "data": {
      "image/png": "iVBORw0KGgoAAAANSUhEUgAAAY0AAAD8CAYAAACLrvgBAAAABHNCSVQICAgIfAhkiAAAAAlwSFlz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\n",
      "text/plain": [
       "<matplotlib.figure.Figure at 0x107bcb390>"
      ]
     },
     "metadata": {},
     "output_type": "display_data"
    },
    {
     "name": "stdout",
     "output_type": "stream",
     "text": [
      "I am the feature 27\n"
     ]
    },
    {
     "data": {
      "image/png": "iVBORw0KGgoAAAANSUhEUgAAAY0AAAD8CAYAAACLrvgBAAAABHNCSVQICAgIfAhkiAAAAAlwSFlz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\ngg==\n",
      "text/plain": [
       "<matplotlib.figure.Figure at 0x10b783fd0>"
      ]
     },
     "metadata": {},
     "output_type": "display_data"
    },
    {
     "name": "stdout",
     "output_type": "stream",
     "text": [
      "I am the feature 28\n"
     ]
    },
    {
     "data": {
      "image/png": "iVBORw0KGgoAAAANSUhEUgAAAY0AAAD8CAYAAACLrvgBAAAABHNCSVQICAgIfAhkiAAAAAlwSFlz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\nhoYkqZuhIUnqZmhIkrr9f7WDv/qzEVTRAAAAAElFTkSuQmCC\n",
      "text/plain": [
       "<matplotlib.figure.Figure at 0x10b6e4240>"
      ]
     },
     "metadata": {},
     "output_type": "display_data"
    },
    {
     "name": "stdout",
     "output_type": "stream",
     "text": [
      "I am the feature 29\n"
     ]
    },
    {
     "data": {
      "image/png": "iVBORw0KGgoAAAANSUhEUgAAAY0AAAD8CAYAAACLrvgBAAAABHNCSVQICAgIfAhkiAAAAAlwSFlz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\n",
      "text/plain": [
       "<matplotlib.figure.Figure at 0x10b7132b0>"
      ]
     },
     "metadata": {},
     "output_type": "display_data"
    },
    {
     "name": "stdout",
     "output_type": "stream",
     "text": [
      "I am the feature 30\n"
     ]
    },
    {
     "data": {
      "image/png": "iVBORw0KGgoAAAANSUhEUgAAAY0AAAD8CAYAAACLrvgBAAAABHNCSVQICAgIfAhkiAAAAAlwSFlz\nAAALEgAACxIB0t1+/AAAFdxJREFUeJzt3X+snuV93/H3Z/aIom4pJriMYZidxIlmss0LLrG0pqKh\nBUOqmkxpZjYVJ0FxfsDUTJUa0/xBlAYJ2qWR0BIiUqyYLcUQaIq1mhGX5YcmzYBJCD+SUA4OCHsO\nuIbAtnRkTr7747nO8tg5x+fyeY792D7vl3Tr3M/3vq77vq7cwEf3j+dJqgpJknr8nXEPQJJ04jA0\nJEndDA1JUjdDQ5LUzdCQJHUzNCRJ3QwNSVI3Q0OS1M3QkCR1WzjuAcy1008/vZYuXTruYUjSCeWh\nhx76m6paPFO7ky40li5dys6dO8c9DEk6oSR5pqedt6ckSd0MDUlSN0NDktTN0JAkdTM0JEndDA1J\nUjdDQ5LUzdCQJHWbMTSSbEryfJLHhmq3J3m4LU8nebjVlyb526Ftnxvqc16SR5NMJLkxSVr9tCTb\nkzzZ/i5q9bR2E0keSfKWuZ++JOlI9Hwj/AvAfwBunSxU1b+aXE/yKeClofZPVdXKKfZzE/B+4H5g\nG7AGuAfYCNxXVdcn2dg+fxS4BFjelre2/m/tndhsLN34l0dz94f19PXvGNuxJanXjFcaVfUN4IWp\ntrWrhXcDtx1uH0nOBF5TVTuqqhgE0GVt81pgc1vffEj91hrYAZza9iNJGpNRn2m8DXiuqp4cqi1L\n8q0kX0/ytlY7C9g91GZ3qwGcUVV72/oPgDOG+jw7TR9J0hiM+oOFl3PwVcZe4Jyq2p/kPOAvkpzb\nu7OqqiR1pINIsgHYAHDOOeccaXdJUqdZX2kkWQj8S+D2yVpVvVJV+9v6Q8BTwBuBPcCSoe5LWg3g\nucnbTu3v862+Bzh7mj4Hqaqbq2pVVa1avHjGX/aVJM3SKLenfh34XlX9/9tOSRYnWdDWX8fgIfau\ndvvp5SSr23OQK4C7W7etwPq2vv6Q+hXtLarVwEtDt7EkSWPQ88rtbcB/B96UZHeSK9umdfz8A/Bf\nBR5pr+DeCXywqiYfon8Y+FNggsEVyD2tfj3wG0meZBBE17f6NmBXa//51l+SNEYzPtOoqsunqb9n\nitpdwF3TtN8JvHmK+n7gwinqBVw10/gkSceO3wiXJHUzNCRJ3QwNSVI3Q0OS1M3QkCR1MzQkSd0M\nDUlSN0NDktTN0JAkdTM0JEndDA1JUjdDQ5LUzdCQJHUzNCRJ3QwNSVI3Q0OS1M3QkCR1MzQkSd0M\nDUlSN0NDktRtxtBIsinJ80keG6p9PMmeJA+35dKhbdckmUjyRJKLh+prWm0iycah+rIk97f67UlO\nafVXtc8TbfvSuZq0JGl2eq40vgCsmaL+6apa2ZZtAElWAOuAc1ufzyZZkGQB8BngEmAFcHlrC3BD\n29cbgBeBK1v9SuDFVv90aydJGqMZQ6OqvgG80Lm/tcCWqnqlqr4PTADnt2WiqnZV1Y+BLcDaJAHe\nDtzZ+m8GLhva1+a2fidwYWsvSRqTUZ5pXJ3kkXb7alGrnQU8O9Rmd6tNV38t8MOqOnBI/aB9te0v\ntfaSpDGZbWjcBLweWAnsBT41ZyOahSQbkuxMsnPfvn3jHIokndRmFRpV9VxV/aSqfgp8nsHtJ4A9\nwNlDTZe02nT1/cCpSRYeUj9oX237L7b2U43n5qpaVVWrFi9ePJspSZI6zCo0kpw59PGdwOSbVVuB\nde3Np2XAcuAB4EFgeXtT6hQGD8u3VlUBXwXe1fqvB+4e2tf6tv4u4L+29pKkMVk4U4MktwEXAKcn\n2Q1cC1yQZCVQwNPABwCq6vEkdwDfAQ4AV1XVT9p+rgbuBRYAm6rq8XaIjwJbknwS+BZwS6vfAvzH\nJBMMHsSvG3m2kqSRzBgaVXX5FOVbpqhNtr8OuG6K+jZg2xT1Xfzs9tZw/f8Avz3T+CRJx47fCJck\ndTM0JEndDA1JUjdDQ5LUzdCQJHUzNCRJ3QwNSVI3Q0OS1M3QkCR1MzQkSd0MDUlSN0NDktTN0JAk\ndTM0JEndDA1JUjdDQ5LUzdCQJHUzNCRJ3QwNSVI3Q0OS1G3G0EiyKcnzSR4bqv1xku8leSTJl5Oc\n2upLk/xtkofb8rmhPucleTTJRJIbk6TVT0uyPcmT7e+iVk9rN9GO85a5n74k6Uj0XGl8AVhzSG07\n8Oaq+qfAXwPXDG17qqpWtuWDQ/WbgPcDy9syuc+NwH1VtRy4r30GuGSo7YbWX5I0RjOGRlV9A3jh\nkNpXqupA+7gDWHK4fSQ5E3hNVe2oqgJuBS5rm9cCm9v65kPqt9bADuDUth9J0pjMxTON9wH3DH1e\nluRbSb6e5G2tdhawe6jN7lYDOKOq9rb1HwBnDPV5dpo+kqQxWDhK5yQfAw4AX2ylvcA5VbU/yXnA\nXyQ5t3d/VVVJahbj2MDgFhbnnHPOkXaXJHWa9ZVGkvcAvwn8m3bLiap6par2t/WHgKeANwJ7OPgW\n1pJWA3hu8rZT+/t8q+8Bzp6mz0Gq6uaqWlVVqxYvXjzbKUmSZjCr0EiyBvh94Leq6kdD9cVJFrT1\n1zF4iL2r3X56Ocnq9tbUFcDdrdtWYH1bX39I/Yr2FtVq4KWh21iSpDGY8fZUktuAC4DTk+wGrmXw\nttSrgO3tzdkd7U2pXwU+keT/Aj8FPlhVkw/RP8zgTaxXM3gGMvkc5HrgjiRXAs8A7271bcClwATw\nI+C9o0xUkjS6GUOjqi6fonzLNG3vAu6aZttO4M1T1PcDF05RL+CqmcYnSTp2/Ea4JKmboSFJ6mZo\nSJK6GRqSpG6GhiSpm6EhSepmaEiSuhkakqRuhoYkqZuhIUnqZmhIkroZGpKkboaGJKmboSFJ6mZo\nSJK6GRqSpG6GhiSpm6EhSepmaEiSuhkakqRuXaGRZFOS55M8NlQ7Lcn2JE+2v4taPUluTDKR5JEk\nbxnqs761fzLJ+qH6eUkebX1uTJLDHUOSNB69VxpfANYcUtsI3FdVy4H72meAS4DlbdkA3ASDAACu\nBd4KnA9cOxQCNwHvH+q3ZoZjSJLGoCs0quobwAuHlNcCm9v6ZuCyofqtNbADODXJmcDFwPaqeqGq\nXgS2A2vattdU1Y6qKuDWQ/Y11TEkSWMwyjONM6pqb1v/AXBGWz8LeHao3e5WO1x99xT1wx1DkjQG\nc/IgvF0h1FzsazbHSLIhyc4kO/ft23c0hyFJ89ooofFcu7VE+/t8q+8Bzh5qt6TVDldfMkX9cMc4\nSFXdXFWrqmrV4sWLR5iSJOlwRgmNrcDkG1DrgbuH6le0t6hWAy+1W0z3AhclWdQegF8E3Nu2vZxk\ndXtr6opD9jXVMSRJY7Cwp1GS24ALgNOT7GbwFtT1wB1JrgSeAd7dmm8DLgUmgB8B7wWoqheS/CHw\nYGv3iaqafLj+YQZvaL0auKctHOYYkqQx6AqNqrp8mk0XTtG2gKum2c8mYNMU9Z3Am6eo75/qGJKk\n8fAb4ZKkboaGJKmboSFJ6mZoSJK6GRqSpG6GhiSpm6EhSepmaEiSuhkakqRuhoYkqZuhIUnqZmhI\nkroZGpKkboaGJKmboSFJ6mZoSJK6GRqSpG6GhiSpm6EhSepmaEiSuhkakqRusw6NJG9K8vDQ8nKS\njyT5eJI9Q/VLh/pck2QiyRNJLh6qr2m1iSQbh+rLktzf6rcnOWX2U5UkjWrWoVFVT1TVyqpaCZwH\n/Aj4ctv86cltVbUNIMkKYB1wLrAG+GySBUkWAJ8BLgFWAJe3tgA3tH29AXgRuHK245UkjW6ubk9d\nCDxVVc8cps1aYEtVvVJV3wcmgPPbMlFVu6rqx8AWYG2SAG8H7mz9NwOXzdF4JUmzMFehsQ64bejz\n1UkeSbIpyaJWOwt4dqjN7labrv5a4IdVdeCQ+s9JsiHJziQ79+3bN/psJElTGjk02nOG3wK+1Eo3\nAa8HVgJ7gU+NeoyZVNXNVbWqqlYtXrz4aB9OkuathXOwj0uAb1bVcwCTfwGSfB74z+3jHuDsoX5L\nWo1p6vuBU5MsbFcbw+0lSWMwF6FxOUO3ppKcWVV728d3Ao+19a3AnyX5E+AfAsuBB4AAy5MsYxAK\n64B/XVWV5KvAuxg851gP3D0H45Wko2bpxr8c27Gfvv4dR/0YI4VGkl8AfgP4wFD5j5KsBAp4enJb\nVT2e5A7gO8AB4Kqq+knbz9XAvcACYFNVPd729VFgS5JPAt8CbhllvJKk0YwUGlX1vxk8sB6u/c5h\n2l8HXDdFfRuwbYr6LgZvV0mSjgN+I1yS1M3QkCR1MzQkSd0MDUlSN0NDktTN0JAkdTM0JEndDA1J\nUjdDQ5LUzdCQJHUzNCRJ3QwNSVI3Q0OS1M3QkCR1MzQkSd0MDUlSN0NDktTN0JAkdTM0JEndDA1J\nUreRQyPJ00keTfJwkp2tdlqS7UmebH8XtXqS3JhkIskjSd4ytJ/1rf2TSdYP1c9r+59ofTPqmCVJ\nszNXVxq/VlUrq2pV+7wRuK+qlgP3tc8AlwDL27IBuAkGIQNcC7wVOB+4djJoWpv3D/VbM0djliQd\noaN1e2otsLmtbwYuG6rfWgM7gFOTnAlcDGyvqheq6kVgO7CmbXtNVe2oqgJuHdqXJOkYm4vQKOAr\nSR5KsqHVzqiqvW39B8AZbf0s4Nmhvrtb7XD13VPUD5JkQ5KdSXbu27dv1PlIkqaxcA728StVtSfJ\nLwHbk3xveGNVVZKag+NMq6puBm4GWLVq1VE9liTNZyNfaVTVnvb3eeDLDJ5JPNduLdH+Pt+a7wHO\nHuq+pNUOV18yRV2SNAYjhUaSX0jy9yfXgYuAx4CtwOQbUOuBu9v6VuCK9hbVauCldhvrXuCiJIva\nA/CLgHvbtpeTrG5vTV0xtC9J0jE26u2pM4Avt7dgFwJ/VlX/JcmDwB1JrgSeAd7d2m8DLgUmgB8B\n7wWoqheS/CHwYGv3iap6oa1/GPgC8GrgnrZIksZgpNCoql3AP5uivh+4cIp6AVdNs69NwKYp6juB\nN48yTknS3PAb4ZKkboaGJKmboSFJ6mZoSJK6GRqSpG6GhiSpm6EhSepmaEiSuhkakqRuhoYkqZuh\nIUnqZmhIkroZGpKkboaGJKmboSFJ6mZoSJK6GRqSpG6GhiSpm6EhSepmaEiSus06NJKcneSrSb6T\n5PEkv9vqH0+yJ8nDbbl0qM81SSaSPJHk4qH6mlabSLJxqL4syf2tfnuSU2Y7XknS6Ea50jgA/F5V\nrQBWA1clWdG2fbqqVrZlG0Dbtg44F1gDfDbJgiQLgM8AlwArgMuH9nND29cbgBeBK0cYryRpRLMO\njaraW1XfbOv/E/gucNZhuqwFtlTVK1X1fWACOL8tE1W1q6p+DGwB1iYJ8HbgztZ/M3DZbMcrSRrd\nnDzTSLIU+OfA/a10dZJHkmxKsqjVzgKeHeq2u9Wmq78W+GFVHTikLkkak5FDI8nfA+4CPlJVLwM3\nAa8HVgJ7gU+NeoyOMWxIsjPJzn379h3tw0nSvDVSaCT5uwwC44tV9ecAVfVcVf2kqn4KfJ7B7SeA\nPcDZQ92XtNp09f3AqUkWHlL/OVV1c1WtqqpVixcvHmVKkqTDGOXtqQC3AN+tqj8Zqp851OydwGNt\nfSuwLsmrkiwDlgMPAA8Cy9ubUqcweFi+taoK+CrwrtZ/PXD3bMcrSRrdwpmbTOtfAL8DPJrk4Vb7\nAwZvP60ECnga+ABAVT2e5A7gOwzevLqqqn4CkORq4F5gAbCpqh5v+/sosCXJJ4FvMQgpSdKYzDo0\nquq/AZli07bD9LkOuG6K+rap+lXVLn52e0uSNGZ+I1yS1M3QkCR1MzQkSd0MDUlSN0NDktTN0JAk\ndTM0JEndDA1JUjdDQ5LUzdCQJHUzNCRJ3QwNSVI3Q0OS1M3QkCR1MzQkSd0MDUlSN0NDktTN0JAk\ndTM0JEndDA1JUrfjPjSSrEnyRJKJJBvHPR5Jms+O69BIsgD4DHAJsAK4PMmK8Y5Kkuav4zo0gPOB\niaraVVU/BrYAa8c8Jkmat4730DgLeHbo8+5WkySNwcJxD2AuJNkAbGgf/1eSJ2a5q9OBv5mbUR2Z\n3DCOowJjnPOYzLf5gnOeL07PDSPN+R/1NDreQ2MPcPbQ5yWtdpCquhm4edSDJdlZVatG3c+JZL7N\neb7NF5zzfHGs5ny83556EFieZFmSU4B1wNYxj0mS5q3j+kqjqg4kuRq4F1gAbKqqx8c8LEmat47r\n0ACoqm3AtmN0uJFvcZ2A5tuc59t8wTnPF8dkzqmqY3EcSdJJ4Hh/piFJOo7Mm9BI8ttJHk/y0ySr\nDtl2TfuZkieSXDxUn/InTNqD+ftb/fb2kP64lmRlkh1JHk6yM8n5rZ4kN7a5PJLkLUN91id5si3r\nxzf62Uvyb5N8r537PxqqH9E5P9Ek+b0kleT09vmkPM9J/rid30eSfDnJqUPbTupzPOmYz6eq5sUC\n/GPgTcDXgFVD9RXAt4FXAcuApxg8dF/Q1l8HnNLarGh97gDWtfXPAR8a9/w65v8V4JK2finwtaH1\ne4AAq4H7W/00YFf7u6itLxr3PI5wzr8G/BXwqvb5l2Z7zk+khcFr6vcCzwCnn8znGbgIWNjWbwBu\nmA/neGj+x3w+8+ZKo6q+W1VTfelvLbClql6pqu8DEwx+vmTKnzBJEuDtwJ2t/2bgsqM/g5EV8Jq2\n/ovA/2jra4Fba2AHcGqSM4GLge1V9UJVvQhsB9Yc60GP6EPA9VX1CkBVPd/qR3TOxzDuUX0a+H0G\n53zSSXmeq+orVXWgfdzB4LtccPKf40nHfD7zJjQOY7qfKpmu/lrgh0P/oJ4oP23yEeCPkzwL/Hvg\nmlY/0vmfSN4IvK3dSvx6kl9u9ZN2zknWAnuq6tuHbDpp5zzkfQyupmB+zBfGMJ/j/pXbI5Hkr4B/\nMMWmj1XV3cd6PMfa4eYPXAj8u6q6K8m7gVuAXz+W4zsaZpjzQga3XVYDvwzckeR1x3B4R8UMc/4D\nBrdsTho9/14n+RhwAPjisRzbfHRShUZVzeY/gof7qZKp6vsZXNovbFcbU/60yTgcbv5JbgV+t338\nEvCnbX26+e8BLjik/rU5GuqcmWHOHwL+vAY3fx9I8lMGv0l0pOf8uDLdnJP8Ewb37789uIvKEuCb\n7aWHE/Y8z/TvdZL3AL8JXNjONZzg5/gIdP3U0pwa94OcY73w8w/Cz+XgB2a7GDxcWtjWl/GzB0zn\ntj5f4uAH4R8e97w65v1d4IK2fiHwUFt/Bwc/IH2g1U8Dvs/g4eiitn7auOdxhHP+IPCJtv5GBpfx\nmc05PxEX4Gl+9iD8pDzPDJ6/fAdYfEh9vpzjYz6fsU/6GP6P+04G9/teAZ4D7h3a9jEGbyA8QXvD\nqNUvBf66bfvYUP11wAMMHq59ifZ2zvG8AL8CPNT+obofOK/Vw+D/6Oop4FEODtT3tTlOAO8d9xxm\nMedTgP8EPAZ8E3j7bM/5ibgcEhon5XluY34WeLgtn5tP53gc8/Eb4ZKkbr49JUnqZmhIkroZGpKk\nboaGJKmboSFJ6mZoSJK6GRqSpG6GhiSp2/8D7B4qYEGEUt0AAAAASUVORK5CYII=\n",
      "text/plain": [
       "<matplotlib.figure.Figure at 0x16a60eef0>"
      ]
     },
     "metadata": {},
     "output_type": "display_data"
    },
    {
     "name": "stdout",
     "output_type": "stream",
     "text": [
      "I am the feature 31\n"
     ]
    },
    {
     "data": {
      "image/png": "iVBORw0KGgoAAAANSUhEUgAAAY0AAAD9CAYAAABA8iukAAAABHNCSVQICAgIfAhkiAAAAAlwSFlz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\ngg==\n",
      "text/plain": [
       "<matplotlib.figure.Figure at 0x107e7c160>"
      ]
     },
     "metadata": {},
     "output_type": "display_data"
    }
   ],
   "source": [
    "'''Now that we know that we will have to handle with uncomputable values, it is interesting to have a quick view of the\n",
    "distribution of each feature. We will be able to see which features are more concernt about uncomputable values.\n",
    "'''\n",
    "for i in range(2,32):\n",
    "    \n",
    "    plt.hist(trainData.ix[:,i], 10)\n",
    "    print('I am feature ' + str(i))\n",
    "    plt.show()\n",
    "    "
   ]
  },
  {
   "cell_type": "code",
   "execution_count": 160,
   "metadata": {},
   "outputs": [],
   "source": [
    "'''\n",
    "After identify the features concerned by uncomputable values, we want to have an approximation about the number of samples\n",
    "that have in their uncomputable values in all of the features concerned.\n",
    "With the Histograms above, we identify 3 groups of features. s175k are the features that contain over 175k samples with\n",
    "uncomputable values i.e features 4,5,6,12,26,27,28. s100k are the features that contain over 100k samples with \n",
    "uncomputable values i.e features 23,24,25 and s40k follows the\n",
    "same idea with feature 0.\n",
    "'''\n",
    "\n",
    "\n",
    "allF = [0,4,5,6,12,23,24,25,26,27,28]\n",
    "s175k = [4,5,6,12,26,27,28]\n",
    "s100k = [23,24,25]\n",
    "sSup100k = [4,5,6,12,23,24,25,26,27,28] #features with 100k or more uncomputable values\n",
    "colsAnalysis = [allF, s175k,s100k,sSup100k]\n",
    "numberRSamples = []\n",
    "range(len(colsAnalysis))\n",
    "\n",
    "for j in range(len(colsAnalysis)):\n",
    "    pCols = features_train[:,colsAnalysis[j]]\n",
    "    ucSamples = []\n",
    "    for i in range(len(pCols)):\n",
    "\n",
    "        if all(pCols[i,:] <= -998.000):\n",
    "\n",
    "                ucSamples.append(i)\n",
    "            \n",
    "    numberRSamples.append(len(ucSamples))\n",
    "    \n"
   ]
  },
  {
   "cell_type": "code",
   "execution_count": 161,
   "metadata": {},
   "outputs": [
    {
     "data": {
      "text/html": [
       "<div>\n",
       "<style>\n",
       "    .dataframe thead tr:only-child th {\n",
       "        text-align: right;\n",
       "    }\n",
       "\n",
       "    .dataframe thead th {\n",
       "        text-align: left;\n",
       "    }\n",
       "\n",
       "    .dataframe tbody tr th {\n",
       "        vertical-align: top;\n",
       "    }\n",
       "</style>\n",
       "<table border=\"1\" class=\"dataframe\">\n",
       "  <thead>\n",
       "    <tr style=\"text-align: right;\">\n",
       "      <th></th>\n",
       "      <th>Sum of Values in the combined features</th>\n",
       "    </tr>\n",
       "  </thead>\n",
       "  <tbody>\n",
       "    <tr>\n",
       "      <th>All features containing -999 value</th>\n",
       "      <td>26123</td>\n",
       "    </tr>\n",
       "    <tr>\n",
       "      <th>Only Columns with 175k times -999 value</th>\n",
       "      <td>177457</td>\n",
       "    </tr>\n",
       "    <tr>\n",
       "      <th>Only Columns with 100k times -999 value</th>\n",
       "      <td>99913</td>\n",
       "    </tr>\n",
       "    <tr>\n",
       "      <th>Columns with 175k and 100k times -999 value</th>\n",
       "      <td>99913</td>\n",
       "    </tr>\n",
       "  </tbody>\n",
       "</table>\n",
       "</div>"
      ],
      "text/plain": [
       "                                             Sum of Values in the combined features\n",
       "All features containing -999 value                                            26123\n",
       " Only Columns with 175k times -999 value                                     177457\n",
       "Only Columns with 100k times -999 value                                       99913\n",
       "Columns with 175k and 100k times -999 value                                   99913"
      ]
     },
     "metadata": {},
     "output_type": "display_data"
    }
   ],
   "source": [
    "s = pd.DataFrame(numberRSamples, index=['All features containing -999 value', ' Only Columns with 175k times -999 value', 'Only Columns with 100k times -999 value', 'Columns with 175k and 100k times -999 value'])\n",
    "s.columns = ['Sum of Values in the combined features']\n",
    "display(s)"
   ]
  },
  {
   "cell_type": "markdown",
   "metadata": {},
   "source": [
    "# Ivan's Blocks"
   ]
  },
  {
   "cell_type": "code",
   "execution_count": null,
   "metadata": {
    "collapsed": true
   },
   "outputs": [],
   "source": [
    "# First block for Ivan\n",
    "print('Salut kikoo')"
   ]
  },
  {
   "cell_type": "code",
   "execution_count": null,
   "metadata": {
    "collapsed": true
   },
   "outputs": [],
   "source": [
    "import numpy as np"
   ]
  },
  {
   "cell_type": "code",
   "execution_count": null,
   "metadata": {
    "collapsed": true
   },
   "outputs": [],
   "source": [
    "print('encore une modification')"
   ]
  },
  {
   "cell_type": "code",
   "execution_count": null,
   "metadata": {
    "collapsed": true
   },
   "outputs": [],
   "source": []
  }
 ],
 "metadata": {
  "kernelspec": {
   "display_name": "Python 3",
   "language": "python",
   "name": "python3"
  },
  "language_info": {
   "codemirror_mode": {
    "name": "ipython",
    "version": 3
   },
   "file_extension": ".py",
   "mimetype": "text/x-python",
   "name": "python",
   "nbconvert_exporter": "python",
   "pygments_lexer": "ipython3",
   "version": "3.6.2"
  }
 },
 "nbformat": 4,
 "nbformat_minor": 2
}
